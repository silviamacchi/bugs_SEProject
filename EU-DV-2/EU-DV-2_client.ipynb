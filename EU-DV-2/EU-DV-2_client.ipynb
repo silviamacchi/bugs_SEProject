{
 "cells": [
  {
   "cell_type": "code",
   "execution_count": null,
   "id": "2b5002ae",
   "metadata": {},
   "outputs": [],
   "source": [
    "## EU-DV-2 Threshold definition  – time-series\n",
    "# The interface allow the expert user to define a threshold and select a \n",
    "# pollutant, a time window and a province and visualize a time series showing which days the \n",
    "# threshold has been exceeded and a percentage (exceeded days/total days).\n",
    "\n",
    "# - button select a pollutant\n",
    "# - button select threshold\n",
    "# - button select start day\n",
    "# - button select end day\n",
    "# - button select start mounth\n",
    "# - button select end mounth\n",
    "# - button select start year\n",
    "# - button select end year\n",
    "# - button select a province \n"
   ]
  },
  {
   "cell_type": "code",
   "execution_count": null,
   "id": "6295c462",
   "metadata": {},
   "outputs": [
    {
     "data": {
      "application/vnd.jupyter.widget-view+json": {
       "model_id": "15973a5557ad4a18aab8b4ee23981ed6",
       "version_major": 2,
       "version_minor": 0
      },
      "text/plain": [
       "Dropdown(description='Inquinante:', options=('Ammoniaca', 'Arsenico', 'Benzo(a)pirene', 'Benzene', 'Biossido d…"
      ]
     },
     "metadata": {},
     "output_type": "display_data"
    },
    {
     "data": {
      "application/vnd.jupyter.widget-view+json": {
       "model_id": "4c0e5a1d62c447b5930a450a9375d772",
       "version_major": 2,
       "version_minor": 0
      },
      "text/plain": [
       "Output()"
      ]
     },
     "metadata": {},
     "output_type": "display_data"
    },
    {
     "data": {
      "application/vnd.jupyter.widget-view+json": {
       "model_id": "5e9f79dcb5d446c49bd76fc96c384ca2",
       "version_major": 2,
       "version_minor": 0
      },
      "text/plain": [
       "Output()"
      ]
     },
     "metadata": {},
     "output_type": "display_data"
    },
    {
     "data": {
      "application/vnd.jupyter.widget-view+json": {
       "model_id": "54623f808d284044be59e4b60ee1b13a",
       "version_major": 2,
       "version_minor": 0
      },
      "text/plain": [
       "Output()"
      ]
     },
     "metadata": {},
     "output_type": "display_data"
    },
    {
     "ename": "NameError",
     "evalue": "name 'requests' is not defined",
     "output_type": "error",
     "traceback": [
      "\u001b[31m---------------------------------------------------------------------------\u001b[39m",
      "\u001b[31mNameError\u001b[39m                                 Traceback (most recent call last)",
      "\u001b[36mFile \u001b[39m\u001b[32mc:\\Users\\Davide\\anaconda3\\envs\\se4g_project\\Lib\\site-packages\\ipywidgets\\widgets\\widget.py:773\u001b[39m, in \u001b[36mWidget._handle_msg\u001b[39m\u001b[34m(self, msg)\u001b[39m\n\u001b[32m    771\u001b[39m         \u001b[38;5;28;01mif\u001b[39;00m \u001b[33m'\u001b[39m\u001b[33mbuffer_paths\u001b[39m\u001b[33m'\u001b[39m \u001b[38;5;129;01min\u001b[39;00m data:\n\u001b[32m    772\u001b[39m             _put_buffers(state, data[\u001b[33m'\u001b[39m\u001b[33mbuffer_paths\u001b[39m\u001b[33m'\u001b[39m], msg[\u001b[33m'\u001b[39m\u001b[33mbuffers\u001b[39m\u001b[33m'\u001b[39m])\n\u001b[32m--> \u001b[39m\u001b[32m773\u001b[39m         \u001b[38;5;28;43mself\u001b[39;49m\u001b[43m.\u001b[49m\u001b[43mset_state\u001b[49m\u001b[43m(\u001b[49m\u001b[43mstate\u001b[49m\u001b[43m)\u001b[49m\n\u001b[32m    775\u001b[39m \u001b[38;5;66;03m# Handle a state request.\u001b[39;00m\n\u001b[32m    776\u001b[39m \u001b[38;5;28;01melif\u001b[39;00m method == \u001b[33m'\u001b[39m\u001b[33mrequest_state\u001b[39m\u001b[33m'\u001b[39m:\n",
      "\u001b[36mFile \u001b[39m\u001b[32mc:\\Users\\Davide\\anaconda3\\envs\\se4g_project\\Lib\\site-packages\\ipywidgets\\widgets\\widget.py:650\u001b[39m, in \u001b[36mWidget.set_state\u001b[39m\u001b[34m(self, sync_data)\u001b[39m\n\u001b[32m    645\u001b[39m         \u001b[38;5;28mself\u001b[39m._send(msg, buffers=echo_buffers)\n\u001b[32m    647\u001b[39m \u001b[38;5;66;03m# The order of these context managers is important. Properties must\u001b[39;00m\n\u001b[32m    648\u001b[39m \u001b[38;5;66;03m# be locked when the hold_trait_notification context manager is\u001b[39;00m\n\u001b[32m    649\u001b[39m \u001b[38;5;66;03m# released and notifications are fired.\u001b[39;00m\n\u001b[32m--> \u001b[39m\u001b[32m650\u001b[39m \u001b[43m\u001b[49m\u001b[38;5;28;43;01mwith\u001b[39;49;00m\u001b[43m \u001b[49m\u001b[38;5;28;43mself\u001b[39;49m\u001b[43m.\u001b[49m\u001b[43m_lock_property\u001b[49m\u001b[43m(\u001b[49m\u001b[43m*\u001b[49m\u001b[43m*\u001b[49m\u001b[43msync_data\u001b[49m\u001b[43m)\u001b[49m\u001b[43m,\u001b[49m\u001b[43m \u001b[49m\u001b[38;5;28;43mself\u001b[39;49m\u001b[43m.\u001b[49m\u001b[43mhold_trait_notifications\u001b[49m\u001b[43m(\u001b[49m\u001b[43m)\u001b[49m\u001b[43m:\u001b[49m\n\u001b[32m    651\u001b[39m \u001b[43m    \u001b[49m\u001b[38;5;28;43;01mfor\u001b[39;49;00m\u001b[43m \u001b[49m\u001b[43mname\u001b[49m\u001b[43m \u001b[49m\u001b[38;5;129;43;01min\u001b[39;49;00m\u001b[43m \u001b[49m\u001b[43msync_data\u001b[49m\u001b[43m:\u001b[49m\n\u001b[32m    652\u001b[39m \u001b[43m        \u001b[49m\u001b[38;5;28;43;01mif\u001b[39;49;00m\u001b[43m \u001b[49m\u001b[43mname\u001b[49m\u001b[43m \u001b[49m\u001b[38;5;129;43;01min\u001b[39;49;00m\u001b[43m \u001b[49m\u001b[38;5;28;43mself\u001b[39;49m\u001b[43m.\u001b[49m\u001b[43mkeys\u001b[49m\u001b[43m:\u001b[49m\n",
      "\u001b[36mFile \u001b[39m\u001b[32mc:\\Users\\Davide\\anaconda3\\envs\\se4g_project\\Lib\\contextlib.py:148\u001b[39m, in \u001b[36m_GeneratorContextManager.__exit__\u001b[39m\u001b[34m(self, typ, value, traceback)\u001b[39m\n\u001b[32m    146\u001b[39m \u001b[38;5;28;01mif\u001b[39;00m typ \u001b[38;5;129;01mis\u001b[39;00m \u001b[38;5;28;01mNone\u001b[39;00m:\n\u001b[32m    147\u001b[39m     \u001b[38;5;28;01mtry\u001b[39;00m:\n\u001b[32m--> \u001b[39m\u001b[32m148\u001b[39m         \u001b[38;5;28;43mnext\u001b[39;49m\u001b[43m(\u001b[49m\u001b[38;5;28;43mself\u001b[39;49m\u001b[43m.\u001b[49m\u001b[43mgen\u001b[49m\u001b[43m)\u001b[49m\n\u001b[32m    149\u001b[39m     \u001b[38;5;28;01mexcept\u001b[39;00m \u001b[38;5;167;01mStopIteration\u001b[39;00m:\n\u001b[32m    150\u001b[39m         \u001b[38;5;28;01mreturn\u001b[39;00m \u001b[38;5;28;01mFalse\u001b[39;00m\n",
      "\u001b[36mFile \u001b[39m\u001b[32mc:\\Users\\Davide\\anaconda3\\envs\\se4g_project\\Lib\\site-packages\\traitlets\\traitlets.py:1510\u001b[39m, in \u001b[36mHasTraits.hold_trait_notifications\u001b[39m\u001b[34m(self)\u001b[39m\n\u001b[32m   1508\u001b[39m \u001b[38;5;28;01mfor\u001b[39;00m changes \u001b[38;5;129;01min\u001b[39;00m cache.values():\n\u001b[32m   1509\u001b[39m     \u001b[38;5;28;01mfor\u001b[39;00m change \u001b[38;5;129;01min\u001b[39;00m changes:\n\u001b[32m-> \u001b[39m\u001b[32m1510\u001b[39m         \u001b[38;5;28;43mself\u001b[39;49m\u001b[43m.\u001b[49m\u001b[43mnotify_change\u001b[49m\u001b[43m(\u001b[49m\u001b[43mchange\u001b[49m\u001b[43m)\u001b[49m\n",
      "\u001b[36mFile \u001b[39m\u001b[32mc:\\Users\\Davide\\anaconda3\\envs\\se4g_project\\Lib\\site-packages\\ipywidgets\\widgets\\widget.py:701\u001b[39m, in \u001b[36mWidget.notify_change\u001b[39m\u001b[34m(self, change)\u001b[39m\n\u001b[32m    698\u001b[39m     \u001b[38;5;28;01mif\u001b[39;00m name \u001b[38;5;129;01min\u001b[39;00m \u001b[38;5;28mself\u001b[39m.keys \u001b[38;5;129;01mand\u001b[39;00m \u001b[38;5;28mself\u001b[39m._should_send_property(name, \u001b[38;5;28mgetattr\u001b[39m(\u001b[38;5;28mself\u001b[39m, name)):\n\u001b[32m    699\u001b[39m         \u001b[38;5;66;03m# Send new state to front-end\u001b[39;00m\n\u001b[32m    700\u001b[39m         \u001b[38;5;28mself\u001b[39m.send_state(key=name)\n\u001b[32m--> \u001b[39m\u001b[32m701\u001b[39m \u001b[38;5;28;43msuper\u001b[39;49m\u001b[43m(\u001b[49m\u001b[43m)\u001b[49m\u001b[43m.\u001b[49m\u001b[43mnotify_change\u001b[49m\u001b[43m(\u001b[49m\u001b[43mchange\u001b[49m\u001b[43m)\u001b[49m\n",
      "\u001b[36mFile \u001b[39m\u001b[32mc:\\Users\\Davide\\anaconda3\\envs\\se4g_project\\Lib\\site-packages\\traitlets\\traitlets.py:1525\u001b[39m, in \u001b[36mHasTraits.notify_change\u001b[39m\u001b[34m(self, change)\u001b[39m\n\u001b[32m   1523\u001b[39m \u001b[38;5;28;01mdef\u001b[39;00m\u001b[38;5;250m \u001b[39m\u001b[34mnotify_change\u001b[39m(\u001b[38;5;28mself\u001b[39m, change: Bunch) -> \u001b[38;5;28;01mNone\u001b[39;00m:\n\u001b[32m   1524\u001b[39m \u001b[38;5;250m    \u001b[39m\u001b[33;03m\"\"\"Notify observers of a change event\"\"\"\u001b[39;00m\n\u001b[32m-> \u001b[39m\u001b[32m1525\u001b[39m     \u001b[38;5;28;01mreturn\u001b[39;00m \u001b[38;5;28;43mself\u001b[39;49m\u001b[43m.\u001b[49m\u001b[43m_notify_observers\u001b[49m\u001b[43m(\u001b[49m\u001b[43mchange\u001b[49m\u001b[43m)\u001b[49m\n",
      "\u001b[36mFile \u001b[39m\u001b[32mc:\\Users\\Davide\\anaconda3\\envs\\se4g_project\\Lib\\site-packages\\traitlets\\traitlets.py:1568\u001b[39m, in \u001b[36mHasTraits._notify_observers\u001b[39m\u001b[34m(self, event)\u001b[39m\n\u001b[32m   1565\u001b[39m \u001b[38;5;28;01melif\u001b[39;00m \u001b[38;5;28misinstance\u001b[39m(c, EventHandler) \u001b[38;5;129;01mand\u001b[39;00m c.name \u001b[38;5;129;01mis\u001b[39;00m \u001b[38;5;129;01mnot\u001b[39;00m \u001b[38;5;28;01mNone\u001b[39;00m:\n\u001b[32m   1566\u001b[39m     c = \u001b[38;5;28mgetattr\u001b[39m(\u001b[38;5;28mself\u001b[39m, c.name)\n\u001b[32m-> \u001b[39m\u001b[32m1568\u001b[39m \u001b[43mc\u001b[49m\u001b[43m(\u001b[49m\u001b[43mevent\u001b[49m\u001b[43m)\u001b[49m\n",
      "\u001b[36mCell\u001b[39m\u001b[36m \u001b[39m\u001b[32mIn[43]\u001b[39m\u001b[32m, line 76\u001b[39m, in \u001b[36mon_dropdown_change1.<locals>.on_slider_change2\u001b[39m\u001b[34m(slider_change)\u001b[39m\n\u001b[32m     74\u001b[39m     gdf.set_geometry(\u001b[33m'\u001b[39m\u001b[33mgeometry_province\u001b[39m\u001b[33m'\u001b[39m, inplace=\u001b[38;5;28;01mTrue\u001b[39;00m)\n\u001b[32m     75\u001b[39m     \u001b[38;5;28;01mreturn\u001b[39;00m gdf\n\u001b[32m---> \u001b[39m\u001b[32m76\u001b[39m prov=\u001b[43mget_province_shape\u001b[49m\u001b[43m(\u001b[49m\u001b[43m)\u001b[49m\n",
      "\u001b[36mCell\u001b[39m\u001b[36m \u001b[39m\u001b[32mIn[43]\u001b[39m\u001b[32m, line 70\u001b[39m, in \u001b[36mon_dropdown_change1.<locals>.on_slider_change2.<locals>.get_province_shape\u001b[39m\u001b[34m()\u001b[39m\n\u001b[32m     69\u001b[39m \u001b[38;5;28;01mdef\u001b[39;00m\u001b[38;5;250m \u001b[39m\u001b[34mget_province_shape\u001b[39m():\n\u001b[32m---> \u001b[39m\u001b[32m70\u001b[39m     t=\u001b[43mrequests\u001b[49m.get(url=\u001b[33m\"\u001b[39m\u001b[33mhttp://127.0.0.1:5000/api/province_shape\u001b[39m\u001b[33m\"\u001b[39m)\n\u001b[32m     71\u001b[39m     data = read_response(t)\n\u001b[32m     72\u001b[39m     gdf = gpd.GeoDataFrame(data)\n",
      "\u001b[31mNameError\u001b[39m: name 'requests' is not defined"
     ]
    }
   ],
   "source": [
    "import ipywidgets as widgets\n",
    "from IPython.display import display, clear_output\n",
    "import folium\n",
    "from folium import Map, Marker\n",
    "from IPython.display import IFrame\n",
    "import branca\n",
    "import requests\n",
    "import pandas as pd\n",
    "import geopandas as gpd\n",
    "from shapely import wkt\n",
    "import ipywidgets as widgets\n",
    "import matplotlib.pyplot as plt\n",
    "import folium\n",
    "from shapely.geometry import mapping\n",
    "import leafmap as leafmap\n",
    "from shapely.geometry import shape\n",
    "\n",
    "# Output dinamici\n",
    "output1 = widgets.Output()\n",
    "output2 = widgets.Output()\n",
    "output_map = widgets.Output()\n",
    "\n",
    "# Dropdown inquinanti\n",
    "dropdown = widgets.Dropdown(\n",
    "    options=[\n",
    "        \"Ammoniaca\", \"Arsenico\", \"Benzo(a)pirene\", \"Benzene\", \"Biossido di Azoto\",\n",
    "        \"Biossido di Zolfo\", \"BlackCarbon\", \"Cadmio\", \"Monossido di Azoto\",\n",
    "        \"Monossido di Carbonio\", \"Nikel\", \"Ossidi di Azoto\", \"Ozono\", \"PM10\",\n",
    "        \"PM10 (SM2005)\", \"Particelle sospese PM2.5\", \"Particolato Totale Sospeso\",\n",
    "        \"Piombo\"\n",
    "    ],\n",
    "    description='Inquinante:'\n",
    ")\n",
    "\n",
    "# Funzione per generare mappa Folium centrata sulla Lombardia\n",
    "def show_lombardia_map():\n",
    "    with output_map:\n",
    "        clear_output()\n",
    "        # Centro approssimativo Lombardia\n",
    "        m = folium.Map(location=[45.5, 9.5], zoom_start=8)\n",
    "        display(m)\n",
    "\n",
    "# Funzione quando cambia dropdown: mostra slider e collega evento\n",
    "def on_dropdown_change1(change):\n",
    "    if change['type'] == 'change' and change['name'] == 'value':\n",
    "        with output1:\n",
    "            clear_output()\n",
    "            slider = widgets.IntSlider(\n",
    "                value=0,\n",
    "                min=0,\n",
    "                max=80,\n",
    "                step=1,\n",
    "                description=f'Soglia ({change[\"new\"]}):',\n",
    "                continuous_update=False\n",
    "            )\n",
    "            display(slider)\n",
    "\n",
    "            def on_slider_change2(slider_change):\n",
    "                if slider_change['type'] == 'change' and slider_change['name'] == 'value':\n",
    "                    with output2:\n",
    "                        clear_output()\n",
    "\n",
    "                        # Date picker iniziale\n",
    "                        start_date = widgets.DatePicker(description='Inizio:')\n",
    "                        end_date = widgets.DatePicker(description='Fine:')\n",
    "\n",
    "                        # Bottone di conferma date\n",
    "                        confirm_button = widgets.Button(description='Conferma intervallo')\n",
    "\n",
    "                        # Funzione al click del bottone\n",
    "                        def on_confirm_clicked(b):\n",
    "                            if start_date.value and end_date.value:\n",
    "                                show_lombardia_map()\n",
    "\n",
    "                        confirm_button.on_click(on_confirm_clicked)\n",
    "\n",
    "                        display(widgets.VBox([start_date, end_date, confirm_button]))\n",
    "\n",
    "                    def get_province_shape():\n",
    "                        t=requests.get(url=\"http://127.0.0.1:5000/api/province_shape\")\n",
    "                        data = read_response(t)\n",
    "                        gdf = gpd.GeoDataFrame(data)\n",
    "                        gdf['geometry_province'] = gdf['geometry_province'].apply(wkt.loads)\n",
    "                        gdf.set_geometry('geometry_province', inplace=True)\n",
    "                        return gdf\n",
    "                    prov=get_province_shape()\n",
    "\n",
    "            slider.observe(on_slider_change2, names='value')\n",
    "\n",
    "dropdown.observe(on_dropdown_change1, names='value')\n",
    "\n",
    "# Mostra tutto\n",
    "display(dropdown)\n",
    "display(output1)\n",
    "display(output2)\n",
    "display(output_map)\n",
    "\n"
   ]
  },
  {
   "cell_type": "code",
   "execution_count": null,
   "id": "a3e3ede5",
   "metadata": {},
   "outputs": [],
   "source": [
    "# EU-DV-2 \n",
    "\n",
    "data = {\"var_pollutant\": \"Benzene\", \"var_start_date\" :\"2024-12-19 18:00:00\", \"var_end_date\" :\"2025-01-01 00:00:00\",\"var_province\":\"MILANO\"} #Right now data is a dictionary\n",
    "t=requests.post(url=\"http://127.0.0.1:5000/api/EU_DV_2\", json=data) \n",
    "\n",
    "try:\n",
    "    data = t.json() #This will convert the response to a json object\n",
    "    print(\"The query returned\", len(data), \"rows\")\n",
    "    print(type(data))\n",
    "except requests.exceptions.JSONDecodeError:\n",
    "    print(\"Risposta non valida JSON!\")\n",
    "    print(\"Contenuto della risposta:\", t.text)\n",
    "    data = None\n",
    "\n",
    "df = pd.DataFrame(data)\n",
    "print(df)"
   ]
  }
 ],
 "metadata": {
  "kernelspec": {
   "display_name": "se4g_project",
   "language": "python",
   "name": "python3"
  },
  "language_info": {
   "codemirror_mode": {
    "name": "ipython",
    "version": 3
   },
   "file_extension": ".py",
   "mimetype": "text/x-python",
   "name": "python",
   "nbconvert_exporter": "python",
   "pygments_lexer": "ipython3",
   "version": "3.13.2"
  }
 },
 "nbformat": 4,
 "nbformat_minor": 5
}
