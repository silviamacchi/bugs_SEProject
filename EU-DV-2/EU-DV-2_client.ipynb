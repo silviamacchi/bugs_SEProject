{
 "cells": [
  {
   "cell_type": "code",
   "execution_count": 69,
   "id": "2b5002ae",
   "metadata": {},
   "outputs": [],
   "source": [
    "## EU-DV-2 Threshold definition  – time-series\n",
    "# The interface allow the expert user to define a threshold and select a \n",
    "# pollutant, a time window and a province and visualize a time series showing which days the \n",
    "# threshold has been exceeded and a percentage (exceeded days/total days).\n",
    "\n",
    "# - button select a pollutant\n",
    "# - button select threshold\n",
    "# - button select start day\n",
    "# - button select end day\n",
    "# - button select start mounth\n",
    "# - button select end mounth\n",
    "# - button select start year\n",
    "# - button select end year\n",
    "# - button select a province \n"
   ]
  },
  {
   "cell_type": "code",
   "execution_count": 6,
   "id": "6295c462",
   "metadata": {},
   "outputs": [
    {
     "data": {
      "application/vnd.jupyter.widget-view+json": {
       "model_id": "fe08b1614c3e4fe48d698e13d3e7ddd8",
       "version_major": 2,
       "version_minor": 0
      },
      "text/plain": [
       "Dropdown(description='Inquinante:', options=('Ammoniaca', 'Arsenico', 'Benzo(a)pirene', 'Benzene', 'Biossido d…"
      ]
     },
     "metadata": {},
     "output_type": "display_data"
    },
    {
     "data": {
      "application/vnd.jupyter.widget-view+json": {
       "model_id": "870daaa6bd3d492a99605ab7a68f3334",
       "version_major": 2,
       "version_minor": 0
      },
      "text/plain": [
       "Output()"
      ]
     },
     "metadata": {},
     "output_type": "display_data"
    },
    {
     "data": {
      "application/vnd.jupyter.widget-view+json": {
       "model_id": "b01ef3acc6034a37a3cd396966135936",
       "version_major": 2,
       "version_minor": 0
      },
      "text/plain": [
       "Output()"
      ]
     },
     "metadata": {},
     "output_type": "display_data"
    },
    {
     "data": {
      "application/vnd.jupyter.widget-view+json": {
       "model_id": "61318a75f99546ba850f2acc27d1a3fc",
       "version_major": 2,
       "version_minor": 0
      },
      "text/plain": [
       "Output()"
      ]
     },
     "metadata": {},
     "output_type": "display_data"
    },
    {
     "ename": "ValueError",
     "evalue": "year 42024 is out of range",
     "output_type": "error",
     "traceback": [
      "\u001b[31m---------------------------------------------------------------------------\u001b[39m",
      "\u001b[31mValueError\u001b[39m                                Traceback (most recent call last)",
      "\u001b[36mFile \u001b[39m\u001b[32mc:\\Users\\Davide\\anaconda3\\envs\\se4g_project\\Lib\\site-packages\\ipywidgets\\widgets\\widget.py:773\u001b[39m, in \u001b[36mWidget._handle_msg\u001b[39m\u001b[34m(self, msg)\u001b[39m\n\u001b[32m    771\u001b[39m         \u001b[38;5;28;01mif\u001b[39;00m \u001b[33m'\u001b[39m\u001b[33mbuffer_paths\u001b[39m\u001b[33m'\u001b[39m \u001b[38;5;129;01min\u001b[39;00m data:\n\u001b[32m    772\u001b[39m             _put_buffers(state, data[\u001b[33m'\u001b[39m\u001b[33mbuffer_paths\u001b[39m\u001b[33m'\u001b[39m], msg[\u001b[33m'\u001b[39m\u001b[33mbuffers\u001b[39m\u001b[33m'\u001b[39m])\n\u001b[32m--> \u001b[39m\u001b[32m773\u001b[39m         \u001b[38;5;28;43mself\u001b[39;49m\u001b[43m.\u001b[49m\u001b[43mset_state\u001b[49m\u001b[43m(\u001b[49m\u001b[43mstate\u001b[49m\u001b[43m)\u001b[49m\n\u001b[32m    775\u001b[39m \u001b[38;5;66;03m# Handle a state request.\u001b[39;00m\n\u001b[32m    776\u001b[39m \u001b[38;5;28;01melif\u001b[39;00m method == \u001b[33m'\u001b[39m\u001b[33mrequest_state\u001b[39m\u001b[33m'\u001b[39m:\n",
      "\u001b[36mFile \u001b[39m\u001b[32mc:\\Users\\Davide\\anaconda3\\envs\\se4g_project\\Lib\\site-packages\\ipywidgets\\widgets\\widget.py:655\u001b[39m, in \u001b[36mWidget.set_state\u001b[39m\u001b[34m(self, sync_data)\u001b[39m\n\u001b[32m    652\u001b[39m \u001b[38;5;28;01mif\u001b[39;00m name \u001b[38;5;129;01min\u001b[39;00m \u001b[38;5;28mself\u001b[39m.keys:\n\u001b[32m    653\u001b[39m     from_json = \u001b[38;5;28mself\u001b[39m.trait_metadata(name, \u001b[33m'\u001b[39m\u001b[33mfrom_json\u001b[39m\u001b[33m'\u001b[39m,\n\u001b[32m    654\u001b[39m                                     \u001b[38;5;28mself\u001b[39m._trait_from_json)\n\u001b[32m--> \u001b[39m\u001b[32m655\u001b[39m     \u001b[38;5;28mself\u001b[39m.set_trait(name, \u001b[43mfrom_json\u001b[49m\u001b[43m(\u001b[49m\u001b[43msync_data\u001b[49m\u001b[43m[\u001b[49m\u001b[43mname\u001b[49m\u001b[43m]\u001b[49m\u001b[43m,\u001b[49m\u001b[43m \u001b[49m\u001b[38;5;28;43mself\u001b[39;49m\u001b[43m)\u001b[49m)\n",
      "\u001b[36mFile \u001b[39m\u001b[32mc:\\Users\\Davide\\anaconda3\\envs\\se4g_project\\Lib\\site-packages\\ipywidgets\\widgets\\trait_types.py:257\u001b[39m, in \u001b[36mdate_from_json\u001b[39m\u001b[34m(js, manager)\u001b[39m\n\u001b[32m    255\u001b[39m     \u001b[38;5;28;01mreturn\u001b[39;00m \u001b[38;5;28;01mNone\u001b[39;00m\n\u001b[32m    256\u001b[39m \u001b[38;5;28;01melse\u001b[39;00m:\n\u001b[32m--> \u001b[39m\u001b[32m257\u001b[39m     \u001b[38;5;28;01mreturn\u001b[39;00m \u001b[43mdt\u001b[49m\u001b[43m.\u001b[49m\u001b[43mdate\u001b[49m\u001b[43m(\u001b[49m\n\u001b[32m    258\u001b[39m \u001b[43m        \u001b[49m\u001b[43mjs\u001b[49m\u001b[43m[\u001b[49m\u001b[33;43m'\u001b[39;49m\u001b[33;43myear\u001b[39;49m\u001b[33;43m'\u001b[39;49m\u001b[43m]\u001b[49m\u001b[43m,\u001b[49m\n\u001b[32m    259\u001b[39m \u001b[43m        \u001b[49m\u001b[43mjs\u001b[49m\u001b[43m[\u001b[49m\u001b[33;43m'\u001b[39;49m\u001b[33;43mmonth\u001b[39;49m\u001b[33;43m'\u001b[39;49m\u001b[43m]\u001b[49m\u001b[43m \u001b[49m\u001b[43m+\u001b[49m\u001b[43m \u001b[49m\u001b[32;43m1\u001b[39;49m\u001b[43m,\u001b[49m\u001b[43m  \u001b[49m\u001b[38;5;66;43;03m# Months are 1-based in Python\u001b[39;49;00m\n\u001b[32m    260\u001b[39m \u001b[43m        \u001b[49m\u001b[43mjs\u001b[49m\u001b[43m[\u001b[49m\u001b[33;43m'\u001b[39;49m\u001b[33;43mdate\u001b[39;49m\u001b[33;43m'\u001b[39;49m\u001b[43m]\u001b[49m\u001b[43m,\u001b[49m\n\u001b[32m    261\u001b[39m \u001b[43m    \u001b[49m\u001b[43m)\u001b[49m\n",
      "\u001b[31mValueError\u001b[39m: year 42024 is out of range"
     ]
    }
   ],
   "source": [
    "import ipywidgets as widgets\n",
    "from IPython.display import display, clear_output\n",
    "\n",
    "selected_threshold = {\"value\": None}\n",
    "\n",
    "# Output dinamici\n",
    "output1 = widgets.Output()\n",
    "output2 = widgets.Output()\n",
    "output3 = widgets.Output()\n",
    "\n",
    "# Dropdown inquinanti\n",
    "dropdown = widgets.Dropdown(\n",
    "    options=[\n",
    "        \"Ammoniaca\", \"Arsenico\", \"Benzo(a)pirene\", \"Benzene\", \"Biossido di Azoto\",\n",
    "        \"Biossido di Zolfo\", \"BlackCarbon\", \"Cadmio\", \"Monossido di Azoto\",\n",
    "        \"Monossido di Carbonio\", \"Nikel\", \"Ossidi di Azoto\", \"Ozono\", \"PM10\",\n",
    "        \"PM10 (SM2005)\", \"Particelle sospese PM2.5\", \"Particolato Totale Sospeso\",\n",
    "        \"Piombo\"\n",
    "    ],\n",
    "    description='Inquinante:'\n",
    ")\n",
    "\n",
    "# Province della Lombardia\n",
    "province_lombardia = [\n",
    "    \"Bergamo\", \"Brescia\", \"Como\", \"Cremona\", \"Lecco\", \"Lodi\",\n",
    "    \"Mantova\", \"Milano\", \"Monza e della Brianza\", \"Pavia\",\n",
    "    \"Sondrio\", \"Varese\"\n",
    "]\n",
    "\n",
    "# Dropdown province (non visualizzato finché non vengono scelte le date)\n",
    "dropdown_prov = widgets.Dropdown(\n",
    "    options=province_lombardia,\n",
    "    description='Provincia:'\n",
    ")\n",
    "\n",
    "# Funzione quando cambia dropdown inquinante: mostra slider\n",
    "def on_dropdown_change1(change):\n",
    "    if change['type'] == 'change' and change['name'] == 'value':\n",
    "        with output1:\n",
    "            clear_output()\n",
    "            slider = widgets.IntSlider(\n",
    "                value=0,\n",
    "                min=0,\n",
    "                max=80,\n",
    "                step=1,\n",
    "                description=f'Soglia ({change[\"new\"]}):',\n",
    "                continuous_update=False\n",
    "            )\n",
    "            display(slider)\n",
    "\n",
    "            # Funzione quando cambia lo slider: mostra i DatePicker\n",
    "            def on_slider_change2(slider_change):\n",
    "                if slider_change['type'] == 'change' and slider_change['name'] == 'value':\n",
    "                    selected_threshold[\"value\"] = slider_change[\"new\"]\n",
    "                    with output2:\n",
    "                        clear_output()\n",
    "                        global start_date, end_date  # Rende visibili fuori\n",
    "                        start_date = widgets.DatePicker(description='Inizio:')\n",
    "                        end_date = widgets.DatePicker(description='Fine:')\n",
    "\n",
    "                        def check_dates(_):\n",
    "                            if start_date.value and end_date.value:\n",
    "                                with output3:\n",
    "                                    clear_output()\n",
    "                                    display(dropdown_prov)\n",
    "\n",
    "                        # Monitora cambiamenti alle date\n",
    "                        start_date.observe(check_dates, names='value')\n",
    "                        end_date.observe(check_dates, names='value')\n",
    "\n",
    "                        display(widgets.VBox([start_date, end_date]))\n",
    "\n",
    "            slider.observe(on_slider_change2, names='value')\n",
    "\n",
    "# Collega eventi\n",
    "dropdown.observe(on_dropdown_change1, names='value')\n",
    "\n",
    "# Visualizzazione finale\n",
    "display(dropdown)\n",
    "display(output1)\n",
    "display(output2)\n",
    "display(output3)\n",
    "\n",
    "\n"
   ]
  },
  {
   "cell_type": "code",
   "execution_count": 25,
   "id": "e2340934",
   "metadata": {},
   "outputs": [
    {
     "data": {
      "text/plain": [
       "{'var_pollutant': 'Ozono',\n",
       " 'var_start_date': '2024-12-20 00:00:00',\n",
       " 'var_end_date': '2024-12-22 24:00:00',\n",
       " 'var_province': 'MILANO',\n",
       " 'var_threshold': 40}"
      ]
     },
     "execution_count": 25,
     "metadata": {},
     "output_type": "execute_result"
    }
   ],
   "source": [
    "from datetime import date\n",
    "\n",
    "# Assicurati che start_date.value ed end_date.value non siano None\n",
    "if start_date.value and end_date.value:\n",
    "    data = {\n",
    "        \"var_pollutant\": dropdown.value,\n",
    "        \"var_start_date\": start_date.value.strftime('%Y-%m-%d 00:00:00'),\n",
    "        \"var_end_date\": end_date.value.strftime('%Y-%m-%d 24:00:00'),\n",
    "        \"var_province\": dropdown_prov.value.upper(),\n",
    "        \"var_threshold\": selected_threshold[\"value\"]\n",
    "    }\n",
    "\n",
    "data\n",
    "\n"
   ]
  },
  {
   "cell_type": "code",
   "execution_count": 26,
   "id": "a3e3ede5",
   "metadata": {},
   "outputs": [
    {
     "name": "stdout",
     "output_type": "stream",
     "text": [
      "The query returned 108 rows\n",
      "<class 'list'>\n",
      "                              data  valore\n",
      "0    Fri, 20 Dec 2024 13:00:00 GMT    46.5\n",
      "1    Fri, 20 Dec 2024 14:00:00 GMT    48.9\n",
      "2    Fri, 20 Dec 2024 15:00:00 GMT    51.5\n",
      "3    Fri, 20 Dec 2024 16:00:00 GMT    44.2\n",
      "4    Fri, 20 Dec 2024 17:00:00 GMT    41.8\n",
      "..                             ...     ...\n",
      "103  Sat, 21 Dec 2024 12:00:00 GMT    42.9\n",
      "104  Sat, 21 Dec 2024 13:00:00 GMT    52.4\n",
      "105  Sat, 21 Dec 2024 14:00:00 GMT    51.2\n",
      "106  Sat, 21 Dec 2024 15:00:00 GMT    51.0\n",
      "107  Sat, 21 Dec 2024 16:00:00 GMT    50.2\n",
      "\n",
      "[108 rows x 2 columns]\n",
      "Giorni unici: 2\n"
     ]
    }
   ],
   "source": [
    "# EU-DV-2 \n",
    "\n",
    "import requests\n",
    "import pandas as pd\n",
    "import json\n",
    "\n",
    "t=requests.post(url=\"http://127.0.0.1:5000/api/EU_DV_2\", json=data) \n",
    "\n",
    "try:\n",
    "    data = t.json() #This will convert the response to a json object\n",
    "    print(\"The query returned\", len(data), \"rows\")\n",
    "    print(type(data))\n",
    "except requests.exceptions.JSONDecodeError:\n",
    "    print(\"Risposta non valida JSON!\")\n",
    "    print(\"Contenuto della risposta:\", t.text)\n",
    "    data = None\n",
    "\n",
    "df = pd.DataFrame(data)\n",
    "print(df)\n",
    "\n",
    "df['data'] = pd.to_datetime(df['data'], errors='raise')\n",
    "exceeded_days = df['data'].dt.date.nunique()\n",
    "print(f\"Giorni unici: {exceeded_days}\")"
   ]
  },
  {
   "cell_type": "code",
   "execution_count": 28,
   "id": "3ed95904",
   "metadata": {},
   "outputs": [
    {
     "name": "stdout",
     "output_type": "stream",
     "text": [
      "The query returned 438 rows\n",
      "<class 'list'>\n",
      "                              data  valore\n",
      "0    Fri, 20 Dec 2024 00:00:00 GMT     1.0\n",
      "1    Fri, 20 Dec 2024 01:00:00 GMT     0.8\n",
      "2    Fri, 20 Dec 2024 02:00:00 GMT     0.2\n",
      "3    Fri, 20 Dec 2024 03:00:00 GMT     7.0\n",
      "4    Fri, 20 Dec 2024 04:00:00 GMT    32.0\n",
      "..                             ...     ...\n",
      "433  Sun, 22 Dec 2024 20:00:00 GMT     4.8\n",
      "434  Sun, 22 Dec 2024 21:00:00 GMT     2.8\n",
      "435  Sun, 22 Dec 2024 22:00:00 GMT     2.6\n",
      "436  Sun, 22 Dec 2024 23:00:00 GMT     2.8\n",
      "437  Mon, 23 Dec 2024 00:00:00 GMT     4.7\n",
      "\n",
      "[438 rows x 2 columns]\n",
      "Giorni unici: 4\n"
     ]
    }
   ],
   "source": [
    "data = {\"var_province\": dropdown_prov.value.upper(),\n",
    "        \"var_pollutant\": dropdown.value,\n",
    "        \"var_start_date\": start_date.value.strftime('%Y-%m-%d 00:00:00'),\n",
    "        \"var_end_date\": end_date.value.strftime('%Y-%m-%d 24:00:00'),\n",
    "        } \n",
    "\n",
    "t=requests.post(url=\"http://127.0.0.1:5000/api/DV_7provinciamod\", json=data) \n",
    "\n",
    "try:\n",
    "    data = t.json() #This will convert the response to a json object\n",
    "    print(\"The query returned\", len(data), \"rows\")\n",
    "    print(type(data))\n",
    "except requests.exceptions.JSONDecodeError:\n",
    "    print(\"Risposta non valida JSON!\")\n",
    "    print(\"Contenuto della risposta:\", t.text)\n",
    "    data = None\n",
    "\n",
    "df = pd.DataFrame(data)\n",
    "print(df)\n",
    "\n",
    "df['data'] = pd.to_datetime(df['data'], errors='raise')\n",
    "totaldays = df['data'].dt.date.nunique()\n",
    "print(f\"Giorni unici: {totaldays}\")\n"
   ]
  },
  {
   "cell_type": "code",
   "execution_count": 23,
   "id": "55b2fd6a",
   "metadata": {},
   "outputs": [
    {
     "name": "stdout",
     "output_type": "stream",
     "text": [
      "Percentage of days in which the threshold has been exceeded : 50.0\n"
     ]
    }
   ],
   "source": [
    "# visualize a time series showing which days the threshold has been exceeded and a percentage (exceeded days/total days).\n",
    "\n",
    "percentage=0\n",
    "percentage=(exceeded_days/totaldays)*100\n",
    "print(f\"Percentage of days in which the threshold has been exceeded : {percentage}\")\n"
   ]
  }
 ],
 "metadata": {
  "kernelspec": {
   "display_name": "se4g_project",
   "language": "python",
   "name": "python3"
  },
  "language_info": {
   "codemirror_mode": {
    "name": "ipython",
    "version": 3
   },
   "file_extension": ".py",
   "mimetype": "text/x-python",
   "name": "python",
   "nbconvert_exporter": "python",
   "pygments_lexer": "ipython3",
   "version": "3.13.2"
  }
 },
 "nbformat": 4,
 "nbformat_minor": 5
}
