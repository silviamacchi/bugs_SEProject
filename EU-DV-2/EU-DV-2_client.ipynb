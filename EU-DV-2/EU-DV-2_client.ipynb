{
 "cells": [
  {
   "cell_type": "code",
   "execution_count": 69,
   "id": "2b5002ae",
   "metadata": {},
   "outputs": [],
   "source": [
    "## EU-DV-2 Threshold definition  – time-series\n",
    "# The interface allow the expert user to define a threshold and select a \n",
    "# pollutant, a time window and a province and visualize a time series showing which days the \n",
    "# threshold has been exceeded and a percentage (exceeded days/total days).\n",
    "\n",
    "# - button select a pollutant\n",
    "# - button select threshold\n",
    "# - button select start day\n",
    "# - button select end day\n",
    "# - button select start mounth\n",
    "# - button select end mounth\n",
    "# - button select start year\n",
    "# - button select end year\n",
    "# - button select a province \n"
   ]
  },
  {
   "cell_type": "code",
   "execution_count": 95,
   "id": "6295c462",
   "metadata": {},
   "outputs": [
    {
     "data": {
      "application/vnd.jupyter.widget-view+json": {
       "model_id": "7871207d673141199bb375053217812c",
       "version_major": 2,
       "version_minor": 0
      },
      "text/plain": [
       "Dropdown(description='Inquinante:', options=('Ammoniaca', 'Arsenico', 'Benzo(a)pirene', 'Benzene', 'Biossido d…"
      ]
     },
     "metadata": {},
     "output_type": "display_data"
    },
    {
     "data": {
      "application/vnd.jupyter.widget-view+json": {
       "model_id": "42f94c0c50314763a1d65f7837df7e07",
       "version_major": 2,
       "version_minor": 0
      },
      "text/plain": [
       "Output()"
      ]
     },
     "metadata": {},
     "output_type": "display_data"
    },
    {
     "data": {
      "application/vnd.jupyter.widget-view+json": {
       "model_id": "223d1c81e11242b6a3048872b6850358",
       "version_major": 2,
       "version_minor": 0
      },
      "text/plain": [
       "Output()"
      ]
     },
     "metadata": {},
     "output_type": "display_data"
    },
    {
     "data": {
      "application/vnd.jupyter.widget-view+json": {
       "model_id": "e12ab79b7e984cfbb4a74d0c4e8d9123",
       "version_major": 2,
       "version_minor": 0
      },
      "text/plain": [
       "Output()"
      ]
     },
     "metadata": {},
     "output_type": "display_data"
    }
   ],
   "source": [
    "import ipywidgets as widgets\n",
    "from IPython.display import display, clear_output\n",
    "\n",
    "# Output dinamici\n",
    "output1 = widgets.Output()\n",
    "output2 = widgets.Output()\n",
    "output3 = widgets.Output()\n",
    "\n",
    "# Dropdown inquinanti\n",
    "dropdown = widgets.Dropdown(\n",
    "    options=[\n",
    "        \"Ammoniaca\", \"Arsenico\", \"Benzo(a)pirene\", \"Benzene\", \"Biossido di Azoto\",\n",
    "        \"Biossido di Zolfo\", \"BlackCarbon\", \"Cadmio\", \"Monossido di Azoto\",\n",
    "        \"Monossido di Carbonio\", \"Nikel\", \"Ossidi di Azoto\", \"Ozono\", \"PM10\",\n",
    "        \"PM10 (SM2005)\", \"Particelle sospese PM2.5\", \"Particolato Totale Sospeso\",\n",
    "        \"Piombo\"\n",
    "    ],\n",
    "    description='Inquinante:'\n",
    ")\n",
    "\n",
    "# Province della Lombardia\n",
    "province_lombardia = [\n",
    "    \"Bergamo\", \"Brescia\", \"Como\", \"Cremona\", \"Lecco\", \"Lodi\",\n",
    "    \"Mantova\", \"Milano\", \"Monza e della Brianza\", \"Pavia\",\n",
    "    \"Sondrio\", \"Varese\"\n",
    "]\n",
    "\n",
    "# Dropdown province (non visualizzato finché non vengono scelte le date)\n",
    "dropdown_prov = widgets.Dropdown(\n",
    "    options=province_lombardia,\n",
    "    description='Provincia:'\n",
    ")\n",
    "\n",
    "# Funzione quando cambia dropdown inquinante: mostra slider\n",
    "def on_dropdown_change1(change):\n",
    "    if change['type'] == 'change' and change['name'] == 'value':\n",
    "        with output1:\n",
    "            clear_output()\n",
    "            slider = widgets.IntSlider(\n",
    "                value=0,\n",
    "                min=0,\n",
    "                max=80,\n",
    "                step=1,\n",
    "                description=f'Soglia ({change[\"new\"]}):',\n",
    "                continuous_update=False\n",
    "            )\n",
    "            display(slider)\n",
    "\n",
    "            # Funzione quando cambia lo slider: mostra i DatePicker\n",
    "            def on_slider_change2(slider_change):\n",
    "                if slider_change['type'] == 'change' and slider_change['name'] == 'value':\n",
    "                    with output2:\n",
    "                        clear_output()\n",
    "                        global start_date, end_date  # Rende visibili fuori\n",
    "                        start_date = widgets.DatePicker(description='Inizio:')\n",
    "                        end_date = widgets.DatePicker(description='Fine:')\n",
    "\n",
    "                        def check_dates(_):\n",
    "                            if start_date.value and end_date.value:\n",
    "                                with output3:\n",
    "                                    clear_output()\n",
    "                                    display(dropdown_prov)\n",
    "\n",
    "                        # Monitora cambiamenti alle date\n",
    "                        start_date.observe(check_dates, names='value')\n",
    "                        end_date.observe(check_dates, names='value')\n",
    "\n",
    "                        display(widgets.VBox([start_date, end_date]))\n",
    "\n",
    "            slider.observe(on_slider_change2, names='value')\n",
    "\n",
    "# Collega eventi\n",
    "dropdown.observe(on_dropdown_change1, names='value')\n",
    "\n",
    "# Visualizzazione finale\n",
    "display(dropdown)\n",
    "display(output1)\n",
    "display(output2)\n",
    "display(output3)\n",
    "\n",
    "\n"
   ]
  },
  {
   "cell_type": "code",
   "execution_count": 97,
   "id": "e2340934",
   "metadata": {},
   "outputs": [
    {
     "data": {
      "text/plain": [
       "{'var_pollutant': 'Ossidi di Azoto',\n",
       " 'var_start_date': '2021-03-03',\n",
       " 'var_end_date': '2022-03-03',\n",
       " 'var_province': 'Monza e della Brianza'}"
      ]
     },
     "execution_count": 97,
     "metadata": {},
     "output_type": "execute_result"
    }
   ],
   "source": [
    "from datetime import date\n",
    "\n",
    "# Assicurati che start_date.value ed end_date.value non siano None\n",
    "if start_date.value and end_date.value:\n",
    "    data = {\n",
    "        \"var_pollutant\": dropdown.value,\n",
    "        \"var_start_date\": start_date.value.strftime('%Y-%m-%d'),\n",
    "        \"var_end_date\": end_date.value.strftime('%Y-%m-%d'),\n",
    "        \"var_province\": dropdown_prov.value\n",
    "    }\n",
    "\n",
    "data\n"
   ]
  },
  {
   "cell_type": "code",
   "execution_count": 96,
   "id": "a3e3ede5",
   "metadata": {},
   "outputs": [
    {
     "name": "stdout",
     "output_type": "stream",
     "text": [
      "The query returned 0 rows\n",
      "<class 'list'>\n",
      "Empty DataFrame\n",
      "Columns: []\n",
      "Index: []\n"
     ]
    }
   ],
   "source": [
    "# EU-DV-2 \n",
    "\n",
    "data = {\"var_pollutant\": dropdown.value, \"var_start_date\":start_date.value.strftime('%Y-%m-%d'), \"var_end_date\" : end_date.value.strftime('%Y-%m-%d'),\"var_province\":dropdown_prov.value} #Right now data is a dictionary\n",
    "t=requests.post(url=\"http://127.0.0.1:5000/api/EU_DV_2\", json=data) \n",
    "\n",
    "try:\n",
    "    data = t.json() #This will convert the response to a json object\n",
    "    print(\"The query returned\", len(data), \"rows\")\n",
    "    print(type(data))\n",
    "except requests.exceptions.JSONDecodeError:\n",
    "    print(\"Risposta non valida JSON!\")\n",
    "    print(\"Contenuto della risposta:\", t.text)\n",
    "    data = None\n",
    "\n",
    "df = pd.DataFrame(data)\n",
    "print(df)"
   ]
  }
 ],
 "metadata": {
  "kernelspec": {
   "display_name": "se4g_project",
   "language": "python",
   "name": "python3"
  },
  "language_info": {
   "codemirror_mode": {
    "name": "ipython",
    "version": 3
   },
   "file_extension": ".py",
   "mimetype": "text/x-python",
   "name": "python",
   "nbconvert_exporter": "python",
   "pygments_lexer": "ipython3",
   "version": "3.13.2"
  }
 },
 "nbformat": 4,
 "nbformat_minor": 5
}
