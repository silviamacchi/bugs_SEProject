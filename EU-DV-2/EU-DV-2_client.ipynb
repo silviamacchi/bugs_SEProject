{
 "cells": [
  {
   "cell_type": "code",
   "execution_count": null,
   "id": "2b5002ae",
   "metadata": {},
   "outputs": [],
   "source": [
    "## EU-DV-2 Threshold definition  – time-series\n",
    "# The interface allow the expert user to define a threshold and select a \n",
    "# pollutant, a time window and a province and visualize a time series showing which days the \n",
    "# threshold has been exceeded and a percentage (exceeded days/total days).\n",
    "\n",
    "# - button select threshold\n",
    "# - button select a pollutant\n",
    "# - button select start day\n",
    "# - button select end day\n",
    "# - button select start mounth\n",
    "# - button select end mounth\n",
    "# - button select start year\n",
    "# - button select end year\n",
    "# - button select a province \n"
   ]
  },
  {
   "cell_type": "code",
   "execution_count": null,
   "id": "6295c462",
   "metadata": {},
   "outputs": [],
   "source": [
    "import ipywidgets as widgets\n",
    "\n",
    "# Slider\n",
    "slider = widgets.IntSlider(\n",
    "    value=0,\n",
    "    min=0,\n",
    "    max=10,\n",
    "    step=2,\n",
    "    description='Test:',\n",
    "    disabled=False,\n",
    "    continuous_update=False,\n",
    "    orientation='horizontal',\n",
    "    readout=True,\n",
    "    readout_format='d'\n",
    ")\n",
    "slider"
   ]
  }
 ],
 "metadata": {
  "kernelspec": {
   "display_name": "se4g_project",
   "language": "python",
   "name": "python3"
  },
  "language_info": {
   "name": "python",
   "version": "3.13.2"
  }
 },
 "nbformat": 4,
 "nbformat_minor": 5
}
