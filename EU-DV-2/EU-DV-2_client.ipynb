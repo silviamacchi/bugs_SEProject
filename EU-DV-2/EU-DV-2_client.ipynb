{
 "cells": [
  {
   "cell_type": "code",
   "execution_count": null,
   "id": "2b5002ae",
   "metadata": {},
   "outputs": [],
   "source": [
    "## EU-DV-2 Threshold definition  – time-series\n",
    "# The interface allow the expert user to define a threshold and select a \n",
    "# pollutant, a time window and a province and visualize a time series showing which days the \n",
    "# threshold has been exceeded and a percentage (exceeded days/total days).\n",
    "\n",
    "# - button select a pollutant\n",
    "# - button select threshold\n",
    "# - button select start day\n",
    "# - button select end day\n",
    "# - button select start mounth\n",
    "# - button select end mounth\n",
    "# - button select start year\n",
    "# - button select end year\n",
    "# - button select a province \n"
   ]
  },
  {
   "cell_type": "code",
   "execution_count": 59,
   "id": "6295c462",
   "metadata": {},
   "outputs": [
    {
     "data": {
      "application/vnd.jupyter.widget-view+json": {
       "model_id": "0734e84d124b4850bf3964bcb64b325f",
       "version_major": 2,
       "version_minor": 0
      },
      "text/plain": [
       "Dropdown(description='Inquinante:', options=('Ammoniaca', 'Arsenico', 'Benzo(a)pirene', 'Benzene', 'Biossido d…"
      ]
     },
     "metadata": {},
     "output_type": "display_data"
    },
    {
     "data": {
      "application/vnd.jupyter.widget-view+json": {
       "model_id": "2c378dff3b9246e584a918d3e7f402a4",
       "version_major": 2,
       "version_minor": 0
      },
      "text/plain": [
       "Output()"
      ]
     },
     "metadata": {},
     "output_type": "display_data"
    },
    {
     "data": {
      "application/vnd.jupyter.widget-view+json": {
       "model_id": "298186d7d19b41b089b16b47e15989ca",
       "version_major": 2,
       "version_minor": 0
      },
      "text/plain": [
       "Output()"
      ]
     },
     "metadata": {},
     "output_type": "display_data"
    },
    {
     "data": {
      "application/vnd.jupyter.widget-view+json": {
       "model_id": "7395752f992f403cb9b3c97c4dd15f0b",
       "version_major": 2,
       "version_minor": 0
      },
      "text/plain": [
       "Output()"
      ]
     },
     "metadata": {},
     "output_type": "display_data"
    }
   ],
   "source": [
    "import ipywidgets as widgets\n",
    "from IPython.display import display, clear_output\n",
    "import folium\n",
    "import requests\n",
    "import pandas as pd\n",
    "import geopandas as gpd\n",
    "from shapely import wkt\n",
    "\n",
    "# Output dinamici\n",
    "output1 = widgets.Output()\n",
    "output2 = widgets.Output()\n",
    "output_map = widgets.Output()\n",
    "\n",
    "# Funzione per recuperare le geometrie delle province (es. Lombardia)\n",
    "def get_province_shape():\n",
    "    url = \"http://127.0.0.1:5000/api/province_shape\"\n",
    "    response = requests.get(url)\n",
    "    data = response.json()\n",
    "    gdf = gpd.GeoDataFrame(data)\n",
    "    gdf['geometry_province'] = gdf['geometry_province'].apply(wkt.loads)\n",
    "    gdf.set_geometry('geometry_province', inplace=True)\n",
    "    return gdf\n",
    "\n",
    "# Funzione per generare mappa Folium centrata sulla Lombardia\n",
    "def show_lombardia_map():\n",
    "    with output_map:\n",
    "        clear_output()\n",
    "        m = folium.Map(location=[45.5, 9.5], zoom_start=8)\n",
    "        try:\n",
    "            prov = get_province_shape()\n",
    "            folium.GeoJson(prov.__geo_interface__, name=\"Province\").add_to(m)\n",
    "        except Exception as e:\n",
    "            print(\"Errore caricando le province:\", e)\n",
    "        display(m)\n",
    "\n",
    "# Dropdown inquinanti\n",
    "dropdown = widgets.Dropdown(\n",
    "    options=[\n",
    "        \"Ammoniaca\", \"Arsenico\", \"Benzo(a)pirene\", \"Benzene\", \"Biossido di Azoto\",\n",
    "        \"Biossido di Zolfo\", \"BlackCarbon\", \"Cadmio\", \"Monossido di Azoto\",\n",
    "        \"Monossido di Carbonio\", \"Nikel\", \"Ossidi di Azoto\", \"Ozono\", \"PM10\",\n",
    "        \"PM10 (SM2005)\", \"Particelle sospese PM2.5\", \"Particolato Totale Sospeso\",\n",
    "        \"Piombo\"\n",
    "    ],\n",
    "    description='Inquinante:'\n",
    ")\n",
    "\n",
    "# Funzione quando cambia dropdown: mostra slider e collega evento\n",
    "def on_dropdown_change1(change):\n",
    "    if change['type'] == 'change' and change['name'] == 'value':\n",
    "        with output1:\n",
    "            clear_output()\n",
    "            slider = widgets.IntSlider(\n",
    "                value=0,\n",
    "                min=0,\n",
    "                max=80,\n",
    "                step=1,\n",
    "                description=f'Soglia ({change[\"new\"]}):',\n",
    "                continuous_update=False\n",
    "            )\n",
    "            display(slider)\n",
    "\n",
    "            def on_slider_change(slider_change):\n",
    "                if slider_change['type'] == 'change' and slider_change['name'] == 'value':\n",
    "                    with output2:\n",
    "                        clear_output()\n",
    "\n",
    "                        start_date = widgets.DatePicker(description='Inizio:')\n",
    "                        end_date = widgets.DatePicker(description='Fine:')\n",
    "\n",
    "                        # Funzione per controllare se entrambe le date sono selezionate\n",
    "                        def check_dates(_):\n",
    "                            if start_date.value and end_date.value:\n",
    "                                show_lombardia_map()\n",
    "\n",
    "                        # Osserva cambiamenti di entrambe le date\n",
    "                        start_date.observe(check_dates, names='value')\n",
    "                        end_date.observe(check_dates, names='value')\n",
    "\n",
    "                        display(widgets.VBox([start_date, end_date]))\n",
    "\n",
    "            slider.observe(on_slider_change, names='value')\n",
    "\n",
    "# Collegamento eventi\n",
    "dropdown.observe(on_dropdown_change1, names='value')\n",
    "\n",
    "# Visualizzazione finale\n",
    "display(dropdown)\n",
    "display(output1)\n",
    "display(output2)\n",
    "display(output_map)\n"
   ]
  },
  {
   "cell_type": "code",
   "execution_count": null,
   "id": "7ea34d92",
   "metadata": {},
   "outputs": [],
   "source": [
    "import ipywidgets as widgets\n",
    "from IPython.display import display, clear_output\n",
    "import folium\n",
    "import requests\n",
    "import geopandas as gpd\n",
    "from shapely import wkt\n",
    "\n",
    "# Output per la mappa\n",
    "output_map = widgets.Output()\n",
    "\n",
    "# Recupera le geometrie delle province\n",
    "def get_province_shape():\n",
    "    url = \"http://127.0.0.1:5000/api/province_shape\"\n",
    "    response = requests.get(url)\n",
    "    data = response.json()\n",
    "    gdf = gpd.GeoDataFrame(data)\n",
    "    gdf['geometry'] = gdf['geometry'].apply(wkt.loads)\n",
    "    gdf.set_geometry('geometry', inplace=True)\n",
    "    return gdf\n",
    "\n",
    "# Caricamento delle province e creazione dropdown\n",
    "prov_gdf = get_province_shape()\n",
    "province_names = sorted(prov_gdf['nome_provincia'].unique().tolist())\n",
    "dropdown_prov = widgets.Dropdown(options=province_names, description=\"Provincia:\")\n",
    "\n",
    "# Funzione per mostrare la mappa aggiornata in base alla provincia selezionata\n",
    "def show_lombardia_map(selected_prov):\n",
    "    with output_map:\n",
    "        clear_output()\n",
    "        # Usa tiles='OpenStreetMap' per forzare stile OSM\n",
    "        m = folium.Map(location=[45.5, 9.5], zoom_start=8, tiles='OpenStreetMap')\n",
    "\n",
    "        try:\n",
    "            selected_geom = prov_gdf[prov_gdf['nome_provincia'] == selected_prov]\n",
    "            others = prov_gdf[prov_gdf['nome_provincia'] != selected_prov]\n",
    "\n",
    "            # Provincia selezionata in rosso\n",
    "            folium.GeoJson(\n",
    "                selected_geom.__geo_interface__,\n",
    "                name=\"Provincia selezionata\",\n",
    "                style_function=lambda x: {'color': 'red', 'fillOpacity': 0.4, 'weight': 3}\n",
    "            ).add_to(m)\n",
    "\n",
    "            # Altre province in grigio\n",
    "            folium.GeoJson(\n",
    "                others.__geo_interface__,\n",
    "                name=\"Altre province\",\n",
    "                style_function=lambda x: {'color': 'gray', 'fillOpacity': 0.1, 'weight': 1}\n",
    "            ).add_to(m)\n",
    "\n",
    "            folium.LayerControl().add_to(m)\n",
    "        except Exception as e:\n",
    "            print(\"Errore caricando le province:\", e)\n",
    "\n",
    "        display(m)\n",
    "\n",
    "# Callback: aggiorna la mappa quando cambia la selezione\n",
    "def on_dropdown_change(change):\n",
    "    if change['type'] == 'change' and change['name'] == 'value':\n",
    "        show_lombardia_map(change['new'])\n",
    "\n",
    "dropdown_prov.observe(on_dropdown_change)\n",
    "\n",
    "# Layout a due colonne simulando dropdown \"nella mappa\"\n",
    "display(\n",
    "    widgets.HBox([\n",
    "        widgets.VBox([widgets.HTML(\"<b>Seleziona provincia:</b>\"), dropdown_prov]),\n",
    "        output_map\n",
    "    ])\n",
    ")\n",
    "\n",
    "# Mostra la mappa iniziale\n",
    "show_lombardia_map(province_names[0])"
   ]
  },
  {
   "cell_type": "code",
   "execution_count": null,
   "id": "a3e3ede5",
   "metadata": {},
   "outputs": [],
   "source": [
    "# EU-DV-2 \n",
    "\n",
    "data = {\"var_pollutant\": \"Benzene\", \"var_start_date\" :\"2024-12-19 18:00:00\", \"var_end_date\" :\"2025-01-01 00:00:00\",\"var_province\":\"MILANO\"} #Right now data is a dictionary\n",
    "t=requests.post(url=\"http://127.0.0.1:5000/api/EU_DV_2\", json=data) \n",
    "\n",
    "try:\n",
    "    data = t.json() #This will convert the response to a json object\n",
    "    print(\"The query returned\", len(data), \"rows\")\n",
    "    print(type(data))\n",
    "except requests.exceptions.JSONDecodeError:\n",
    "    print(\"Risposta non valida JSON!\")\n",
    "    print(\"Contenuto della risposta:\", t.text)\n",
    "    data = None\n",
    "\n",
    "df = pd.DataFrame(data)\n",
    "print(df)"
   ]
  }
 ],
 "metadata": {
  "kernelspec": {
   "display_name": "se4g_project",
   "language": "python",
   "name": "python3"
  },
  "language_info": {
   "codemirror_mode": {
    "name": "ipython",
    "version": 3
   },
   "file_extension": ".py",
   "mimetype": "text/x-python",
   "name": "python",
   "nbconvert_exporter": "python",
   "pygments_lexer": "ipython3",
   "version": "3.13.2"
  }
 },
 "nbformat": 4,
 "nbformat_minor": 5
}
