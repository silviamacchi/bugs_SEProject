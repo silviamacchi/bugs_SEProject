{
 "cells": [
  {
   "cell_type": "code",
   "execution_count": 32,
   "id": "2b5002ae",
   "metadata": {},
   "outputs": [],
   "source": [
    "## EU-DV-2 Threshold definition  – time-series\n",
    "# The interface allow the expert user to define a threshold and select a \n",
    "# pollutant, a time window and a province and visualize a time series showing which days the \n",
    "# threshold has been exceeded and a percentage (exceeded days/total days).\n",
    "\n",
    "# - button select a pollutant\n",
    "# - button select threshold\n",
    "# - button select start day\n",
    "# - button select end day\n",
    "# - button select start mounth\n",
    "# - button select end mounth\n",
    "# - button select start year\n",
    "# - button select end year\n",
    "# - button select a province \n"
   ]
  },
  {
   "cell_type": "code",
   "execution_count": 7,
   "id": "6295c462",
   "metadata": {},
   "outputs": [
    {
     "data": {
      "application/vnd.jupyter.widget-view+json": {
       "model_id": "34ccd51473b7474b90acbbfd0651225c",
       "version_major": 2,
       "version_minor": 0
      },
      "text/plain": [
       "VBox(children=(Dropdown(description='Province:', options=('BERGAMO', 'BRESCIA', 'COMO', 'CREMONA', 'LECCO', 'L…"
      ]
     },
     "metadata": {},
     "output_type": "display_data"
    }
   ],
   "source": [
    "import ipywidgets as widgets\n",
    "from IPython.display import display\n",
    "import requests\n",
    "import pandas as pd\n",
    "import matplotlib.pyplot as plt\n",
    "import ipywidgets as widgets\n",
    "from datetime import datetime\n",
    "\n",
    "# Utility Function to Read API Responses\n",
    "\n",
    "def read_response(response):\n",
    "    try:\n",
    "        return response.json()\n",
    "    except requests.exceptions.JSONDecodeError:\n",
    "        print(\"Invalid JSON response!\")\n",
    "        print(\"Response content:\", response.text)\n",
    "        return None\n",
    "    \n",
    "# Get List of Available Provinces\n",
    "\n",
    "def get_provinces_list():\n",
    "    response = requests.get(\"http://127.0.0.1:5000/api/provinces\")\n",
    "    return read_response(response) or []\n",
    "\n",
    "\n",
    "# Get List of Available Pollutants\n",
    "\n",
    "def get_pollutants_list():\n",
    "    response = requests.get(\"http://127.0.0.1:5000/api/pollutants\")\n",
    "    return read_response(response) or []\n",
    "\n",
    "# Get startdate and enddata possible\n",
    "\n",
    "def get_data_dict():\n",
    "    response = requests.get(\"http://127.0.0.1:5000/api/data\")\n",
    "    return read_response(response) or []\n",
    "\n",
    "# Slider soglia\n",
    "slider_soglia = widgets.IntSlider(\n",
    "    value=0,\n",
    "    min=0,\n",
    "    max=80,\n",
    "    step=1,\n",
    "    description='Soglia:',\n",
    "    continuous_update=False\n",
    ")\n",
    "\n",
    "\n",
    "# Dropdowns e Output UI (creazione degli elementi interattivi)\n",
    "\n",
    "provincia_dropdown = widgets.Dropdown(\n",
    "    options=get_provinces_list(),\n",
    "    description=\"Province:\"\n",
    ")\n",
    "\n",
    "pollutant_dropdown = widgets.Dropdown(\n",
    "    options=get_pollutants_list(),\n",
    "    description=\"pollutant:\"\n",
    ")\n",
    "\n",
    "output = widgets.Output()\n",
    "\n",
    "\n",
    "# Date picker per inizio e fine\n",
    "data = get_data_dict()\n",
    "start_date = widgets.DatePicker(description='Inizio:')\n",
    "end_date = widgets.DatePicker(description='Fine:')\n",
    "\n",
    "display(widgets.VBox([\n",
    "    provincia_dropdown,\n",
    "    pollutant_dropdown,\n",
    "    slider_soglia,\n",
    "    widgets.HBox([start_date, end_date]),\n",
    "    output\n",
    "]))\n"
   ]
  },
  {
   "cell_type": "code",
   "execution_count": 12,
   "id": "e2340934",
   "metadata": {},
   "outputs": [
    {
     "data": {
      "text/plain": [
       "{'var_pollutant': 'Ozono',\n",
       " 'var_start_date': '2024-12-20 00:00:00',\n",
       " 'var_end_date': '2024-12-22 23:59:59',\n",
       " 'var_province': 'MILANO',\n",
       " 'var_threshold': 50}"
      ]
     },
     "execution_count": 12,
     "metadata": {},
     "output_type": "execute_result"
    }
   ],
   "source": [
    "from datetime import date\n",
    "\n",
    "# Assicurati che start_date.value ed end_date.value non siano None\n",
    "if start_date.value and end_date.value:\n",
    "    data = {\n",
    "        \"var_pollutant\": pollutant_dropdown.value,\n",
    "        \"var_start_date\": start_date.value.strftime('%Y-%m-%d 00:00:00'),\n",
    "        \"var_end_date\": end_date.value.strftime('%Y-%m-%d 23:59:59'),\n",
    "        \"var_province\": provincia_dropdown.value,\n",
    "        \"var_threshold\": slider_soglia.value\n",
    "    }\n",
    "\n",
    "data\n",
    "\n"
   ]
  },
  {
   "cell_type": "code",
   "execution_count": 13,
   "id": "a3e3ede5",
   "metadata": {},
   "outputs": [
    {
     "name": "stdout",
     "output_type": "stream",
     "text": [
      "The query returned 86 rows\n",
      "<class 'list'>\n",
      "                             data  valore\n",
      "0   Fri, 20 Dec 2024 15:00:00 GMT    51.5\n",
      "1   Fri, 20 Dec 2024 05:00:00 GMT    51.5\n",
      "2   Fri, 20 Dec 2024 06:00:00 GMT    51.3\n",
      "3   Fri, 20 Dec 2024 10:00:00 GMT    52.4\n",
      "4   Fri, 20 Dec 2024 11:00:00 GMT    63.6\n",
      "..                            ...     ...\n",
      "81  Sat, 21 Dec 2024 03:00:00 GMT    58.3\n",
      "82  Sat, 21 Dec 2024 13:00:00 GMT    52.4\n",
      "83  Sat, 21 Dec 2024 14:00:00 GMT    51.2\n",
      "84  Sat, 21 Dec 2024 15:00:00 GMT    51.0\n",
      "85  Sat, 21 Dec 2024 16:00:00 GMT    50.2\n",
      "\n",
      "[86 rows x 2 columns]\n",
      "Giorni unici: 2\n"
     ]
    }
   ],
   "source": [
    "# EU-DV-2 \n",
    "\n",
    "import requests\n",
    "import pandas as pd\n",
    "import json\n",
    "\n",
    "t=requests.post(url=\"http://127.0.0.1:5000/api/EU_DV_2\", json=data) \n",
    "\n",
    "try:\n",
    "    data = t.json() #This will convert the response to a json object\n",
    "    print(\"The query returned\", len(data), \"rows\")\n",
    "    print(type(data))\n",
    "except requests.exceptions.JSONDecodeError:\n",
    "    print(\"Risposta non valida JSON!\")\n",
    "    print(\"Contenuto della risposta:\", t.text)\n",
    "    data = None\n",
    "\n",
    "df = pd.DataFrame(data)\n",
    "print(df)\n",
    "\n",
    "df['data'] = pd.to_datetime(df['data'], errors='raise')\n",
    "exceeded_days = df['data'].dt.date.nunique()\n",
    "print(f\"Giorni unici: {exceeded_days}\")"
   ]
  },
  {
   "cell_type": "code",
   "execution_count": 15,
   "id": "3ed95904",
   "metadata": {},
   "outputs": [
    {
     "name": "stdout",
     "output_type": "stream",
     "text": [
      "The query returned 432 rows\n",
      "<class 'list'>\n",
      "                              data  valore\n",
      "0    Fri, 20 Dec 2024 00:00:00 GMT     1.0\n",
      "1    Fri, 20 Dec 2024 01:00:00 GMT     0.8\n",
      "2    Fri, 20 Dec 2024 02:00:00 GMT     0.2\n",
      "3    Fri, 20 Dec 2024 03:00:00 GMT     7.0\n",
      "4    Fri, 20 Dec 2024 04:00:00 GMT    32.0\n",
      "..                             ...     ...\n",
      "427  Sun, 22 Dec 2024 19:00:00 GMT     3.3\n",
      "428  Sun, 22 Dec 2024 20:00:00 GMT     4.8\n",
      "429  Sun, 22 Dec 2024 21:00:00 GMT     2.8\n",
      "430  Sun, 22 Dec 2024 22:00:00 GMT     2.6\n",
      "431  Sun, 22 Dec 2024 23:00:00 GMT     2.8\n",
      "\n",
      "[432 rows x 2 columns]\n",
      "Giorni unici: 3\n"
     ]
    }
   ],
   "source": [
    "data = {\"var_province\": provincia_dropdown.value.upper(),\n",
    "        \"var_pollutant\": pollutant_dropdown.value,\n",
    "        \"var_start_date\": start_date.value.strftime('%Y-%m-%d 00:00:00'),\n",
    "        \"var_end_date\": end_date.value.strftime('%Y-%m-%d 23:59:59'),\n",
    "        } \n",
    "\n",
    "t=requests.post(url=\"http://127.0.0.1:5000/api/DV_7provinciamod\", json=data) \n",
    "\n",
    "try:\n",
    "    data = t.json() #This will convert the response to a json object\n",
    "    print(\"The query returned\", len(data), \"rows\")\n",
    "    print(type(data))\n",
    "except requests.exceptions.JSONDecodeError:\n",
    "    print(\"Risposta non valida JSON!\")\n",
    "    print(\"Contenuto della risposta:\", t.text)\n",
    "    data = None\n",
    "\n",
    "df = pd.DataFrame(data)\n",
    "print(df)\n",
    "\n",
    "df['data'] = pd.to_datetime(df['data'], errors='raise')\n",
    "totaldays = df['data'].dt.date.nunique()\n",
    "print(f\"Giorni unici: {totaldays}\")\n"
   ]
  },
  {
   "cell_type": "code",
   "execution_count": 16,
   "id": "55b2fd6a",
   "metadata": {},
   "outputs": [
    {
     "name": "stdout",
     "output_type": "stream",
     "text": [
      "Percentage of days in which the threshold has been exceeded : 66.66666666666666\n"
     ]
    }
   ],
   "source": [
    "# visualize a time series showing which days the threshold has been exceeded and a percentage (exceeded days/total days).\n",
    "\n",
    "percentage=0\n",
    "percentage=(exceeded_days/totaldays)*100\n",
    "print(f\"Percentage of days in which the threshold has been exceeded : {percentage}\")\n"
   ]
  }
 ],
 "metadata": {
  "kernelspec": {
   "display_name": "se4g_project",
   "language": "python",
   "name": "python3"
  },
  "language_info": {
   "codemirror_mode": {
    "name": "ipython",
    "version": 3
   },
   "file_extension": ".py",
   "mimetype": "text/x-python",
   "name": "python",
   "nbconvert_exporter": "python",
   "pygments_lexer": "ipython3",
   "version": "3.13.2"
  }
 },
 "nbformat": 4,
 "nbformat_minor": 5
}
