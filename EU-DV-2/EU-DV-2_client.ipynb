{
 "cells": [
  {
   "cell_type": "code",
   "execution_count": 69,
   "id": "2b5002ae",
   "metadata": {},
   "outputs": [],
   "source": [
    "## EU-DV-2 Threshold definition  – time-series\n",
    "# The interface allow the expert user to define a threshold and select a \n",
    "# pollutant, a time window and a province and visualize a time series showing which days the \n",
    "# threshold has been exceeded and a percentage (exceeded days/total days).\n",
    "\n",
    "# - button select a pollutant\n",
    "# - button select threshold\n",
    "# - button select start day\n",
    "# - button select end day\n",
    "# - button select start mounth\n",
    "# - button select end mounth\n",
    "# - button select start year\n",
    "# - button select end year\n",
    "# - button select a province \n"
   ]
  },
  {
   "cell_type": "code",
   "execution_count": 1,
   "id": "6295c462",
   "metadata": {},
   "outputs": [
    {
     "data": {
      "application/vnd.jupyter.widget-view+json": {
       "model_id": "5af36b0094a540b08633975410eea476",
       "version_major": 2,
       "version_minor": 0
      },
      "text/plain": [
       "Dropdown(description='Inquinante:', options=('Ammoniaca', 'Arsenico', 'Benzo(a)pirene', 'Benzene', 'Biossido d…"
      ]
     },
     "metadata": {},
     "output_type": "display_data"
    },
    {
     "data": {
      "application/vnd.jupyter.widget-view+json": {
       "model_id": "86914f6c6697445f91d907741188e365",
       "version_major": 2,
       "version_minor": 0
      },
      "text/plain": [
       "Output()"
      ]
     },
     "metadata": {},
     "output_type": "display_data"
    },
    {
     "data": {
      "application/vnd.jupyter.widget-view+json": {
       "model_id": "25db250c53fa4dbb82f86943d9ef9d28",
       "version_major": 2,
       "version_minor": 0
      },
      "text/plain": [
       "Output()"
      ]
     },
     "metadata": {},
     "output_type": "display_data"
    },
    {
     "data": {
      "application/vnd.jupyter.widget-view+json": {
       "model_id": "6692865c4d5e46bda73006668d7ca1b0",
       "version_major": 2,
       "version_minor": 0
      },
      "text/plain": [
       "Output()"
      ]
     },
     "metadata": {},
     "output_type": "display_data"
    }
   ],
   "source": [
    "import ipywidgets as widgets\n",
    "from IPython.display import display, clear_output\n",
    "\n",
    "selected_threshold = {\"value\": None}\n",
    "\n",
    "# Output dinamici\n",
    "output1 = widgets.Output()\n",
    "output2 = widgets.Output()\n",
    "output3 = widgets.Output()\n",
    "\n",
    "# Dropdown inquinanti\n",
    "dropdown = widgets.Dropdown(\n",
    "    options=[\n",
    "        \"Ammoniaca\", \"Arsenico\", \"Benzo(a)pirene\", \"Benzene\", \"Biossido di Azoto\",\n",
    "        \"Biossido di Zolfo\", \"BlackCarbon\", \"Cadmio\", \"Monossido di Azoto\",\n",
    "        \"Monossido di Carbonio\", \"Nikel\", \"Ossidi di Azoto\", \"Ozono\", \"PM10\",\n",
    "        \"PM10 (SM2005)\", \"Particelle sospese PM2.5\", \"Particolato Totale Sospeso\",\n",
    "        \"Piombo\"\n",
    "    ],\n",
    "    description='Inquinante:'\n",
    ")\n",
    "\n",
    "# Province della Lombardia\n",
    "province_lombardia = [\n",
    "    \"Bergamo\", \"Brescia\", \"Como\", \"Cremona\", \"Lecco\", \"Lodi\",\n",
    "    \"Mantova\", \"Milano\", \"Monza e della Brianza\", \"Pavia\",\n",
    "    \"Sondrio\", \"Varese\"\n",
    "]\n",
    "\n",
    "# Dropdown province (non visualizzato finché non vengono scelte le date)\n",
    "dropdown_prov = widgets.Dropdown(\n",
    "    options=province_lombardia,\n",
    "    description='Provincia:'\n",
    ")\n",
    "\n",
    "# Funzione quando cambia dropdown inquinante: mostra slider\n",
    "def on_dropdown_change1(change):\n",
    "    if change['type'] == 'change' and change['name'] == 'value':\n",
    "        with output1:\n",
    "            clear_output()\n",
    "            slider = widgets.IntSlider(\n",
    "                value=0,\n",
    "                min=0,\n",
    "                max=80,\n",
    "                step=1,\n",
    "                description=f'Soglia ({change[\"new\"]}):',\n",
    "                continuous_update=False\n",
    "            )\n",
    "            display(slider)\n",
    "\n",
    "            # Funzione quando cambia lo slider: mostra i DatePicker\n",
    "            def on_slider_change2(slider_change):\n",
    "                if slider_change['type'] == 'change' and slider_change['name'] == 'value':\n",
    "                    selected_threshold[\"value\"] = slider_change[\"new\"]\n",
    "                    with output2:\n",
    "                        clear_output()\n",
    "                        global start_date, end_date  # Rende visibili fuori\n",
    "                        start_date = widgets.DatePicker(description='Inizio:')\n",
    "                        end_date = widgets.DatePicker(description='Fine:')\n",
    "\n",
    "                        def check_dates(_):\n",
    "                            if start_date.value and end_date.value:\n",
    "                                with output3:\n",
    "                                    clear_output()\n",
    "                                    display(dropdown_prov)\n",
    "\n",
    "                        # Monitora cambiamenti alle date\n",
    "                        start_date.observe(check_dates, names='value')\n",
    "                        end_date.observe(check_dates, names='value')\n",
    "\n",
    "                        display(widgets.VBox([start_date, end_date]))\n",
    "\n",
    "            slider.observe(on_slider_change2, names='value')\n",
    "\n",
    "# Collega eventi\n",
    "dropdown.observe(on_dropdown_change1, names='value')\n",
    "\n",
    "# Visualizzazione finale\n",
    "display(dropdown)\n",
    "display(output1)\n",
    "display(output2)\n",
    "display(output3)\n",
    "\n",
    "\n"
   ]
  },
  {
   "cell_type": "code",
   "execution_count": 24,
   "id": "e2340934",
   "metadata": {},
   "outputs": [
    {
     "data": {
      "text/plain": [
       "{'var_pollutant': 'Ozono',\n",
       " 'var_start_date': '2024-12-20 00:00:00',\n",
       " 'var_end_date': '2024-12-22 24:00:00',\n",
       " 'var_province': 'MILANO',\n",
       " 'var_threshold': 50}"
      ]
     },
     "execution_count": 24,
     "metadata": {},
     "output_type": "execute_result"
    }
   ],
   "source": [
    "from datetime import date\n",
    "\n",
    "# Assicurati che start_date.value ed end_date.value non siano None\n",
    "if start_date.value and end_date.value:\n",
    "    data = {\n",
    "        \"var_pollutant\": dropdown.value,\n",
    "        \"var_start_date\": start_date.value.strftime('%Y-%m-%d 00:00:00'),\n",
    "        \"var_end_date\": end_date.value.strftime('%Y-%m-%d 24:00:00'),\n",
    "        \"var_province\": dropdown_prov.value.upper(),\n",
    "        \"var_threshold\": selected_threshold[\"value\"]\n",
    "    }\n",
    "\n",
    "data\n",
    "\n"
   ]
  },
  {
   "cell_type": "code",
   "execution_count": 25,
   "id": "a3e3ede5",
   "metadata": {},
   "outputs": [
    {
     "name": "stdout",
     "output_type": "stream",
     "text": [
      "The query returned 86 rows\n",
      "<class 'list'>\n",
      "                             data  valore\n",
      "0   Fri, 20 Dec 2024 15:00:00 GMT    51.5\n",
      "1   Fri, 20 Dec 2024 05:00:00 GMT    51.5\n",
      "2   Fri, 20 Dec 2024 06:00:00 GMT    51.3\n",
      "3   Fri, 20 Dec 2024 10:00:00 GMT    52.4\n",
      "4   Fri, 20 Dec 2024 11:00:00 GMT    63.6\n",
      "..                            ...     ...\n",
      "81  Sat, 21 Dec 2024 03:00:00 GMT    58.3\n",
      "82  Sat, 21 Dec 2024 13:00:00 GMT    52.4\n",
      "83  Sat, 21 Dec 2024 14:00:00 GMT    51.2\n",
      "84  Sat, 21 Dec 2024 15:00:00 GMT    51.0\n",
      "85  Sat, 21 Dec 2024 16:00:00 GMT    50.2\n",
      "\n",
      "[86 rows x 2 columns]\n",
      "Giorni unici: 2\n"
     ]
    }
   ],
   "source": [
    "# EU-DV-2 \n",
    "\n",
    "import requests\n",
    "import pandas as pd\n",
    "import json\n",
    "\n",
    "t=requests.post(url=\"http://127.0.0.1:5000/api/EU_DV_2\", json=data) \n",
    "\n",
    "try:\n",
    "    data = t.json() #This will convert the response to a json object\n",
    "    print(\"The query returned\", len(data), \"rows\")\n",
    "    print(type(data))\n",
    "except requests.exceptions.JSONDecodeError:\n",
    "    print(\"Risposta non valida JSON!\")\n",
    "    print(\"Contenuto della risposta:\", t.text)\n",
    "    data = None\n",
    "\n",
    "df = pd.DataFrame(data)\n",
    "print(df)\n",
    "\n",
    "df['data'] = pd.to_datetime(df['data'], errors='raise')\n",
    "exceeded_days = df['data'].dt.date.nunique()\n",
    "print(f\"Giorni unici: {exceeded_days}\")"
   ]
  },
  {
   "cell_type": "code",
   "execution_count": 28,
   "id": "3ed95904",
   "metadata": {},
   "outputs": [
    {
     "name": "stdout",
     "output_type": "stream",
     "text": [
      "The query returned 1770 rows\n",
      "<class 'list'>\n",
      "                               data  valore\n",
      "0     Thu, 19 Dec 2024 18:00:00 GMT     1.1\n",
      "1     Thu, 19 Dec 2024 19:00:00 GMT     1.1\n",
      "2     Thu, 19 Dec 2024 20:00:00 GMT     1.2\n",
      "3     Thu, 19 Dec 2024 21:00:00 GMT     0.6\n",
      "4     Thu, 19 Dec 2024 22:00:00 GMT     0.4\n",
      "...                             ...     ...\n",
      "1765  Tue, 31 Dec 2024 20:00:00 GMT     3.6\n",
      "1766  Tue, 31 Dec 2024 21:00:00 GMT     2.3\n",
      "1767  Tue, 31 Dec 2024 22:00:00 GMT     3.1\n",
      "1768  Tue, 31 Dec 2024 23:00:00 GMT     3.0\n",
      "1769  Wed, 01 Jan 2025 00:00:00 GMT     2.6\n",
      "\n",
      "[1770 rows x 2 columns]\n",
      "Giorni unici: 14\n"
     ]
    }
   ],
   "source": [
    "data = {\"var_province\": dropdown_prov.value.upper(),\n",
    "        \"var_pollutant\": dropdown.value,\n",
    "        } \n",
    "t=requests.post(url=\"http://127.0.0.1:5000/api/DV_7provincia\", json=data) \n",
    "\n",
    "try:\n",
    "    data = t.json() #This will convert the response to a json object\n",
    "    print(\"The query returned\", len(data), \"rows\")\n",
    "    print(type(data))\n",
    "except requests.exceptions.JSONDecodeError:\n",
    "    print(\"Risposta non valida JSON!\")\n",
    "    print(\"Contenuto della risposta:\", t.text)\n",
    "    data = None\n",
    "\n",
    "df = pd.DataFrame(data)\n",
    "print(df)\n",
    "\n",
    "df['data'] = pd.to_datetime(df['data'], errors='raise')\n",
    "totaldays = df['data'].dt.date.nunique()\n",
    "print(f\"Giorni unici: {totaldays}\")\n"
   ]
  },
  {
   "cell_type": "code",
   "execution_count": 31,
   "id": "55b2fd6a",
   "metadata": {},
   "outputs": [
    {
     "name": "stdout",
     "output_type": "stream",
     "text": [
      "Percentage of days in which the threshold has been exceeded : 14.285714285714285\n"
     ]
    }
   ],
   "source": [
    "# visualize a time series showing which days the threshold has been exceeded and a percentage (exceeded days/total days).\n",
    "\n",
    "percentage=0\n",
    "percentage=(exceeded_days/totaldays)*100\n",
    "print(f\"Percentage of days in which the threshold has been exceeded : {percentage}\")\n"
   ]
  }
 ],
 "metadata": {
  "kernelspec": {
   "display_name": "se4g_project",
   "language": "python",
   "name": "python3"
  },
  "language_info": {
   "codemirror_mode": {
    "name": "ipython",
    "version": 3
   },
   "file_extension": ".py",
   "mimetype": "text/x-python",
   "name": "python",
   "nbconvert_exporter": "python",
   "pygments_lexer": "ipython3",
   "version": "3.13.2"
  }
 },
 "nbformat": 4,
 "nbformat_minor": 5
}
