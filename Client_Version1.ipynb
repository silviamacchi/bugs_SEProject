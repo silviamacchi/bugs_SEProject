{
 "cells": [
  {
   "cell_type": "markdown",
   "id": "2aa91f2c",
   "metadata": {},
   "source": [
    "# Dashboard of Bugs Project\n",
    "## Overview\n",
    "This interface allows to analyse air quality data using “Dati Lombardia” sensor data.\n"
   ]
  },
  {
   "cell_type": "markdown",
   "id": "84508aad",
   "metadata": {},
   "source": []
  }
 ],
 "metadata": {
  "kernelspec": {
   "display_name": "base",
   "language": "python",
   "name": "python3"
  },
  "language_info": {
   "codemirror_mode": {
    "name": "ipython",
    "version": 3
   },
   "file_extension": ".py",
   "mimetype": "text/x-python",
   "name": "python",
   "nbconvert_exporter": "python",
   "pygments_lexer": "ipython3",
   "version": "3.12.2"
  }
 },
 "nbformat": 4,
 "nbformat_minor": 5
}
