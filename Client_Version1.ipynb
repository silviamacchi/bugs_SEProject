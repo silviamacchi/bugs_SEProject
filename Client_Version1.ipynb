{
 "cells": [
  {
   "cell_type": "markdown",
   "id": "84508aad",
   "metadata": {},
   "source": [
    "# Materiale Utile - Questa sezione verrà eliminata dal documento finale\n",
    "\n",
    "Dato che le parti testuali vengono scritte usando Markdown, al link seguente c'è un esempio dei comandi per creare titoli, **grassetto** etc. e di come vengono visualizzati\n",
    "\n",
    "[link markdown cheatsheet](https://github.com/adam-p/markdown-here/wiki/markdown-cheatsheet)\n",
    "\n",
    "Possiamo usare questa sezione anche per scrivere delle regole comuni da usare nella stesura del documento:\n",
    "\n",
    "1. Per ogni sezione inserire titolo (es: Map of the sensors' positions) e descrizione nella stessa cella, ma non mettere sezioni diverse nella stessa cella, dato che poi dovranno essere intervallate dal codice\n",
    "\n",
    "---"
   ]
  },
  {
   "cell_type": "markdown",
   "id": "2aa91f2c",
   "metadata": {},
   "source": [
    "# Dashboard of Bugs Project\n",
    "## DV-1 Overview\n",
    "This interface allows to analyse air quality data using “Dati Lombardia” sensor data.\n",
    "\n"
   ]
  },
  {
   "cell_type": "markdown",
   "id": "b5a1aa19",
   "metadata": {},
   "source": [
    "## DV-2 User selection"
   ]
  },
  {
   "cell_type": "markdown",
   "id": "aeef3bc7",
   "metadata": {},
   "source": [
    "## DV-3 Basemap Selection"
   ]
  },
  {
   "cell_type": "markdown",
   "id": "2693c2c8",
   "metadata": {},
   "source": [
    "## DV-5 Single sensor time series"
   ]
  },
  {
   "cell_type": "markdown",
   "id": "33cff7c5",
   "metadata": {},
   "source": [
    "## DV-6 Sensor location"
   ]
  },
  {
   "cell_type": "markdown",
   "id": "13dcd23f",
   "metadata": {},
   "source": [
    "## DV-7 Pollutant comparison over same area"
   ]
  },
  {
   "cell_type": "markdown",
   "id": "c291e987",
   "metadata": {},
   "source": [
    "## DV-8 Average concentration – map"
   ]
  },
  {
   "cell_type": "markdown",
   "id": "78931efd",
   "metadata": {},
   "source": [
    "## DV-9 Average concentration – histogram"
   ]
  },
  {
   "cell_type": "markdown",
   "id": "2c1cad88",
   "metadata": {},
   "source": [
    "## DV-10  Correlation with altitude – map"
   ]
  },
  {
   "cell_type": "markdown",
   "id": "c34540b7",
   "metadata": {},
   "source": [
    "## DV-11 Correlation with altitude – graph"
   ]
  },
  {
   "cell_type": "markdown",
   "id": "59957f5e",
   "metadata": {},
   "source": [
    "## EU-DV-1  Polygon definition "
   ]
  },
  {
   "cell_type": "markdown",
   "id": "a35d97e8",
   "metadata": {},
   "source": [
    "## EU-DV-2 Threshold definition  – time-series"
   ]
  }
 ],
 "metadata": {
  "kernelspec": {
   "display_name": "base",
   "language": "python",
   "name": "python3"
  },
  "language_info": {
   "codemirror_mode": {
    "name": "ipython",
    "version": 3
   },
   "file_extension": ".py",
   "mimetype": "text/x-python",
   "name": "python",
   "nbconvert_exporter": "python",
   "pygments_lexer": "ipython3",
   "version": "3.12.2"
  }
 },
 "nbformat": 4,
 "nbformat_minor": 5
}
