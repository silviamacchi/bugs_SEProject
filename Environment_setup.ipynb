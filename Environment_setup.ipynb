{
 "cells": [
  {
   "cell_type": "markdown",
   "id": "aae2c13c",
   "metadata": {},
   "source": [
    "# Setup of a new environment\n",
    "\n",
    "from the terminal, run this to see which are your environments \n",
    "\n",
    "``conda env list``\n",
    "\n",
    "Run this to create a new environment:\n",
    "\n",
    "``conda create -n se4g_project``\n",
    "\n",
    "activate the environment\n",
    "\n",
    "``conda activate se4g_project``\n",
    "\n",
    "Now the in the terminal you should see the line starting with (se4g_project)\n",
    "\n",
    "Then install everything you need\n",
    "\n",
    "``conda install python``\n",
    "\n",
    "``conda install pandas``\n",
    "\n",
    "``conda install geopandas``\n",
    "\n",
    "``conda install seaborn``\n",
    "\n",
    "``conda install contextily``\n",
    "\n",
    "``conda install flask``\n",
    "\n",
    "``conda install -c anaconda sqlalchemy``\n",
    "\n",
    "``conda install -c conda-forge geoalchemy2``\n",
    "\n",
    "``conda install -c anaconda psycopg2``\n",
    "\n",
    "``conda install ipywidgets``\n",
    "\n"
   ]
  },
  {
   "cell_type": "markdown",
   "id": "457596ea",
   "metadata": {},
   "source": [
    "# Useful libraries for the projec"
   ]
  },
  {
   "cell_type": "code",
   "execution_count": 3,
   "id": "d9bd8350",
   "metadata": {},
   "outputs": [
    {
     "ename": "ModuleNotFoundError",
     "evalue": "No module named 'shapely'",
     "output_type": "error",
     "traceback": [
      "\u001b[31m---------------------------------------------------------------------------\u001b[39m",
      "\u001b[31mModuleNotFoundError\u001b[39m                       Traceback (most recent call last)",
      "\u001b[36mCell\u001b[39m\u001b[36m \u001b[39m\u001b[32mIn[3]\u001b[39m\u001b[32m, line 2\u001b[39m\n\u001b[32m      1\u001b[39m \u001b[38;5;66;03m# for geometry\u001b[39;00m\n\u001b[32m----> \u001b[39m\u001b[32m2\u001b[39m \u001b[38;5;28;01mfrom\u001b[39;00m\u001b[38;5;250m \u001b[39m\u001b[34;01mshapely\u001b[39;00m\u001b[34;01m.\u001b[39;00m\u001b[34;01mgeometry\u001b[39;00m\u001b[38;5;250m \u001b[39m\u001b[38;5;28;01mimport\u001b[39;00m Point, LineString, Polygon\n\u001b[32m      3\u001b[39m \u001b[38;5;28;01mfrom\u001b[39;00m\u001b[38;5;250m \u001b[39m\u001b[34;01mshapely\u001b[39;00m\u001b[34;01m.\u001b[39;00m\u001b[34;01mgeometry\u001b[39;00m\u001b[38;5;250m \u001b[39m\u001b[38;5;28;01mimport\u001b[39;00m box\t\u001b[38;5;66;03m# Import geometry object \"box\" to create a rectangular polygon using corners coordinates\u001b[39;00m\n\u001b[32m      4\u001b[39m \u001b[38;5;28;01mfrom\u001b[39;00m\u001b[38;5;250m \u001b[39m\u001b[34;01mshapely\u001b[39;00m\u001b[34;01m.\u001b[39;00m\u001b[34;01mgeometry\u001b[39;00m\u001b[38;5;250m \u001b[39m\u001b[38;5;28;01mimport\u001b[39;00m MultiPolygon, MultiLineString, MultiPoint\n",
      "\u001b[31mModuleNotFoundError\u001b[39m: No module named 'shapely'"
     ]
    }
   ],
   "source": [
    "# for geometry\n",
    "from shapely.geometry import Point, LineString, Polygon\n",
    "from shapely.geometry import box\t# Import geometry object \"box\" to create a rectangular polygon using corners coordinates\n",
    "from shapely.geometry import MultiPolygon, MultiLineString, MultiPoint"
   ]
  },
  {
   "cell_type": "code",
   "execution_count": null,
   "id": "f0d4799d",
   "metadata": {},
   "outputs": [],
   "source": [
    "# for dataframes \n",
    "import pandas as pd\n",
    "import numpy as np\n",
    "import geopandas as gpd"
   ]
  },
  {
   "cell_type": "code",
   "execution_count": null,
   "id": "65183af2",
   "metadata": {},
   "outputs": [],
   "source": [
    "#for map and data visualization\n",
    "\n",
    "import matplotlib.pyplot as plt\n",
    "import seaborn as sns\n",
    "import contextily as ctx\n",
    "import folium\n",
    "from folium import plugins"
   ]
  },
  {
   "cell_type": "code",
   "execution_count": null,
   "id": "a9b2d3b8",
   "metadata": {},
   "outputs": [],
   "source": [
    "# for database connection\n",
    "from sqlalchemy import create_engine, text\n",
    "# for interactibility\n",
    "import ipywidgets as widgets"
   ]
  },
  {
   "cell_type": "code",
   "execution_count": null,
   "id": "1db8bdad",
   "metadata": {},
   "outputs": [],
   "source": [
    "# for client \n",
    "import requests\n",
    "\n",
    "# for server\n",
    "from flask import Flask, jsonify, request\n",
    "import json\n",
    "import statistics"
   ]
  },
  {
   "cell_type": "code",
   "execution_count": null,
   "id": "b537dc60",
   "metadata": {},
   "outputs": [],
   "source": [
    "# Other useful libraries\n",
    "import csv\n",
    "import os\n",
    "import random"
   ]
  }
 ],
 "metadata": {
  "kernelspec": {
   "display_name": "se4g_project",
   "language": "python",
   "name": "python3"
  },
  "language_info": {
   "codemirror_mode": {
    "name": "ipython",
    "version": 3
   },
   "file_extension": ".py",
   "mimetype": "text/x-python",
   "name": "python",
   "nbconvert_exporter": "python",
   "pygments_lexer": "ipython3",
   "version": "3.13.2"
  }
 },
 "nbformat": 4,
 "nbformat_minor": 5
}
