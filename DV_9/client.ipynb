{
 "cells": [
  {
   "cell_type": "code",
   "execution_count": null,
   "id": "0830a1b1",
   "metadata": {},
   "outputs": [],
   "source": [
    "# DV9: Display histograms of average pollutant concentrations per province, including global averages\n",
    "#  ## DV-9 Average concentration – histogram\n",
    "# The interface allow the user to choose a pollutant and a time window and \n",
    "# visualize in a histogram the average for each province (along with the global average)\n",
    "# concentration of the selected pollutant over a selected time period.\n",
    "# [Optional: same average but for each municipality\n",
    "\n",
    "# - button select pollutant\n",
    "# - button select start day\n",
    "# - button select end day\n",
    "# - button select start mounth\n",
    "# - button select end mounth\n",
    "# - button select start year\n",
    "# - button select end year\n",
    "# - button select administrative lavel"
   ]
  }
 ],
 "metadata": {
  "language_info": {
   "name": "python"
  }
 },
 "nbformat": 4,
 "nbformat_minor": 5
}
