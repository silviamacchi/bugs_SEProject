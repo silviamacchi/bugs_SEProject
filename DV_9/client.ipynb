{
 "cells": [
  {
   "cell_type": "code",
   "execution_count": null,
   "id": "0830a1b1",
   "metadata": {},
   "outputs": [],
   "source": [
    "# DV9: Display histograms of average pollutant concentrations per province, including global averages\n",
    "#  ## DV-9 Average concentration – histogram\n",
    "# The interface allow the user to choose a pollutant and a time window and \n",
    "# visualize in a histogram the average for each province (along with the global average)\n",
    "# concentration of the selected pollutant over a selected time period.\n",
    "# [Optional: same average but for each municipality\n",
    "\n",
    "# - button select pollutant\n",
    "# - button select start day\n",
    "# - button select end day\n",
    "# - button select start mounth\n",
    "# - button select end mounth\n",
    "# - button select start year\n",
    "# - button select end year\n",
    "# - button select administrative level"
   ]
  },
  {
   "cell_type": "code",
   "execution_count": 1,
   "id": "999abbdd",
   "metadata": {},
   "outputs": [
    {
     "data": {
      "application/vnd.jupyter.widget-view+json": {
       "model_id": "abef7a213bfd452cb09735af3fc10a7b",
       "version_major": 2,
       "version_minor": 0
      },
      "text/plain": [
       "Dropdown(description='Inquinante:', options=('Ammoniaca', 'Arsenico', 'Benzo(a)pirene', 'Benzene', 'Biossido d…"
      ]
     },
     "metadata": {},
     "output_type": "display_data"
    },
    {
     "data": {
      "application/vnd.jupyter.widget-view+json": {
       "model_id": "ed7bc6642808457bb6a90b66c339220f",
       "version_major": 2,
       "version_minor": 0
      },
      "text/plain": [
       "Output()"
      ]
     },
     "metadata": {},
     "output_type": "display_data"
    },
    {
     "data": {
      "application/vnd.jupyter.widget-view+json": {
       "model_id": "e166a975f6444b31b4a8a6a7985f738a",
       "version_major": 2,
       "version_minor": 0
      },
      "text/plain": [
       "Output()"
      ]
     },
     "metadata": {},
     "output_type": "display_data"
    }
   ],
   "source": [
    "import ipywidgets as widgets\n",
    "from IPython.display import display, clear_output\n",
    "\n",
    "# Output dinamici\n",
    "output1 = widgets.Output()\n",
    "output2 = widgets.Output()\n",
    "\n",
    "# Variabili globali\n",
    "start_date = None\n",
    "end_date = None\n",
    "\n",
    "# Province della Lombardia\n",
    "province_lombardia = [\n",
    "    \"Bergamo\", \"Brescia\", \"Como\", \"Cremona\", \"Lecco\", \"Lodi\",\n",
    "    \"Mantova\", \"Milano\", \"Monza e della Brianza\", \"Pavia\",\n",
    "    \"Sondrio\", \"Varese\"\n",
    "]\n",
    "\n",
    "# Dropdown province (attivato solo dopo che le date sono definite)\n",
    "dropdown_prov = widgets.Dropdown(\n",
    "    options=province_lombardia,\n",
    "    description='Provincia:'\n",
    ")\n",
    "\n",
    "# Dropdown inquinanti\n",
    "dropdown_pollutant = widgets.Dropdown(\n",
    "    options=[\n",
    "        \"Ammoniaca\", \"Arsenico\", \"Benzo(a)pirene\", \"Benzene\", \"Biossido di Azoto\",\n",
    "        \"Biossido di Zolfo\", \"BlackCarbon\", \"Cadmio\", \"Monossido di Azoto\",\n",
    "        \"Monossido di Carbonio\", \"Nikel\", \"Ossidi di Azoto\", \"Ozono\", \"PM10\",\n",
    "        \"PM10 (SM2005)\", \"Particelle sospese PM2.5\", \"Particolato Totale Sospeso\",\n",
    "        \"Piombo\"\n",
    "    ],\n",
    "    description='Inquinante:'\n",
    ")\n",
    "\n",
    "# Callback dopo selezione inquinante\n",
    "def on_dropdown_change(change):\n",
    "    if change['type'] == 'change' and change['name'] == 'value':\n",
    "        with output1:\n",
    "            clear_output()\n",
    "            global start_date, end_date\n",
    "            start_date = widgets.DatePicker(description='Inizio:')\n",
    "            end_date = widgets.DatePicker(description='Fine:')\n",
    "\n",
    "            def check_dates(_):\n",
    "                if start_date.value and end_date.value:\n",
    "                    with output2:\n",
    "                        clear_output()\n",
    "                        display(dropdown_prov)\n",
    "\n",
    "            start_date.observe(check_dates, names='value')\n",
    "            end_date.observe(check_dates, names='value')\n",
    "\n",
    "            display(widgets.VBox([start_date, end_date]))\n",
    "\n",
    "# Collega evento\n",
    "dropdown_pollutant.observe(on_dropdown_change, names='value')\n",
    "\n",
    "# Visualizzazione\n",
    "display(dropdown_pollutant)\n",
    "display(output1)\n",
    "display(output2)\n"
   ]
  },
  {
   "cell_type": "code",
   "execution_count": null,
   "id": "93e85a20",
   "metadata": {},
   "outputs": [],
   "source": [
    "import pandas as pd\n",
    "import matplotlib.pyplot as plt\n",
    "import ipywidgets as widgets\n",
    "from IPython.display import display, clear_output\n",
    "\n",
    "df = pd.read_csv(\"air_quality_data.csv\")\n",
    "\n",
    "# Assumiamo colonne:\n",
    "# 'pollutant', 'value', 'province', 'municipality', 'date'\n",
    "df['date'] = pd.to_datetime(df['date'])\n",
    "df['year'] = df['date'].dt.year\n",
    "df['month'] = df['date'].dt.month\n",
    "df['day'] = df['date'].dt.day"
   ]
  },
  {
   "cell_type": "code",
   "execution_count": null,
   "id": "2e89df54",
   "metadata": {},
   "outputs": [],
   "source": [
    "pollutants = df['pollutant'].unique()\n",
    "years = sorted(df['year'].unique())\n",
    "months = sorted(df['month'].unique())\n",
    "days = sorted(df['day'].unique())\n",
    "levels = ['Province', 'Municipality']\n",
    "\n",
    "dropdown_pollutant = widgets.Dropdown(options=pollutants, description='Pollutant:')\n",
    "dropdown_year_start = widgets.Dropdown(options=years, description='Start Year:')\n",
    "dropdown_year_end = widgets.Dropdown(options=years, description='End Year:')\n",
    "dropdown_month_start = widgets.Dropdown(options=months, description='Start Month:')\n",
    "dropdown_month_end = widgets.Dropdown(options=months, description='End Month:')\n",
    "dropdown_day_start = widgets.Dropdown(options=days, description='Start Day:')\n",
    "dropdown_day_end = widgets.Dropdown(options=days, description='End Day:')\n",
    "dropdown_level = widgets.Dropdown(options=levels, description='Level:')\n",
    "button = widgets.Button(description=\"Visualize\")\n"
   ]
  },
  {
   "cell_type": "code",
   "execution_count": null,
   "id": "491bd141",
   "metadata": {},
   "outputs": [],
   "source": [
    "def on_button_clicked(b):\n",
    "    clear_output(wait=True)\n",
    "    display(dropdown_pollutant, dropdown_year_start, dropdown_year_end,\n",
    "            dropdown_month_start, dropdown_month_end,\n",
    "            dropdown_day_start, dropdown_day_end,\n",
    "            dropdown_level, button)\n",
    "\n",
    "    # Filtro dei dati\n",
    "    pollutant = dropdown_pollutant.value\n",
    "    start_date = pd.Timestamp(dropdown_year_start.value, dropdown_month_start.value, dropdown_day_start.value)\n",
    "    end_date = pd.Timestamp(dropdown_year_end.value, dropdown_month_end.value, dropdown_day_end.value)\n",
    "    level = 'province' if dropdown_level.value == 'Province' else 'municipality'\n",
    "\n",
    "    df_filtered = df[(df['pollutant'] == pollutant) & \n",
    "                     (df['date'] >= start_date) & \n",
    "                     (df['date'] <= end_date)]\n",
    "\n",
    "    # Media per livello selezionato\n",
    "    df_avg = df_filtered.groupby(level)['value'].mean().sort_values(ascending=False)\n",
    "    global_avg = df_filtered['value'].mean()\n",
    "\n",
    "    # Plot\n",
    "    plt.figure(figsize=(12, 6))\n",
    "    df_avg.plot(kind='bar')\n",
    "    plt.axhline(global_avg, color='red', linestyle='--', label=f'Global Avg: {global_avg:.2f}')\n",
    "    plt.title(f\"{pollutant} average concentration ({level.title()})\")\n",
    "    plt.ylabel(\"Avg concentration\")\n",
    "    plt.xlabel(level.title())\n",
    "    plt.legend()\n",
    "    plt.grid(True)\n",
    "    plt.tight_layout()\n",
    "    plt.show()\n",
    "    "
   ]
  },
  {
   "cell_type": "code",
   "execution_count": null,
   "id": "148a1470",
   "metadata": {},
   "outputs": [],
   "source": [
    "button.on_click(on_button_clicked)\n",
    "\n",
    "display(dropdown_pollutant, dropdown_year_start, dropdown_year_end,\n",
    "        dropdown_month_start, dropdown_month_end,\n",
    "        dropdown_day_start, dropdown_day_end,\n",
    "        dropdown_level, button)"
   ]
  }
 ],
 "metadata": {
  "kernelspec": {
   "display_name": "se4g_project",
   "language": "python",
   "name": "python3"
  },
  "language_info": {
   "codemirror_mode": {
    "name": "ipython",
    "version": 3
   },
   "file_extension": ".py",
   "mimetype": "text/x-python",
   "name": "python",
   "nbconvert_exporter": "python",
   "pygments_lexer": "ipython3",
   "version": "3.13.2"
  }
 },
 "nbformat": 4,
 "nbformat_minor": 5
}
