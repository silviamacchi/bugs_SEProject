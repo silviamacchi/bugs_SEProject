{
 "cells": [
  {
   "cell_type": "code",
   "execution_count": null,
   "id": "0830a1b1",
   "metadata": {},
   "outputs": [],
   "source": [
    "# DV9: Display histograms of average pollutant concentrations per province, including global averages\n",
    "#  ## DV-9 Average concentration – histogram\n",
    "# The interface allow the user to choose a pollutant and a time window and \n",
    "# visualize in a histogram the average for each province (along with the global average)\n",
    "# concentration of the selected pollutant over a selected time period.\n",
    "# [Optional: same average but for each municipality\n",
    "\n",
    "# - button select pollutant\n",
    "# - button select start day\n",
    "# - button select end day\n",
    "# - button select start mounth\n",
    "# - button select end mounth\n",
    "# - button select start year\n",
    "# - button select end year\n",
    "# - button select administrative level"
   ]
  },
  {
   "cell_type": "code",
   "execution_count": 7,
   "id": "999abbdd",
   "metadata": {},
   "outputs": [
    {
     "data": {
      "application/vnd.jupyter.widget-view+json": {
       "model_id": "1631b33d1bce45c88f25bf65e808853f",
       "version_major": 2,
       "version_minor": 0
      },
      "text/plain": [
       "Dropdown(description='Inquinante:', options=('Ammoniaca', 'Arsenico', 'Benzo(a)pirene', 'Benzene', 'Biossido d…"
      ]
     },
     "metadata": {},
     "output_type": "display_data"
    },
    {
     "data": {
      "application/vnd.jupyter.widget-view+json": {
       "model_id": "e921d26e54b0457abd9e890afaa93af7",
       "version_major": 2,
       "version_minor": 0
      },
      "text/plain": [
       "Output()"
      ]
     },
     "metadata": {},
     "output_type": "display_data"
    },
    {
     "data": {
      "application/vnd.jupyter.widget-view+json": {
       "model_id": "b283fca6c35f43d6b3554b0db408b1e4",
       "version_major": 2,
       "version_minor": 0
      },
      "text/plain": [
       "Output()"
      ]
     },
     "metadata": {},
     "output_type": "display_data"
    }
   ],
   "source": [
    "import ipywidgets as widgets\n",
    "from IPython.display import display, clear_output\n",
    "\n",
    "# Output dinamici\n",
    "output1 = widgets.Output()\n",
    "output2 = widgets.Output()\n",
    "\n",
    "# Variabili globali\n",
    "start_date = None\n",
    "end_date = None\n",
    "\n",
    "# Dropdown inquinanti\n",
    "dropdown_pollutant = widgets.Dropdown(\n",
    "    options=[\n",
    "        \"Ammoniaca\", \"Arsenico\", \"Benzo(a)pirene\", \"Benzene\", \"Biossido di Azoto\",\n",
    "        \"Biossido di Zolfo\", \"BlackCarbon\", \"Cadmio\", \"Monossido di Azoto\",\n",
    "        \"Monossido di Carbonio\", \"Nikel\", \"Ossidi di Azoto\", \"Ozono\", \"PM10\",\n",
    "        \"PM10 (SM2005)\", \"Particelle sospese PM2.5\", \"Particolato Totale Sospeso\",\n",
    "        \"Piombo\"\n",
    "    ],\n",
    "    description='Inquinante:'\n",
    ")\n",
    "\n",
    "# Callback dopo selezione inquinante\n",
    "def on_dropdown_change(change):\n",
    "    if change['type'] == 'change' and change['name'] == 'value':\n",
    "        with output1:\n",
    "            clear_output()\n",
    "            global start_date, end_date\n",
    "            start_date = widgets.DatePicker(description='Inizio:')\n",
    "            end_date = widgets.DatePicker(description='Fine:')\n",
    "\n",
    "            def check_dates(_):\n",
    "                if start_date.value and end_date.value:\n",
    "                    with output2:\n",
    "                        clear_output()\n",
    "                        # Rimosso: display(dropdown_prov)\n",
    "\n",
    "            start_date.observe(check_dates, names='value')\n",
    "            end_date.observe(check_dates, names='value')\n",
    "\n",
    "            display(widgets.VBox([start_date, end_date]))\n",
    "\n",
    "# Collega evento\n",
    "dropdown_pollutant.observe(on_dropdown_change, names='value')\n",
    "\n",
    "# Visualizzazione\n",
    "display(dropdown_pollutant)\n",
    "display(output1)\n",
    "display(output2)\n",
    "\n"
   ]
  },
  {
   "cell_type": "code",
   "execution_count": 8,
   "id": "b23bdece",
   "metadata": {},
   "outputs": [
    {
     "data": {
      "text/plain": [
       "{'var_pollutant': 'Ozono',\n",
       " 'var_start_date': '2024-12-20 00:00:00',\n",
       " 'var_end_date': '2024-12-22 24:00:00'}"
      ]
     },
     "execution_count": 8,
     "metadata": {},
     "output_type": "execute_result"
    }
   ],
   "source": [
    "from datetime import date\n",
    "\n",
    "# Assicurati che start_date.value ed end_date.value non siano None\n",
    "if start_date.value and end_date.value:\n",
    "    data = {\n",
    "        \"var_pollutant\": dropdown_pollutant.value,\n",
    "        \"var_start_date\": start_date.value.strftime('%Y-%m-%d 00:00:00'),\n",
    "        \"var_end_date\": end_date.value.strftime('%Y-%m-%d 24:00:00'),\n",
    "    }\n",
    "\n",
    "data"
   ]
  },
  {
   "cell_type": "code",
   "execution_count": 9,
   "id": "82639d64",
   "metadata": {},
   "outputs": [
    {
     "name": "stdout",
     "output_type": "stream",
     "text": [
      "Risposta non valida JSON!\n",
      "Contenuto della risposta: <!doctype html>\n",
      "<html lang=en>\n",
      "<title>404 Not Found</title>\n",
      "<h1>Not Found</h1>\n",
      "<p>The requested URL was not found on the server. If you entered the URL manually please check your spelling and try again.</p>\n",
      "\n",
      "Empty DataFrame\n",
      "Columns: []\n",
      "Index: []\n"
     ]
    }
   ],
   "source": [
    "# DV-9 \n",
    "\n",
    "import requests\n",
    "import pandas as pd\n",
    "import json\n",
    "\n",
    "t=requests.post(url=\"http://127.0.0.1:5000/api/DV_9\", json=data) \n",
    "\n",
    "try:\n",
    "    data = t.json() #This will convert the response to a json object\n",
    "    print(\"The query returned\", len(data), \"rows\")\n",
    "    print(type(data))\n",
    "except requests.exceptions.JSONDecodeError:\n",
    "    print(\"Risposta non valida JSON!\")\n",
    "    print(\"Contenuto della risposta:\", t.text)\n",
    "    data = None\n",
    "\n",
    "df = pd.DataFrame(data)\n",
    "print(df)"
   ]
  },
  {
   "cell_type": "code",
   "execution_count": null,
   "id": "f0dda5f2",
   "metadata": {},
   "outputs": [],
   "source": [
    "# visualize in a histogram the average for each province (along with the global average) concentration of the selected pollutant over a selected time period.\n",
    "\n"
   ]
  }
 ],
 "metadata": {
  "kernelspec": {
   "display_name": "se4g_project",
   "language": "python",
   "name": "python3"
  },
  "language_info": {
   "codemirror_mode": {
    "name": "ipython",
    "version": 3
   },
   "file_extension": ".py",
   "mimetype": "text/x-python",
   "name": "python",
   "nbconvert_exporter": "python",
   "pygments_lexer": "ipython3",
   "version": "3.13.2"
  }
 },
 "nbformat": 4,
 "nbformat_minor": 5
}
