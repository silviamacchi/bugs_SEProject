{
 "cells": [
  {
   "cell_type": "code",
   "execution_count": 1,
   "id": "1379935e",
   "metadata": {},
   "outputs": [],
   "source": [
    "import requests\n",
    "import pandas as pd\n",
    "import json"
   ]
  },
  {
   "cell_type": "code",
   "execution_count": null,
   "id": "2db33448",
   "metadata": {},
   "outputs": [
    {
     "name": "stdout",
     "output_type": "stream",
     "text": [
      "The query returned 59450  rows\n",
      "<class 'list'>\n"
     ]
    }
   ],
   "source": [
    "#select the data we want as parameters, this will be done using a button\n",
    "data = {\"var_sensor_id\": 5586, \"var_pollutant\" :\"Biossido di Azoto\"} #Right now data is a dictionary\n",
    "\n",
    "# send the request to the server, we use post because we are sending data to the server\n",
    "t=requests.post(url=\"http://127.0.0.1:5000/api/DV_5\", json=data) #json= data will convert the dictionary to a json object and send it to the server\n",
    "#data = t.json()\n",
    "#print(data)\n",
    "\n",
    "\n",
    "try:\n",
    "    data = t.json() #This will convert the response to a json object\n",
    "    print(\"The query returned\", len(data), \"rows\")\n",
    "    print(type(data))\n",
    "except requests.exceptions.JSONDecodeError:\n",
    "    print(\"Risposta non valida JSON!\")\n",
    "    print(\"Contenuto della risposta:\", t.text)\n",
    "    data = None\n"
   ]
  },
  {
   "cell_type": "code",
   "execution_count": null,
   "id": "165a0678",
   "metadata": {},
   "outputs": [
    {
     "name": "stdout",
     "output_type": "stream",
     "text": [
      "                                data  valore\n",
      "0      Thu, 13 Apr 2023 21:00:00 GMT    18.7\n",
      "1      Thu, 13 Apr 2023 22:00:00 GMT    13.3\n",
      "2      Thu, 13 Apr 2023 23:00:00 GMT    16.1\n",
      "3      Fri, 14 Apr 2023 00:00:00 GMT    23.2\n",
      "4      Fri, 14 Apr 2023 01:00:00 GMT    21.2\n",
      "...                              ...     ...\n",
      "59445  Tue, 29 Mar 2022 21:00:00 GMT    58.1\n",
      "59446  Tue, 29 Mar 2022 22:00:00 GMT    47.6\n",
      "59447  Tue, 29 Mar 2022 23:00:00 GMT    43.8\n",
      "59448  Wed, 30 Mar 2022 00:00:00 GMT    38.3\n",
      "59449  Wed, 30 Mar 2022 01:00:00 GMT    27.4\n",
      "\n",
      "[59450 rows x 2 columns]\n"
     ]
    }
   ],
   "source": [
    "# to visualize the response, we can conver the data to a pandas dataframe\n",
    "df = pd.DataFrame(data)\n",
    "print(df)"
   ]
  }
 ],
 "metadata": {
  "kernelspec": {
   "display_name": "se4g_project",
   "language": "python",
   "name": "python3"
  },
  "language_info": {
   "codemirror_mode": {
    "name": "ipython",
    "version": 3
   },
   "file_extension": ".py",
   "mimetype": "text/x-python",
   "name": "python",
   "nbconvert_exporter": "python",
   "pygments_lexer": "ipython3",
   "version": "3.13.2"
  }
 },
 "nbformat": 4,
 "nbformat_minor": 5
}
