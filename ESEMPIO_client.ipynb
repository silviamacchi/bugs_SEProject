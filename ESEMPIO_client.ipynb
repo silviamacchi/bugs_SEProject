{
 "cells": [
  {
   "cell_type": "code",
   "execution_count": 17,
   "id": "1379935e",
   "metadata": {},
   "outputs": [],
   "source": [
    "import requests\n",
    "import pandas as pd\n",
    "import json"
   ]
  },
  {
   "cell_type": "code",
   "execution_count": 10,
   "id": "2db33448",
   "metadata": {},
   "outputs": [
    {
     "name": "stdout",
     "output_type": "stream",
     "text": [
      "The query returned 295 rows\n",
      "<class 'list'>\n"
     ]
    }
   ],
   "source": [
    "# DV-5\n",
    "#select the data we want as parameters, this will be done using a button\n",
    "data = {\"var_sensor_id\": 5586, \"var_pollutant\" :\"Biossido di Azoto\"} #Right now data is a dictionary\n",
    "\n",
    "# send the request to the server, we use post because we are sending data to the server\n",
    "t=requests.post(url=\"http://127.0.0.1:5000/api/DV_5\", json=data) #json= data will convert the dictionary to a json object and send it to the server\n",
    "#data = t.json()\n",
    "#print(data)\n",
    "\n",
    "\n",
    "try:\n",
    "    data = t.json() #This will convert the response to a json object\n",
    "    print(\"The query returned\", len(data), \"rows\")\n",
    "    print(type(data))\n",
    "except requests.exceptions.JSONDecodeError:\n",
    "    print(\"Risposta non valida JSON!\")\n",
    "    print(\"Contenuto della risposta:\", t.text)\n",
    "    data = None\n"
   ]
  },
  {
   "cell_type": "code",
   "execution_count": 3,
   "id": "165a0678",
   "metadata": {},
   "outputs": [
    {
     "name": "stdout",
     "output_type": "stream",
     "text": [
      "                              data  valore\n",
      "0    Thu, 19 Dec 2024 18:00:00 GMT    40.2\n",
      "1    Thu, 19 Dec 2024 19:00:00 GMT    44.3\n",
      "2    Thu, 19 Dec 2024 20:00:00 GMT    42.9\n",
      "3    Thu, 19 Dec 2024 21:00:00 GMT    40.1\n",
      "4    Thu, 19 Dec 2024 22:00:00 GMT    37.5\n",
      "..                             ...     ...\n",
      "290  Tue, 31 Dec 2024 20:00:00 GMT    60.5\n",
      "291  Tue, 31 Dec 2024 21:00:00 GMT    58.5\n",
      "292  Tue, 31 Dec 2024 22:00:00 GMT    56.6\n",
      "293  Tue, 31 Dec 2024 23:00:00 GMT    53.9\n",
      "294  Wed, 01 Jan 2025 00:00:00 GMT    45.7\n",
      "\n",
      "[295 rows x 2 columns]\n"
     ]
    }
   ],
   "source": [
    "# to visualize the response, we can conver the data to a pandas dataframe\n",
    "df = pd.DataFrame(data)\n",
    "print(df)"
   ]
  },
  {
   "cell_type": "code",
   "execution_count": 11,
   "id": "c5a07151",
   "metadata": {},
   "outputs": [
    {
     "name": "stdout",
     "output_type": "stream",
     "text": [
      "The query returned 885 rows\n",
      "<class 'list'>\n",
      "                              data  valore\n",
      "0    Thu, 19 Dec 2024 18:00:00 GMT     2.8\n",
      "1    Thu, 19 Dec 2024 18:00:00 GMT     1.8\n",
      "2    Thu, 19 Dec 2024 18:00:00 GMT     2.7\n",
      "3    Thu, 19 Dec 2024 19:00:00 GMT     3.9\n",
      "4    Thu, 19 Dec 2024 19:00:00 GMT     2.0\n",
      "..                             ...     ...\n",
      "880  Tue, 31 Dec 2024 23:00:00 GMT     4.0\n",
      "881  Tue, 31 Dec 2024 23:00:00 GMT     4.5\n",
      "882  Wed, 01 Jan 2025 00:00:00 GMT     5.0\n",
      "883  Wed, 01 Jan 2025 00:00:00 GMT     4.5\n",
      "884  Wed, 01 Jan 2025 00:00:00 GMT     4.6\n",
      "\n",
      "[885 rows x 2 columns]\n"
     ]
    }
   ],
   "source": [
    "# DV-7 Comune \n",
    "\n",
    "data = {\"var_comune\": \"Milano\", \"var_pollutant\" :\"Benzene\"} #Right now data is a dictionary\n",
    "t=requests.post(url=\"http://127.0.0.1:5000/api/DV_7comune\", json=data) \n",
    "\n",
    "try:\n",
    "    data = t.json() #This will convert the response to a json object\n",
    "    print(\"The query returned\", len(data), \"rows\")\n",
    "    print(type(data))\n",
    "except requests.exceptions.JSONDecodeError:\n",
    "    print(\"Risposta non valida JSON!\")\n",
    "    print(\"Contenuto della risposta:\", t.text)\n",
    "    data = None\n",
    "\n",
    "df = pd.DataFrame(data)\n",
    "print(df)"
   ]
  },
  {
   "cell_type": "code",
   "execution_count": 13,
   "id": "9dbd8f4e",
   "metadata": {},
   "outputs": [
    {
     "name": "stdout",
     "output_type": "stream",
     "text": [
      "The query returned 885 rows\n",
      "<class 'list'>\n",
      "                              data  valore\n",
      "0    Thu, 19 Dec 2024 18:00:00 GMT     2.8\n",
      "1    Thu, 19 Dec 2024 18:00:00 GMT     1.8\n",
      "2    Thu, 19 Dec 2024 18:00:00 GMT     2.7\n",
      "3    Thu, 19 Dec 2024 19:00:00 GMT     3.9\n",
      "4    Thu, 19 Dec 2024 19:00:00 GMT     2.0\n",
      "..                             ...     ...\n",
      "880  Tue, 31 Dec 2024 23:00:00 GMT     4.0\n",
      "881  Tue, 31 Dec 2024 23:00:00 GMT     4.5\n",
      "882  Wed, 01 Jan 2025 00:00:00 GMT     5.0\n",
      "883  Wed, 01 Jan 2025 00:00:00 GMT     4.5\n",
      "884  Wed, 01 Jan 2025 00:00:00 GMT     4.6\n",
      "\n",
      "[885 rows x 2 columns]\n"
     ]
    }
   ],
   "source": [
    "# DV-7 Provincia\n",
    "\n",
    "data = {\"var_provincia\": \"MILANO\", \"var_pollutant\" :\"Benzene\"} #Right now data is a dictionary\n",
    "t=requests.post(url=\"http://127.0.0.1:5000/api/DV_7provincia\", json=data) \n",
    "\n",
    "try:\n",
    "    data = t.json() #This will convert the response to a json object\n",
    "    print(\"The query returned\", len(data), \"rows\")\n",
    "    print(type(data))\n",
    "except requests.exceptions.JSONDecodeError:\n",
    "    print(\"Risposta non valida JSON!\")\n",
    "    print(\"Contenuto della risposta:\", t.text)\n",
    "    data = None\n",
    "\n",
    "df = pd.DataFrame(data)\n",
    "print(df)\n"
   ]
  },
  {
   "cell_type": "code",
   "execution_count": 14,
   "id": "03c09965",
   "metadata": {},
   "outputs": [
    {
     "name": "stdout",
     "output_type": "stream",
     "text": [
      "The query returned 12 rows\n",
      "<class 'list'>\n",
      "    avg_concentration                                  geometry_province  \\\n",
      "0           37.562825  POLYGON ((10.070857629803442 46.21714100826879...   \n",
      "1           25.928950  MULTIPOLYGON (((9.322681435873294 45.243779842...   \n",
      "2           19.647881  POLYGON ((10.706360052840745 45.31644881231872...   \n",
      "3           25.255932  MULTIPOLYGON (((9.123118777585237 45.689683280...   \n",
      "4           50.455902  POLYGON ((9.478749753601525 45.78626324673555,...   \n",
      "5           25.291419  POLYGON ((8.935928002182852 45.641559373212615...   \n",
      "6           23.180847  POLYGON ((9.714096891638112 45.48286731457593,...   \n",
      "7            8.819774  POLYGON ((9.9088234231475 45.135809986009406, ...   \n",
      "8           24.347080  POLYGON ((9.29927274315387 45.683043232323854,...   \n",
      "9           18.655424  MULTIPOLYGON (((9.355739512270613 45.321182003...   \n",
      "10          23.213465  POLYGON ((10.338908005996643 46.28617812715442...   \n",
      "11          17.155397  POLYGON ((9.552146891388766 45.339054114332306...   \n",
      "\n",
      "   sigla_provincia  \n",
      "0               SO  \n",
      "1               PV  \n",
      "2               MN  \n",
      "3               CO  \n",
      "4               LC  \n",
      "5               VA  \n",
      "6               BG  \n",
      "7               CR  \n",
      "8               MB  \n",
      "9               MI  \n",
      "10              BS  \n",
      "11              LO  \n"
     ]
    }
   ],
   "source": [
    "# DV-8 \n",
    "\n",
    "data = {\"var_pollutant\": \"Ozono\", \"var_start_date\" :\"2024-12-19 18:00:00\",\"var_end_date\" :\"2025-01-01 00:00:00\"} #Right now data is a dictionary\n",
    "t=requests.post(url=\"http://127.0.0.1:5000/api/DV_8\", json=data) \n",
    "\n",
    "try:\n",
    "    data = t.json() #This will convert the response to a json object\n",
    "    print(\"The query returned\", len(data), \"rows\")\n",
    "    print(type(data))\n",
    "except requests.exceptions.JSONDecodeError:\n",
    "    print(\"Risposta non valida JSON!\")\n",
    "    print(\"Contenuto della risposta:\", t.text)\n",
    "    data = None\n",
    "\n",
    "df = pd.DataFrame(data)\n",
    "print(df)\n"
   ]
  },
  {
   "cell_type": "code",
   "execution_count": 19,
   "id": "2f89d6d0",
   "metadata": {},
   "outputs": [
    {
     "name": "stdout",
     "output_type": "stream",
     "text": [
      "The query returned 12 rows\n",
      "<class 'list'>\n",
      "    avg_concentration         nome_provincia\n",
      "0           17.155397                   LODI\n",
      "1           50.455902                  LECCO\n",
      "2           25.928950                  PAVIA\n",
      "3           23.213465                BRESCIA\n",
      "4           24.347080  MONZA E DELLA BRIANZA\n",
      "5           37.562825                SONDRIO\n",
      "6           19.647881                MANTOVA\n",
      "7           25.291419                 VARESE\n",
      "8           25.255932                   COMO\n",
      "9            8.819774                CREMONA\n",
      "10          23.180847                BERGAMO\n",
      "11          18.655424                 MILANO\n"
     ]
    }
   ],
   "source": [
    "# DV-9 \n",
    "\n",
    "data = {\"var_pollutant\": \"Ozono\", \"var_start_date\" :\"2024-12-19 18:00:00\", \"var_end_date\" :\"2025-01-01 00:00:00\"} #Right now data is a dictionary\n",
    "t=requests.post(url=\"http://127.0.0.1:5000/api/DV_9\", json=data) \n",
    "\n",
    "try:\n",
    "    data = t.json() #This will convert the response to a json object\n",
    "    print(\"The query returned\", len(data), \"rows\")\n",
    "    print(type(data))\n",
    "except requests.exceptions.JSONDecodeError:\n",
    "    print(\"Risposta non valida JSON!\")\n",
    "    print(\"Contenuto della risposta:\", t.text)\n",
    "    data = None\n",
    "\n",
    "df = pd.DataFrame(data)\n",
    "print(df)"
   ]
  },
  {
   "cell_type": "code",
   "execution_count": 20,
   "id": "bc1aa1f4",
   "metadata": {},
   "outputs": [
    {
     "name": "stdout",
     "output_type": "stream",
     "text": [
      "The query returned 38 rows\n",
      "<class 'list'>\n",
      "    avg_concentration   quota\n",
      "0           20.518889   162.0\n",
      "1           16.930508    76.0\n",
      "2           22.358644   215.0\n",
      "3           13.202712    70.0\n",
      "4           17.546780   153.0\n",
      "5           24.327797   100.0\n",
      "6           15.729153   269.0\n",
      "7           26.970242    73.0\n",
      "8           24.838908    88.0\n",
      "9           61.362034  1225.0\n",
      "10          22.459589   206.0\n",
      "11          21.949153    77.0\n",
      "12          36.002712   425.0\n",
      "13          14.759322    22.0\n",
      "14           7.267458    43.0\n",
      "15          11.204746   116.0\n",
      "16          15.728814    64.0\n",
      "17          22.219322   182.0\n",
      "18          85.903051  1194.0\n",
      "19          10.006441    79.0\n",
      "20          31.446780   229.0\n",
      "21          25.255932   202.0\n",
      "22          19.877095    65.0\n",
      "23          27.850847   181.0\n",
      "24          29.985034    90.0\n",
      "25          17.071525   122.0\n",
      "26          33.425763    47.0\n",
      "27          15.021017    37.0\n",
      "28          28.535932   113.0\n",
      "29          37.956610   262.0\n",
      "30          17.243051   114.0\n",
      "31          26.461695   249.0\n",
      "32          43.488814   247.0\n",
      "33           9.185424    48.0\n",
      "34          36.602547   212.0\n",
      "35          38.504746   272.0\n",
      "36          13.369831   290.0\n",
      "37          30.859075   180.0\n"
     ]
    }
   ],
   "source": [
    "# DV-11 \n",
    "\n",
    "data = {\"var_pollutant\": \"Ozono\"} #Right now data is a dictionary\n",
    "t=requests.post(url=\"http://127.0.0.1:5000/api/DV_11\", json=data) \n",
    "\n",
    "try:\n",
    "    data = t.json() #This will convert the response to a json object\n",
    "    print(\"The query returned\", len(data), \"rows\")\n",
    "    print(type(data))\n",
    "except requests.exceptions.JSONDecodeError:\n",
    "    print(\"Risposta non valida JSON!\")\n",
    "    print(\"Contenuto della risposta:\", t.text)\n",
    "    data = None\n",
    "\n",
    "df = pd.DataFrame(data)\n",
    "print(df)"
   ]
  },
  {
   "cell_type": "code",
   "execution_count": 21,
   "id": "e336740b",
   "metadata": {},
   "outputs": [
    {
     "name": "stdout",
     "output_type": "stream",
     "text": [
      "The query returned 885 rows\n",
      "<class 'list'>\n",
      "                              data  valore\n",
      "0    Thu, 19 Dec 2024 18:00:00 GMT     2.8\n",
      "1    Thu, 19 Dec 2024 18:00:00 GMT     1.8\n",
      "2    Thu, 19 Dec 2024 18:00:00 GMT     2.7\n",
      "3    Thu, 19 Dec 2024 19:00:00 GMT     3.9\n",
      "4    Thu, 19 Dec 2024 19:00:00 GMT     2.0\n",
      "..                             ...     ...\n",
      "880  Tue, 31 Dec 2024 23:00:00 GMT     4.0\n",
      "881  Tue, 31 Dec 2024 23:00:00 GMT     4.5\n",
      "882  Wed, 01 Jan 2025 00:00:00 GMT     5.0\n",
      "883  Wed, 01 Jan 2025 00:00:00 GMT     4.5\n",
      "884  Wed, 01 Jan 2025 00:00:00 GMT     4.6\n",
      "\n",
      "[885 rows x 2 columns]\n"
     ]
    }
   ],
   "source": [
    "# EU-DV-2 \n",
    "\n",
    "data = {\"var_pollutant\": \"Benzene\", \"var_start_date\" :\"2024-12-19 18:00:00\", \"var_end_date\" :\"2025-01-01 00:00:00\",\"var_province\":\"MILANO\"} #Right now data is a dictionary\n",
    "t=requests.post(url=\"http://127.0.0.1:5000/api/EU_DV_2\", json=data) \n",
    "\n",
    "try:\n",
    "    data = t.json() #This will convert the response to a json object\n",
    "    print(\"The query returned\", len(data), \"rows\")\n",
    "    print(type(data))\n",
    "except requests.exceptions.JSONDecodeError:\n",
    "    print(\"Risposta non valida JSON!\")\n",
    "    print(\"Contenuto della risposta:\", t.text)\n",
    "    data = None\n",
    "\n",
    "df = pd.DataFrame(data)\n",
    "print(df)"
   ]
  }
 ],
 "metadata": {
  "kernelspec": {
   "display_name": "se4g_project",
   "language": "python",
   "name": "python3"
  },
  "language_info": {
   "codemirror_mode": {
    "name": "ipython",
    "version": 3
   },
   "file_extension": ".py",
   "mimetype": "text/x-python",
   "name": "python",
   "nbconvert_exporter": "python",
   "pygments_lexer": "ipython3",
   "version": "3.13.2"
  }
 },
 "nbformat": 4,
 "nbformat_minor": 5
}
