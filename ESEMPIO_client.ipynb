{
 "cells": [
  {
   "cell_type": "code",
   "execution_count": 1,
   "id": "1379935e",
   "metadata": {},
   "outputs": [],
   "source": [
    "import requests\n",
    "import pandas as pd\n",
    "import json"
   ]
  },
  {
   "cell_type": "code",
   "execution_count": 2,
   "id": "2db33448",
   "metadata": {},
   "outputs": [
    {
     "name": "stdout",
     "output_type": "stream",
     "text": [
      "The query returned 295 rows\n",
      "<class 'list'>\n"
     ]
    }
   ],
   "source": [
    "#select the data we want as parameters, this will be done using a button\n",
    "data = {\"var_sensor_id\": 5586, \"var_pollutant\" :\"Biossido di Azoto\"} #Right now data is a dictionary\n",
    "\n",
    "# send the request to the server, we use post because we are sending data to the server\n",
    "t=requests.post(url=\"http://127.0.0.1:5000/api/DV_5\", json=data) #json= data will convert the dictionary to a json object and send it to the server\n",
    "#data = t.json()\n",
    "#print(data)\n",
    "\n",
    "\n",
    "try:\n",
    "    data = t.json() #This will convert the response to a json object\n",
    "    print(\"The query returned\", len(data), \"rows\")\n",
    "    print(type(data))\n",
    "except requests.exceptions.JSONDecodeError:\n",
    "    print(\"Risposta non valida JSON!\")\n",
    "    print(\"Contenuto della risposta:\", t.text)\n",
    "    data = None\n"
   ]
  },
  {
   "cell_type": "code",
   "execution_count": 3,
   "id": "165a0678",
   "metadata": {},
   "outputs": [
    {
     "name": "stdout",
     "output_type": "stream",
     "text": [
      "                              data  valore\n",
      "0    Thu, 19 Dec 2024 18:00:00 GMT    40.2\n",
      "1    Thu, 19 Dec 2024 19:00:00 GMT    44.3\n",
      "2    Thu, 19 Dec 2024 20:00:00 GMT    42.9\n",
      "3    Thu, 19 Dec 2024 21:00:00 GMT    40.1\n",
      "4    Thu, 19 Dec 2024 22:00:00 GMT    37.5\n",
      "..                             ...     ...\n",
      "290  Tue, 31 Dec 2024 20:00:00 GMT    60.5\n",
      "291  Tue, 31 Dec 2024 21:00:00 GMT    58.5\n",
      "292  Tue, 31 Dec 2024 22:00:00 GMT    56.6\n",
      "293  Tue, 31 Dec 2024 23:00:00 GMT    53.9\n",
      "294  Wed, 01 Jan 2025 00:00:00 GMT    45.7\n",
      "\n",
      "[295 rows x 2 columns]\n"
     ]
    }
   ],
   "source": [
    "# to visualize the response, we can conver the data to a pandas dataframe\n",
    "df = pd.DataFrame(data)\n",
    "print(df)"
   ]
  }
 ],
 "metadata": {
  "kernelspec": {
   "display_name": "se4g_project",
   "language": "python",
   "name": "python3"
  },
  "language_info": {
   "codemirror_mode": {
    "name": "ipython",
    "version": 3
   },
   "file_extension": ".py",
   "mimetype": "text/x-python",
   "name": "python",
   "nbconvert_exporter": "python",
   "pygments_lexer": "ipython3",
   "version": "3.13.2"
  }
 },
 "nbformat": 4,
 "nbformat_minor": 5
}
