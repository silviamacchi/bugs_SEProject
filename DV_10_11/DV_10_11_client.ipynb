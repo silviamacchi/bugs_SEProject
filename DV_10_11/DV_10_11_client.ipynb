{
 "cells": [
  {
   "cell_type": "markdown",
   "id": "7a493f10",
   "metadata": {},
   "source": [
    "Function definition (to be removed, just 1 in the all code)"
   ]
  },
  {
   "cell_type": "code",
   "execution_count": null,
   "id": "1379935e",
   "metadata": {},
   "outputs": [],
   "source": [
    "import requests\n",
    "import pandas as pd\n",
    "import geopandas as gpd\n",
    "import json\n",
    "from shapely import wkt\n",
    "import ipywidgets as widgets\n",
    "import matplotlib.pyplot as plt\n",
    "import folium\n",
    "from shapely.geometry import mapping\n",
    "\n",
    "def read_response(t):\n",
    "    try:\n",
    "        data = t.json() #This will convert the response to a json object\n",
    "        return data\n",
    "    except requests.exceptions.JSONDecodeError:\n",
    "        print(\"Invalid response JSON!\")\n",
    "        print(\"Response content::\", t.text)\n",
    "        data = None \n",
    "\n",
    "def get_measurement_unit(pollutant):\n",
    "    t=requests.post(url=\"http://127.0.0.1:5000/api/units\", json={\"var_pollutant\": pollutant}) #json= data will convert the dictionary to a json object and send it to the server\n",
    "    data = read_response(t) \n",
    "    return data[0]\n",
    "    "
   ]
  },
  {
   "cell_type": "markdown",
   "id": "9e6923d0",
   "metadata": {},
   "source": [
    "## DV_10\n",
    "\n"
   ]
  },
  {
   "cell_type": "code",
   "execution_count": null,
   "id": "44172cbd",
   "metadata": {},
   "outputs": [],
   "source": [
    "t=requests.get(url=\"http://127.0.0.1:5000/api/pollutant\")\n",
    "list_pollutant = read_response(t)\n",
    "Selected_pollutant = widgets.Dropdown(\n",
    "    options=list_pollutant,\n",
    "    value=list_pollutant[0],\n",
    "    default=list_pollutant[0],\n",
    "    description='Pollutant:',\n",
    "    disabled=False, #Because we want the user to be able to select the province\n",
    ")\n",
    "Selected_pollutant"
   ]
  },
  {
   "cell_type": "code",
   "execution_count": null,
   "id": "2db33448",
   "metadata": {},
   "outputs": [],
   "source": [
    "# select the data we want as parameters\n",
    "data = {\"var_pollutant\": Selected_pollutant.value } #data is a dictionary\n",
    "\n",
    "# send the request to the server, we use post because we are sending data to the server\n",
    "t=requests.post(url=\"http://127.0.0.1:5000/api/DV_10\", json=data) #json= data will convert the dictionary to a json object and send it to the server\n",
    "\n",
    "data = read_response(t) \n"
   ]
  },
  {
   "cell_type": "markdown",
   "id": "b3416299",
   "metadata": {},
   "source": [
    "Adjustments to the geodataframe"
   ]
  },
  {
   "cell_type": "code",
   "execution_count": null,
   "id": "8d6f07e1",
   "metadata": {},
   "outputs": [],
   "source": [
    "# to visualize the response, we can conver the data to a pandas geodataframe\n",
    "gdf = gpd.GeoDataFrame(data)\n",
    "gdf['geometry'] = gdf['geometry'].apply(wkt.loads)\n",
    "gdf.set_geometry('geometry', inplace=True)\n",
    "\n",
    "gdf = gdf.dropna(subset=['quota']) # Drop rows where 'quota' is NaN\n",
    "\n",
    "gdf['month'] = pd.to_datetime(gdf['month'], errors='coerce')\n",
    "gdf['month'] = gdf['month'].dt.strftime('%b %Y')\n",
    "\n",
    "print(gdf)"
   ]
  },
  {
   "cell_type": "code",
   "execution_count": null,
   "id": "4ae856e5",
   "metadata": {},
   "outputs": [],
   "source": [
    "import matplotlib.pyplot as plt\n",
    "import matplotlib.colors as mcolors\n",
    "from matplotlib.widgets import Cursor\n",
    "from matplotlib.widgets import Slider\n",
    "from matplotlib.widgets import RadioButtons"
   ]
  },
  {
   "cell_type": "code",
   "execution_count": null,
   "id": "a03107cb",
   "metadata": {},
   "outputs": [],
   "source": [
    "# upload GeoDataFrame with contour lines\n",
    "gdf_contour = gpd.read_file(\"contour_lines.geojson\")\n",
    "gdf_contour"
   ]
  },
  {
   "cell_type": "code",
   "execution_count": null,
   "id": "a1194e7e",
   "metadata": {},
   "outputs": [],
   "source": [
    "import branca.colormap as cm\n",
    "import folium\n",
    "\n",
    "# Colormap for elevation and monthly average\n",
    "colormap_el = cm.LinearColormap([\"green\", \"yellow\", \"brown\"], vmin=gdf_contour['elevation'].min(), vmax=gdf_contour['elevation'].max())\n",
    "colormap_c = cm.LinearColormap([\"blue\", \"yellow\", \"red\"], vmin=gdf['monthly_average'].min(), vmax=gdf['monthly_average'].max())\n",
    " \n",
    "# Style function for contour lines\n",
    "def style_function(feature):\n",
    "    return {\n",
    "        \"color\": colormap_el(feature[\"properties\"][\"elevation\"]),\n",
    "        \"weight\": 0.25\n",
    "    }\n",
    "\n",
    "# Get years from gdf\n",
    "years = sorted(gdf[\"month\"].str[-4:].unique())  \n",
    "\n",
    "m = folium.Map(location=[45.4642, 9.300], zoom_start=8)  \n",
    "              \n",
    "folium.GeoJson(gdf_contour, name=\"Contour lines\", style_function=style_function).add_to(m)\n",
    "\n",
    "for year in years:\n",
    "    layer = folium.FeatureGroup(name=f\"{year}\")\n",
    "\n",
    "    gdf_filtered = gdf[gdf[\"month\"].str.contains(str(year))]\n",
    " \n",
    "    for _, row in gdf_filtered.iterrows():\n",
    "        folium.CircleMarker(\n",
    "            location=[row.geometry.y, row.geometry.x],\n",
    "            tooltip=f\"{row['month']}: {row['monthly_average']}{get_measurement_unit(Selected_pollutant.value)}\",\n",
    "            radius=5,\n",
    "            color=colormap_c(row[\"monthly_average\"]),\n",
    "        ).add_to(layer)\n",
    "\n",
    "    layer.add_to(m) \n",
    "\n",
    "colormap_el.caption = \"Elevation (m)\"\n",
    "colormap_el.add_to(m)\n",
    "folium.LayerControl().add_to(m)\n",
    "\n",
    "# Add title to the map\n",
    "title_html = '''\n",
    "    <h3 align=\"center\" style=\"font-size:20px\"><b>Correlation between concentration and elevation map</b></h3>\n",
    "'''\n",
    "\n",
    "m.get_root().html.add_child(folium.Element(title_html))\n",
    "m"
   ]
  },
  {
   "cell_type": "markdown",
   "id": "0d4c3738",
   "metadata": {},
   "source": [
    "## DV_11"
   ]
  },
  {
   "cell_type": "code",
   "execution_count": null,
   "id": "006faff8",
   "metadata": {},
   "outputs": [],
   "source": [
    "t=requests.get(url=\"http://127.0.0.1:5000/api/pollutant\")\n",
    "list_pollutant = read_response(t)\n",
    "Selected_pollutant = widgets.Dropdown(\n",
    "    options=list_pollutant,\n",
    "    value=list_pollutant[0],\n",
    "    default=list_pollutant[0],\n",
    "    description='Pollutant:',\n",
    "    disabled=False, #Because we want the user to be able to select the province\n",
    ") \n",
    "Selected_pollutant"
   ]
  },
  {
   "cell_type": "code",
   "execution_count": null,
   "id": "ac8cb8c3",
   "metadata": {},
   "outputs": [],
   "source": [
    "# select the data we want as parameters\n",
    "data = {\"var_pollutant\": Selected_pollutant.value } #data is a dictionary\n",
    "\n",
    "# send the request to the server, we use post because we are sending data to the server\n",
    "t=requests.post(url=\"http://127.0.0.1:5000/api/DV_10\", json=data) #json= data will convert the dictionary to a json object and send it to the server\n",
    "\n",
    "data = read_response(t)"
   ]
  },
  {
   "cell_type": "code",
   "execution_count": null,
   "id": "6a69ad23",
   "metadata": {},
   "outputs": [],
   "source": [
    "# to visualize the response, we can conver the data to a pandas dataframe\n",
    "df = gpd.GeoDataFrame(data)\n",
    "\n",
    "df['month'] = pd.to_datetime(df['month'], errors='coerce')\n",
    "df['month'] = df['month'].dt.strftime('%b %Y')\n",
    "\n",
    "print(df)"
   ]
  },
  {
   "cell_type": "code",
   "execution_count": null,
   "id": "fa9c75e6",
   "metadata": {},
   "outputs": [],
   "source": [
    "import ipywidgets as widgets\n",
    "import matplotlib.pyplot as plt\n",
    "\n",
    "# Get unique years\n",
    "years = sorted(df[\"month\"].str[-4:].unique())\n",
    "\n",
    "# Create year slider\n",
    "year_slider = widgets.IntSlider(\n",
    "    value=int(years[0]),\n",
    "    min=int(years[0]),\n",
    "    max=int(years[-1]),\n",
    "    step=1,\n",
    "    description=\"Year:\"\n",
    ")\n",
    "\n",
    "# Function to update available months based on selected year\n",
    "def get_months(year):\n",
    "    months = sorted(df[df[\"month\"].str.contains(str(year))][\"month\"].str[:3].unique(),\n",
    "                     key=lambda m: [\"Jan\", \"Feb\", \"Mar\", \"Apr\", \"May\", \"Jun\", \"Jul\", \"Aug\", \"Sep\", \"Oct\", \"Nov\", \"Dec\"].index(m))\n",
    "    return [\"All\"] + months  # Include \"All\" option\n",
    "\n",
    "# Create month dropdown (default: all months)\n",
    "month_dropdown = widgets.Dropdown(\n",
    "    options=get_months(year_slider.value),\n",
    "    value=\"All\",\n",
    "    description=\"Month:\"\n",
    ")\n",
    "\n",
    "# Update month dropdown when year changes\n",
    "def update_month_options(change):\n",
    "    month_dropdown.options = get_months(change[\"new\"])\n",
    "\n",
    "year_slider.observe(update_month_options, names=\"value\")\n",
    "\n",
    "# Function to update plot\n",
    "def update_plot(year, month):\n",
    "    df_filtered = df[df[\"month\"].str.contains(str(year))]\n",
    "\n",
    "    # Separate selected month from others\n",
    "    if month != \"All\":\n",
    "        df_selected = df_filtered[df_filtered[\"month\"].str.startswith(month)]\n",
    "        df_other = df_filtered[~df_filtered[\"month\"].str.startswith(month)]\n",
    "    else:\n",
    "        df_selected = df_filtered\n",
    "        df_other = pd.DataFrame()  # Empty DataFrame\n",
    "    \n",
    "    fig, ax = plt.subplots(figsize=(6, 5))\n",
    "        \n",
    "    # Plot selected month with full opacity\n",
    "    ax.scatter(df_selected['monthly_average'], df_selected['quota'], c=df_selected['monthly_average'], cmap='coolwarm', edgecolors='k', marker='o', alpha=1.0)\n",
    "    # Plot other months with transparency\n",
    "    if not df_other.empty:\n",
    "        ax.scatter(df_other['monthly_average'], df_other['quota'], c=df_other['monthly_average'], cmap='coolwarm', marker='o', alpha=0.2)\n",
    "    \n",
    "    plt.title(f\"Correlation between monthly average of {Selected_pollutant.value} and station height\")\n",
    "    plt.xlabel(\"Monthly Average per pollutant [µg/m]³\")\n",
    "    plt.ylabel(\"Height [m]\")\n",
    "    ax.grid(True)\n",
    "\n",
    "    plt.show()\n",
    "\n",
    "# Connect sliders to update function\n",
    "out = widgets.interactive_output(update_plot, {\"year\": year_slider, \"month\": month_dropdown})\n",
    "\n",
    "# Display sliders and plot\n",
    "display(year_slider, month_dropdown, out)\n"
   ]
  }
 ],
 "metadata": {
  "kernelspec": {
   "display_name": "se4g_project",
   "language": "python",
   "name": "python3"
  },
  "language_info": {
   "codemirror_mode": {
    "name": "ipython",
    "version": 3
   },
   "file_extension": ".py",
   "mimetype": "text/x-python",
   "name": "python",
   "nbconvert_exporter": "python",
   "pygments_lexer": "ipython3",
   "version": "3.13.2"
  }
 },
 "nbformat": 4,
 "nbformat_minor": 5
}
