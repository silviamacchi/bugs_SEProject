{
 "cells": [
  {
   "cell_type": "markdown",
   "id": "7a493f10",
   "metadata": {},
   "source": [
    "Function definition (to be removed, just 1 in the all code)"
   ]
  },
  {
   "cell_type": "code",
   "execution_count": null,
   "id": "1379935e",
   "metadata": {},
   "outputs": [],
   "source": [
    "import requests\n",
    "import pandas as pd\n",
    "import geopandas as gpd\n",
    "import json\n",
    "from shapely import wkt\n",
    "import ipywidgets as widgets\n",
    "import matplotlib.pyplot as plt\n",
    "import folium\n",
    "from shapely.geometry import mapping\n",
    "\n",
    "def read_response(t):\n",
    "    try:\n",
    "        data = t.json() #This will convert the response to a json object\n",
    "        return data\n",
    "    except requests.exceptions.JSONDecodeError:\n",
    "        print(\"Invalid response JSON!\")\n",
    "        print(\"Response content::\", t.text)\n",
    "        data = None \n",
    "\n",
    "def get_measurement_unit(pollutant):\n",
    "    t=requests.post(url=\"http://127.0.0.1:5000/api/units\", json={\"var_pollutant\": pollutant}) #json= data will convert the dictionary to a json object and send it to the server\n",
    "    data = read_response(t) \n",
    "    return data[0]\n",
    "    "
   ]
  },
  {
   "cell_type": "markdown",
   "id": "9e6923d0",
   "metadata": {},
   "source": [
    "## DV_10\n",
    "\n"
   ]
  },
  {
   "cell_type": "code",
   "execution_count": 3,
   "id": "44172cbd",
   "metadata": {},
   "outputs": [
    {
     "data": {
      "application/vnd.jupyter.widget-view+json": {
       "model_id": "867a2d9891aa4a018aa2a2458c4b52d0",
       "version_major": 2,
       "version_minor": 0
      },
      "text/plain": [
       "Dropdown(description='Pollutant:', options=('Particolato Totale Sospeso', 'PM10 (SM2005)', 'Cadmio', 'Arsenico…"
      ]
     },
     "execution_count": 3,
     "metadata": {},
     "output_type": "execute_result"
    }
   ],
   "source": [
    "t=requests.get(url=\"http://127.0.0.1:5000/api/pollutant\")\n",
    "list_pollutant = read_response(t)\n",
    "Selected_pollutant = widgets.Dropdown(\n",
    "    options=list_pollutant,\n",
    "    value=list_pollutant[0],\n",
    "    default=list_pollutant[0],\n",
    "    description='Pollutant:',\n",
    "    disabled=False, #Because we want the user to be able to select the province\n",
    ")\n",
    "Selected_pollutant"
   ]
  },
  {
   "cell_type": "code",
   "execution_count": 4,
   "id": "2db33448",
   "metadata": {},
   "outputs": [],
   "source": [
    "# select the data we want as parameters\n",
    "data = {\"var_pollutant\": Selected_pollutant.value } #data is a dictionary\n",
    "\n",
    "# send the request to the server, we use post because we are sending data to the server\n",
    "t=requests.post(url=\"http://127.0.0.1:5000/api/DV_10\", json=data) #json= data will convert the dictionary to a json object and send it to the server\n",
    "\n",
    "data = read_response(t)\n"
   ]
  },
  {
   "cell_type": "markdown",
   "id": "b3416299",
   "metadata": {},
   "source": [
    "Adjustments to the geodataframe"
   ]
  },
  {
   "cell_type": "code",
   "execution_count": 10,
   "id": "8d6f07e1",
   "metadata": {},
   "outputs": [
    {
     "name": "stdout",
     "output_type": "stream",
     "text": [
      "object\n",
      "                      geometry     month  monthly_average  \\\n",
      "0    POINT (10.21121 45.54265)  Jan 2025        41.800000   \n",
      "1     POINT (8.84733 45.54852)  Jan 2025        31.200000   \n",
      "2     POINT (8.90419 45.10277)  Dec 2024        35.652381   \n",
      "3     POINT (9.48528 45.30602)  Jan 2025        52.300000   \n",
      "4      POINT (9.39558 45.8502)  Dec 2024        32.322109   \n",
      "..                         ...       ...              ...   \n",
      "163    POINT (9.16698 45.5476)  Jan 2025        72.700000   \n",
      "164   POINT (9.59202 45.51934)  Dec 2024        40.272109   \n",
      "165   POINT (9.59202 45.51934)  Jan 2025        51.100000   \n",
      "166   POINT (9.23611 45.53477)  Jan 2025        94.000000   \n",
      "167   POINT (9.35166 45.84221)  Dec 2024        24.882313   \n",
      "\n",
      "                             nome_stazione  quota  \n",
      "0                      Brescia v.Tartaglia  151.0  \n",
      "1                   Arconate v. De Gasperi  182.0  \n",
      "2       Sannazzaro de' Burgondi v.Traversi   85.0  \n",
      "3                           Lodi v.Vignati   80.0  \n",
      "4                        Lecco v. Amendola  214.0  \n",
      "..                                     ...    ...  \n",
      "163                      Cormano v. Edison  153.0  \n",
      "164           Treviglio p.zza Insurrezione  191.0  \n",
      "165           Treviglio p.zza Insurrezione  191.0  \n",
      "166  Sesto San Giovanni v. Cesare da Sesto  139.0  \n",
      "167                     Valmadrera v.Pozzi  247.0  \n",
      "\n",
      "[168 rows x 5 columns]\n"
     ]
    }
   ],
   "source": [
    "# to visualize the response, we can conver the data to a pandas geodataframe\n",
    "gdf = gpd.GeoDataFrame(data)\n",
    "gdf['geometry'] = gdf['geometry'].apply(wkt.loads)\n",
    "gdf.set_geometry('geometry', inplace=True)\n",
    "\n",
    "gdf['month'] = pd.to_datetime(gdf['month'], errors='coerce')\n",
    "gdf['month'] = gdf['month'].dt.strftime('%b %Y')\n",
    "\n",
    "print(gdf['month'].dtype)\n",
    "\n",
    "# Convertire il formato per mostrare solo mese e anno\n",
    "#df['mese_anno'] = df['month'].dt.strftime('%Y-%m')\n",
    "\n",
    "print(gdf)"
   ]
  },
  {
   "cell_type": "code",
   "execution_count": 7,
   "id": "4ae856e5",
   "metadata": {},
   "outputs": [],
   "source": [
    "import matplotlib.pyplot as plt\n",
    "import matplotlib.colors as mcolors\n",
    "from matplotlib.widgets import Cursor\n",
    "from matplotlib.widgets import Slider\n",
    "from matplotlib.widgets import RadioButtons"
   ]
  },
  {
   "cell_type": "code",
   "execution_count": null,
   "id": "ed316ab7",
   "metadata": {},
   "outputs": [],
   "source": [
    "# Creazione del plot con contour lines\n",
    "#.contour(gdf['geometry'],gdf['quota'], levels=10, cmap='viridis')  # Contour lines\n",
    "#plt.colorbar(label=\"Quota\")\n",
    "\n",
    "#plt.show()"
   ]
  },
  {
   "cell_type": "markdown",
   "id": "0d4c3738",
   "metadata": {},
   "source": [
    "## DV_11"
   ]
  },
  {
   "cell_type": "code",
   "execution_count": 14,
   "id": "006faff8",
   "metadata": {},
   "outputs": [
    {
     "data": {
      "application/vnd.jupyter.widget-view+json": {
       "model_id": "8727b462cd8c41a7bf722d6639d24599",
       "version_major": 2,
       "version_minor": 0
      },
      "text/plain": [
       "Dropdown(description='Pollutant:', options=('Particolato Totale Sospeso', 'PM10 (SM2005)', 'Cadmio', 'Arsenico…"
      ]
     },
     "execution_count": 14,
     "metadata": {},
     "output_type": "execute_result"
    }
   ],
   "source": [
    "t=requests.get(url=\"http://127.0.0.1:5000/api/pollutant\")\n",
    "list_pollutant = read_response(t)\n",
    "Selected_pollutant = widgets.Dropdown(\n",
    "    options=list_pollutant,\n",
    "    value=list_pollutant[0],\n",
    "    default=list_pollutant[0],\n",
    "    description='Pollutant:',\n",
    "    disabled=False, #Because we want the user to be able to select the province\n",
    ")\n",
    "Selected_pollutant"
   ]
  },
  {
   "cell_type": "code",
   "execution_count": 15,
   "id": "ac8cb8c3",
   "metadata": {},
   "outputs": [],
   "source": [
    "# select the data we want as parameters\n",
    "data = {\"var_pollutant\": Selected_pollutant.value } #data is a dictionary\n",
    "\n",
    "# send the request to the server, we use post because we are sending data to the server\n",
    "t=requests.post(url=\"http://127.0.0.1:5000/api/DV_10\", json=data) #json= data will convert the dictionary to a json object and send it to the server\n",
    "\n",
    "data = read_response(t)"
   ]
  },
  {
   "cell_type": "code",
   "execution_count": 17,
   "id": "6a69ad23",
   "metadata": {},
   "outputs": [
    {
     "name": "stdout",
     "output_type": "stream",
     "text": [
      "object\n",
      "                      geometry     month  monthly_average  \\\n",
      "0    POINT (10.21121 45.54265)  Jan 2025        41.800000   \n",
      "1     POINT (8.84733 45.54852)  Jan 2025        31.200000   \n",
      "2     POINT (8.90419 45.10277)  Dec 2024        35.652381   \n",
      "3     POINT (9.48528 45.30602)  Jan 2025        52.300000   \n",
      "4      POINT (9.39558 45.8502)  Dec 2024        32.322109   \n",
      "..                         ...       ...              ...   \n",
      "163    POINT (9.16698 45.5476)  Jan 2025        72.700000   \n",
      "164   POINT (9.59202 45.51934)  Dec 2024        40.272109   \n",
      "165   POINT (9.59202 45.51934)  Jan 2025        51.100000   \n",
      "166   POINT (9.23611 45.53477)  Jan 2025        94.000000   \n",
      "167   POINT (9.35166 45.84221)  Dec 2024        24.882313   \n",
      "\n",
      "                             nome_stazione  quota  \n",
      "0                      Brescia v.Tartaglia  151.0  \n",
      "1                   Arconate v. De Gasperi  182.0  \n",
      "2       Sannazzaro de' Burgondi v.Traversi   85.0  \n",
      "3                           Lodi v.Vignati   80.0  \n",
      "4                        Lecco v. Amendola  214.0  \n",
      "..                                     ...    ...  \n",
      "163                      Cormano v. Edison  153.0  \n",
      "164           Treviglio p.zza Insurrezione  191.0  \n",
      "165           Treviglio p.zza Insurrezione  191.0  \n",
      "166  Sesto San Giovanni v. Cesare da Sesto  139.0  \n",
      "167                     Valmadrera v.Pozzi  247.0  \n",
      "\n",
      "[168 rows x 5 columns]\n"
     ]
    }
   ],
   "source": [
    "# to visualize the response, we can conver the data to a pandas dataframe\n",
    "df = gpd.GeoDataFrame(data)\n",
    "\n",
    "df['month'] = pd.to_datetime(df['month'], errors='coerce')\n",
    "df['month'] = df['month'].dt.strftime('%b %Y')\n",
    "\n",
    "print(df['month'].dtype)\n",
    "\n",
    "# Convertire il formato per mostrare solo mese e anno\n",
    "#df['mese_anno'] = df['month'].dt.strftime('%Y-%m')\n",
    "\n",
    "print(gdf)"
   ]
  },
  {
   "cell_type": "code",
   "execution_count": null,
   "id": "fbc78b86",
   "metadata": {},
   "outputs": [
    {
     "data": {
      "image/png": "[encoded data removed]",
      "text/plain": [
       "<Figure size 640x480 with 3 Axes>"
      ]
     },
     "metadata": {},
     "output_type": "display_data"
    }
   ],
   "source": [
    "#plt.plot(df['monthly_average'],df['quota'],'o')\n",
    "# Creazione del plot\n",
    "fig, ax = plt.subplots()\n",
    "plt.subplots_adjust(top=0.85)  # Aggiunge spazio in alto \n",
    "# CAN BE ADDED A BOTTON FOR YEAR SELECTION\n",
    "\n",
    "plt.scatter(df['monthly_average'], df['quota'], c=df['monthly_average'], cmap='coolwarm', marker='o')\n",
    "\n",
    "# Aggiungere una barra dei colori\n",
    "plt.colorbar(label=\" values \")\n",
    "\n",
    "# Labels and title\n",
    "plt.title(\"Correlation between monthly average per pollutant and station height\")\n",
    "plt.xlabel(\"Monthly Average per pollutant\")\n",
    "plt.ylabel(\"Height\")\n",
    "\n",
    "#* Lista dei mesi\n",
    "mesi = df['month']\n",
    "mesi_dict = {i: mesi[i] for i in range(len(mesi))}  # Mappa numeri → mesi\n",
    "\n",
    "# Slider con valori discreti\n",
    "ax_slider = plt.axes([0.75, 0.85, 0.2, 0.03])\n",
    "slider = Slider(ax_slider, 'Month-Year', 0, len(mesi)-1, valstep=1)\n",
    "\n",
    "# Funzione di aggiornamento\n",
    "def update(val):\n",
    "    selected_month = mesi_dict[int(val)]\n",
    "    print(f\"Mese selezionato: {selected_month}\")\n",
    "    # Aggiorna il valore del grafico\n",
    "    fig.canvas.draw_idle()  # Rende il widget interattivo\n",
    "slider.on_changed(update)\n",
    "\n",
    " \n",
    "plt.show()"
   ]
  }
 ],
 "metadata": {
  "kernelspec": {
   "display_name": "se4g_project",
   "language": "python",
   "name": "python3"
  },
  "language_info": {
   "codemirror_mode": {
    "name": "ipython",
    "version": 3
   },
   "file_extension": ".py",
   "mimetype": "text/x-python",
   "name": "python",
   "nbconvert_exporter": "python",
   "pygments_lexer": "ipython3",
   "version": "3.13.2"
  }
 },
 "nbformat": 4,
 "nbformat_minor": 5
}
