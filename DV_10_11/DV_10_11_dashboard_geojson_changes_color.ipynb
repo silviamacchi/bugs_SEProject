{
 "cells": [
  {
   "cell_type": "code",
   "execution_count": null,
   "id": "1505c9f1",
   "metadata": {},
   "outputs": [],
   "source": [
    "pip install dash"
   ]
  },
  {
   "cell_type": "code",
   "execution_count": null,
   "id": "cbf9720e",
   "metadata": {},
   "outputs": [],
   "source": [
    "pip install dash-leaflet"
   ]
  },
  {
   "cell_type": "code",
   "execution_count": 1,
   "id": "e21b0864",
   "metadata": {},
   "outputs": [],
   "source": [
    "from dash import Dash, dcc, html\n",
    "from dash.dependencies import Input, Output, State\n",
    "import plotly.express as px\n",
    "import dash_leaflet as dl\n"
   ]
  },
  {
   "cell_type": "code",
   "execution_count": null,
   "id": "19584016",
   "metadata": {},
   "outputs": [],
   "source": [
    "pip install --upgrade dash jupyter-dash\n"
   ]
  },
  {
   "cell_type": "markdown",
   "id": "3295e086",
   "metadata": {},
   "source": [
    "Function definition (to be removed, just 1 in the code)"
   ]
  },
  {
   "cell_type": "code",
   "execution_count": 2,
   "id": "2d744c87",
   "metadata": {},
   "outputs": [],
   "source": [
    "import requests\n",
    "import pandas as pd\n",
    "import geopandas as gpd\n",
    "from shapely import wkt\n",
    "import ipywidgets as widgets\n",
    "import matplotlib.pyplot as plt\n",
    "import folium\n",
    "from shapely.geometry import mapping\n",
    "#import leafmap as leafmap\n",
    "from shapely.geometry import shape\n",
    "\n",
    "def read_response(t):\n",
    "    try:\n",
    "        data = t.json() #This will convert the response to a json object\n",
    "        return data\n",
    "    except requests.exceptions.JSONDecodeError:\n",
    "        print(\"Risposta non valida JSON!\")\n",
    "        print(\"Contenuto della risposta:\", t.text)\n",
    "        data = None \n",
    "\n",
    "def get_measurement_unit(pollutant):\n",
    "    t=requests.post(url=\"http://127.0.0.1:5000/api/units\", json={\"var_pollutant\": pollutant}) #json= data will convert the dictionary to a json object and send it to the server\n",
    "    data = read_response(t) \n",
    "    return data[0]\n",
    "    \n",
    "\n",
    "\n"
   ]
  },
  {
   "cell_type": "markdown",
   "id": "30f05bf7",
   "metadata": {},
   "source": [
    "# Dashboard"
   ]
  },
  {
   "cell_type": "markdown",
   "id": "e6235d6d",
   "metadata": {},
   "source": [
    "Populate the dropdown"
   ]
  },
  {
   "cell_type": "code",
   "execution_count": 3,
   "id": "bad93546",
   "metadata": {},
   "outputs": [],
   "source": [
    "# Function for both DV 10 and DV 11\n",
    "def pollutant_dropdown():\n",
    "    t=requests.get(url=\"http://127.0.0.1:5000/api/pollutant\")\n",
    "    list_pollutant = read_response(t)\n",
    "    list = [{'label': pollutant, 'value': pollutant} for pollutant in list_pollutant]\n",
    "    return list\n",
    "\n"
   ]
  },
  {
   "cell_type": "markdown",
   "id": "7e5d2ac0",
   "metadata": {},
   "source": [
    "This first part is just for the layout of the elements"
   ]
  },
  {
   "cell_type": "code",
   "execution_count": 10,
   "id": "7cd3d9fa",
   "metadata": {},
   "outputs": [],
   "source": [
    "# Get pollutants\n",
    "t = requests.get(url=\"http://127.0.0.1:5000/api/pollutant\")\n",
    "list_pollutant = read_response(t)\n"
   ]
  },
  {
   "cell_type": "code",
   "execution_count": 4,
   "id": "dc9c90dc",
   "metadata": {},
   "outputs": [
    {
     "name": "stdout",
     "output_type": "stream",
     "text": [
      "{'type': 'Feature', 'properties': {'fid': 1, 'ELEV': 2200.0}, 'geometry': {'type': 'LineString', 'coordinates': [[10.237773054012042, 46.63439685859683], [10.237771002440088, 46.63430688921537], [10.237555801129059, 46.63427234207511], [10.237425411671927, 46.63428339632108]]}}\n"
     ]
    }
   ],
   "source": [
    "# contour lines file\n",
    "import json\n",
    "with open(\"../DATA/contour_lines.geojson\", \"r\") as f:\n",
    "    geojson_data = json.load(f)\n",
    "\n",
    "print(geojson_data[\"features\"][0])  # 🔹 Mostra la prima feature\n"
   ]
  },
  {
   "cell_type": "code",
   "execution_count": 5,
   "id": "a91a4683",
   "metadata": {},
   "outputs": [],
   "source": [
    "#ADD colour to geojson based on elevation\n",
    "\n",
    "def get_color(elev, min_elev=500, max_elev=3000):\n",
    "    ratio = (elev - min_elev) / (max_elev - min_elev)\n",
    "    ratio = min(1, max(0, ratio))  # Clamping tra 0 e 1\n",
    "\n",
    "    if ratio < 0.3:\n",
    "        # Verde (0,255,0) → Giallo (255,255,0)\n",
    "        r = int(2 * ratio * 255)\n",
    "        g = 255\n",
    "        b = 100\n",
    "    else:\n",
    "        # Giallo (255,255,0) → Rosso (255,0,0)\n",
    "        r = 255\n",
    "        g = int((1 - 2 * (ratio - 0.5)) * 255)\n",
    "        b = 100\n",
    "\n",
    "    return f\"#{r:02x}{g:02x}{b:02x}\"\n",
    "\n",
    "\n",
    "# Supponiamo tu abbia geojson_data come dizionario o FeatureCollection\n",
    "for feature in geojson_data[\"features\"]:\n",
    "    elev = feature[\"properties\"].get(\"ELEV\", 1000)\n",
    "    color = get_color(elev)\n",
    "    feature[\"properties\"][\"color\"] = color\n"
   ]
  },
  {
   "cell_type": "code",
   "execution_count": 8,
   "id": "3e4c4f00",
   "metadata": {},
   "outputs": [
    {
     "name": "stdout",
     "output_type": "stream",
     "text": [
      "{'type': 'Feature', 'properties': {'fid': 1, 'ELEV': 2200.0, 'color': '#ffa364'}, 'geometry': {'type': 'LineString', 'coordinates': [[10.237773054012042, 46.63439685859683], [10.237771002440088, 46.63430688921537], [10.237555801129059, 46.63427234207511], [10.237425411671927, 46.63428339632108]]}}\n"
     ]
    }
   ],
   "source": [
    "print(geojson_data[\"features\"][0])"
   ]
  },
  {
   "cell_type": "code",
   "execution_count": 11,
   "id": "2d48ae6a",
   "metadata": {},
   "outputs": [
    {
     "name": "stdout",
     "output_type": "stream",
     "text": [
      "Starting Dashboard...\n"
     ]
    },
    {
     "data": {
      "text/html": [
       "\n",
       "        <iframe\n",
       "            width=\"100%\"\n",
       "            height=\"650\"\n",
       "            src=\"http://127.0.0.1:8089/\"\n",
       "            frameborder=\"0\"\n",
       "            allowfullscreen\n",
       "            \n",
       "        ></iframe>\n",
       "        "
      ],
      "text/plain": [
       "<IPython.lib.display.IFrame at 0x28e12fcb0>"
      ]
     },
     "metadata": {},
     "output_type": "display_data"
    }
   ],
   "source": [
    "\n",
    "import dash\n",
    "from dash import dcc, html, Output, Input, State\n",
    "import pandas as pd\n",
    "import geopandas as gpd\n",
    "import requests\n",
    "\n",
    "import plotly.express as px\n",
    "\n",
    "import branca.colormap as cm\n",
    "import dash_leaflet as dl\n",
    "\n",
    "import matplotlib.pyplot as plt\n",
    "import matplotlib.colors as mcolors\n",
    "from dash_extensions.javascript import assign\n",
    "from dash.exceptions import PreventUpdate\n",
    "\n",
    "def get_years(df):\n",
    "    return sorted(df[\"month\"].str[-4:].unique())\n",
    "\n",
    "def get_months(df, year):\n",
    "    months = sorted(df[df[\"month\"].str.contains(str(year[0]))][\"month\"].str[:3].unique(),\n",
    "                    # key to get the months in order\n",
    "                    key=lambda m: [\"Jan\", \"Feb\", \"Mar\", \"Apr\", \"May\", \"Jun\", \"Jul\", \"Aug\", \"Sep\", \"Oct\", \"Nov\", \"Dec\"].index(m))\n",
    "    return [\"All\"] + months\n",
    "\n",
    "# --- Dash App ---\n",
    "app = dash.Dash(__name__)\n",
    "\n",
    "#DV 10 functions --------------------------------------------------\n",
    "\n",
    "#from dash_extensions.javascript import assign\n",
    "# Style function for contour lines (non funziona con Geojson)\n",
    "def style_function(feature):\n",
    "    color = feature[\"properties\"].get(\"color\",'blue')  # Default 'blue' se non c'è \"color\"\n",
    "    return {\n",
    "        \"color\": color,\n",
    "        \"weight\": 3,\n",
    "        \"opacity\": 0.7\n",
    "    }  \n",
    "\n",
    "style = assign(\"\"\"\n",
    "function(feature) {\n",
    "    return {\n",
    "        color: feature.properties.color || \"blue\",\n",
    "        weight: 2,\n",
    "        opacity: 0.8\n",
    "    };\n",
    "}\n",
    "\"\"\")\n",
    "\n",
    "\n",
    "# LAYOUT \n",
    "app.layout = html.Div([\n",
    "    #DV10\n",
    "    html.Div([\n",
    "        html.H3(\"DV 10 - Correlation map between monthly average of pollutant and station height\"),\n",
    "        \n",
    "        html.Label(\"Pollutant:\"),\n",
    "        \n",
    "        # Dropdown pollutant selection\n",
    "        dcc.Dropdown(\n",
    "            id='pollutant-dropdown',\n",
    "            options=[{'label': p, 'value': p} for p in list_pollutant],\n",
    "            value=list_pollutant[0]\n",
    "        ),\n",
    "        dl.Map(\n",
    "            id=\"map\",\n",
    "            center=[45.64, 9.60],\n",
    "            zoom=8,\n",
    "            #children=[],\n",
    "            style={\"opacity\":0.7, \"height\": \"50vh\",\"position\":\"relative\", 'zIndex':2 },\n",
    "        ),\n",
    "    ])\n",
    "], style={'padding': 20, 'scrollY': 'auto', 'overflowY': 'auto', 'height': '100vh'})  # Imposta lo stile del contenitore principale\n",
    "\n",
    "# DV 10 callbacks ---------------------------------------------------------------------------\n",
    "@app.callback(\n",
    "    Output(\"map\", \"children\"),\n",
    "    Input(\"pollutant-dropdown\", \"value\"),\n",
    ")\n",
    "def update_map(selected_pollutant):\n",
    "    unit = get_measurement_unit(selected_pollutant)\n",
    "    \n",
    "    data = {\"var_pollutant\": selected_pollutant}\n",
    "    t = requests.post(url=\"http://127.0.0.1:5000/api/DV_10\", json=data)\n",
    "    data = read_response(t)\n",
    "    # to visualize the response, we can conver the data to a pandas geodataframe\n",
    "    gdf = gpd.GeoDataFrame(data)\n",
    "    gdf['geometry'] = gdf['geometry'].apply(wkt.loads)\n",
    "    gdf.set_geometry('geometry', inplace=True)\n",
    "\n",
    "    gdf = gdf.dropna(subset=['quota']) # Drop rows where 'quota' is NaN\n",
    "\n",
    "    gdf['month'] = pd.to_datetime(gdf['month'], errors='coerce')\n",
    "    gdf['month'] = gdf['month'].dt.strftime('%b %Y')\n",
    "    \n",
    "    \n",
    "    colormap_c = cm.LinearColormap([\"blue\", \"yellow\", \"red\"],\n",
    "                                vmin=gdf['monthly_average'].min(),\n",
    "                                vmax=gdf['monthly_average'].max())\n",
    "    gdf[\"color\"] = gdf[\"monthly_average\"].apply(lambda x: colormap_c(x)[:7])\n",
    "\n",
    "    return [\n",
    "        dl.TileLayer(),  # Base layer \n",
    "       \n",
    "        dl.LayersControl([\n",
    "            \n",
    "            # Contour lines (static) (ESCONO SOLO BLU; CON LO STYLE FUNCTION NON FUNZIONANO)\n",
    "            dl.Overlay(\n",
    "                dl.GeoJSON(\n",
    "                        data=geojson_data,\n",
    "                        zoomToBounds=True,\n",
    "                        options={\"style\": style}\n",
    "                    ),\n",
    "                    name=\"Contour lines\",\n",
    "                    checked=True\n",
    "            ),\n",
    "\n",
    "            # Overlay dinamici per ogni anno\n",
    "            *[\n",
    "                dl.Overlay(\n",
    "                    dl.LayerGroup([\n",
    "                        dl.CircleMarker(\n",
    "                            center=[row.geometry.y, row.geometry.x],\n",
    "                            radius=5,\n",
    "                            color=row[\"color\"],\n",
    "                            fill=False,\n",
    "                            fillOpacity=0.8,\n",
    "                            pane=\"markerPane\",\n",
    "                            children=[dl.Tooltip(f\"{row['month']}: {row['monthly_average']} {unit}\")]\n",
    "                        )\n",
    "                        for _, row in gdf[gdf[\"month\"].str.contains(str(year))].iterrows()\n",
    "                    ]),\n",
    "                    name=f\"{year}\",\n",
    "                    checked=(year == '2024')  # default most recent year (-1) checked\n",
    "                )\n",
    "                for year in get_years(gdf)\n",
    "            ]\n",
    "        ])\n",
    "    ]\n",
    "\n",
    "\n",
    "# In Jupyter, use run_server not run()\n",
    "print(\"Starting Dashboard...\")\n",
    "app.run(port=8089, debug=True)"
   ]
  }
 ],
 "metadata": {
  "kernelspec": {
   "display_name": "se4g_project",
   "language": "python",
   "name": "python3"
  },
  "language_info": {
   "codemirror_mode": {
    "name": "ipython",
    "version": 3
   },
   "file_extension": ".py",
   "mimetype": "text/x-python",
   "name": "python",
   "nbconvert_exporter": "python",
   "pygments_lexer": "ipython3",
   "version": "3.13.2"
  }
 },
 "nbformat": 4,
 "nbformat_minor": 5
}
