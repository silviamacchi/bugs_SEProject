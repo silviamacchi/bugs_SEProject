{
 "cells": [
  {
   "cell_type": "markdown",
   "id": "84508aad",
   "metadata": {},
   "source": [
    "# Materiale Utile - Questa sezione verrà eliminata dal documento finale\n",
    "\n",
    "Dato che le parti testuali vengono scritte usando Markdown, al link seguente c'è un esempio dei comandi per creare titoli, **grassetto** etc. e di come vengono visualizzati\n",
    "\n",
    "[link markdown cheatsheet](https://github.com/adam-p/markdown-here/wiki/markdown-cheatsheet)\n",
    "\n",
    "Possiamo usare questa sezione anche per scrivere delle regole comuni da usare nella stesura del documento:\n",
    "\n",
    "1. Per ogni sezione inserire titolo (es: Map of the sensors' positions) e descrizione nella stessa cella, ma non mettere sezioni diverse nella stessa cella, dato che poi dovranno essere intervallate dal codice\n",
    "\n",
    "---"
   ]
  },
  {
   "cell_type": "markdown",
   "id": "2aa91f2c",
   "metadata": {},
   "source": [
    "# Dashboard of Bugs Project\n",
    "## DV-1 Overview\n",
    "This interface allows to analyse air quality data using “Dati Lombardia” sensor data.\n",
    "- button \"start\" ?\n",
    "\n"
   ]
  },
  {
   "cell_type": "markdown",
   "id": "b5a1aa19",
   "metadata": {},
   "source": [
    "## DV-2 User selection\n",
    "The interface let the user choose which profile he/she prefers between \n",
    "standard or expert user.\n",
    "- button expert user\n",
    "- button standard user "
   ]
  },
  {
   "cell_type": "markdown",
   "id": "aeef3bc7",
   "metadata": {},
   "source": [
    "## DV-3 Basemap Selection\n",
    "The interface allow the user to choose between different basemaps and to select only the layers he is interested in (no one request API).\n",
    "- button OpenStreetMap (OSM)\n",
    "- button CartoDB Positron / Dark Matter\n",
    "- button Stamen Maps\n",
    "- button Wikimedia Maps\n"
   ]
  },
  {
   "cell_type": "markdown",
   "id": "2693c2c8",
   "metadata": {},
   "source": [
    "## DV-5 Single sensor time series\n",
    "The interface allow the user to select one sensor and visualize the time series of the specific pollutant measured by the selected sensor.\n",
    "- button select sensor\n"
   ]
  },
  {
   "cell_type": "markdown",
   "id": "33cff7c5",
   "metadata": {},
   "source": [
    "## DV-6 Sensor location\n",
    "The interface allow the user to select one or more pollutants and visualize on the map where the relative sensors are located.\n",
    "\n",
    "- button select pollutants\n",
    "- button add pollutants"
   ]
  },
  {
   "cell_type": "markdown",
   "id": "13dcd23f",
   "metadata": {},
   "source": [
    "## DV-7 Pollutant comparison over same area\n",
    "The interface allow the user to select one province or one municipality and visualize the time series of each pollutant, the time series will be obtained calculating for each pollutant the daily average over the selected area.\n",
    "- button province\n",
    "- button select province\n",
    "- button municipality\n",
    "- button select municipalities\n"
   ]
  },
  {
   "cell_type": "markdown",
   "id": "c291e987",
   "metadata": {},
   "source": [
    "## DV-8 Average concentration – map\n",
    "The interface allow the user to choose a pollutant and a time window and visualize on the map the average concentration of the selected pollutant over the selected time\n",
    "\n",
    "- button select pollutant\n",
    "- button select start day\n",
    "- button select end day\n",
    "- button select start mounth\n",
    "- button select end mounth\n",
    "- button select start year\n",
    "- button select end year\n"
   ]
  },
  {
   "cell_type": "markdown",
   "id": "78931efd",
   "metadata": {},
   "source": [
    "## DV-9 Average concentration – histogram\n",
    "The interface allow the user to choose a pollutant and a time window and \n",
    "visualize in a histogram the average for each province (along with the global average)\n",
    "concentration of the selected pollutant over a selected time period.\n",
    "[Optional: same average but for each municipality\n",
    "\n",
    "- button select pollutant\n",
    "- button select start day\n",
    "- button select end day\n",
    "- button select start mounth\n",
    "- button select end mounth\n",
    "- button select start year\n",
    "- button select end year\n",
    "- button select administrative lavel"
   ]
  },
  {
   "cell_type": "markdown",
   "id": "2c1cad88",
   "metadata": {},
   "source": [
    "## DV-10  Correlation with altitude – map\n",
    "The interface allow the user to select a pollutant and visualize a topographic map in which each contour line has a different colour accordingly to the pollutant concentration.\n",
    "\n",
    "- button select pollutant\n",
    "- button select altitude of contour line? "
   ]
  },
  {
   "cell_type": "markdown",
   "id": "c34540b7",
   "metadata": {},
   "source": [
    "## DV-11 Correlation with altitude – graph\n",
    "The interface allow the user to select a pollutant and visualize a graph that\n",
    "highlights the correlation between a selected pollutant and the altitude of the sensors\n",
    "\n",
    "- button select pollutant \n",
    "- button select graph"
   ]
  },
  {
   "cell_type": "markdown",
   "id": "59957f5e",
   "metadata": {},
   "source": [
    "## EU-DV-1  Polygon definition \n",
    "The interface allow the expert user to define a polygon and visualize if the area \n",
    "selected contains sensors, which measurements are available and the mean of the data.\n",
    "\n",
    "- button select a polygon on the map\n"
   ]
  },
  {
   "cell_type": "markdown",
   "id": "a35d97e8",
   "metadata": {},
   "source": [
    "## EU-DV-2 Threshold definition  – time-series\n",
    "The interface allow the expert user to define a threshold and select a \n",
    "pollutant, a time window and a province and visualize a time series showing which days the \n",
    "threshold has been exceeded and a percentage (exceeded days/total days).\n",
    "\n",
    "- button select threshold\n",
    "- button select a pollutant\n",
    "- button select start day\n",
    "- button select end day\n",
    "- button select start mounth\n",
    "- button select end mounth\n",
    "- button select start year\n",
    "- button select end year\n",
    "- button select a province \n",
    "\n"
   ]
  }
 ],
 "metadata": {
  "kernelspec": {
   "display_name": "se4g_project",
   "language": "python",
   "name": "python3"
  },
  "language_info": {
   "codemirror_mode": {
    "name": "ipython",
    "version": 3
   },
   "file_extension": ".py",
   "mimetype": "text/x-python",
   "name": "python",
   "nbconvert_exporter": "python",
   "pygments_lexer": "ipython3",
   "version": "3.13.2"
  }
 },
 "nbformat": 4,
 "nbformat_minor": 5
}
