{
 "cells": [
  {
   "cell_type": "code",
   "execution_count": 89,
   "id": "55529605",
   "metadata": {},
   "outputs": [
    {
     "name": "stdout",
     "output_type": "stream",
     "text": [
      "Requirement already satisfied: leafmap in c:\\users\\admin\\anaconda3\\envs\\se4g_project\\lib\\site-packages (0.46.5)\n",
      "Requirement already satisfied: anywidget in c:\\users\\admin\\anaconda3\\envs\\se4g_project\\lib\\site-packages (from leafmap) (0.9.18)\n",
      "Requirement already satisfied: bqplot in c:\\users\\admin\\anaconda3\\envs\\se4g_project\\lib\\site-packages (from leafmap) (0.12.45)\n",
      "Requirement already satisfied: colour in c:\\users\\admin\\anaconda3\\envs\\se4g_project\\lib\\site-packages (from leafmap) (0.1.5)\n",
      "Requirement already satisfied: duckdb in c:\\users\\admin\\anaconda3\\envs\\se4g_project\\lib\\site-packages (from leafmap) (1.3.0)\n",
      "Requirement already satisfied: folium in c:\\users\\admin\\anaconda3\\envs\\se4g_project\\lib\\site-packages (from leafmap) (0.14.0)\n",
      "Requirement already satisfied: gdown in c:\\users\\admin\\anaconda3\\envs\\se4g_project\\lib\\site-packages (from leafmap) (5.2.0)\n",
      "Requirement already satisfied: geojson in c:\\users\\admin\\anaconda3\\envs\\se4g_project\\lib\\site-packages (from leafmap) (3.2.0)\n",
      "Requirement already satisfied: geopandas in c:\\users\\admin\\anaconda3\\envs\\se4g_project\\lib\\site-packages (from leafmap) (1.0.1)\n",
      "Requirement already satisfied: h5netcdf in c:\\users\\admin\\anaconda3\\envs\\se4g_project\\lib\\site-packages (from leafmap) (1.6.1)\n",
      "Requirement already satisfied: h5py in c:\\users\\admin\\anaconda3\\envs\\se4g_project\\lib\\site-packages (from leafmap) (3.13.0)\n",
      "Requirement already satisfied: ipyevents in c:\\users\\admin\\anaconda3\\envs\\se4g_project\\lib\\site-packages (from leafmap) (2.0.2)\n",
      "Requirement already satisfied: ipyfilechooser in c:\\users\\admin\\anaconda3\\envs\\se4g_project\\lib\\site-packages (from leafmap) (0.6.0)\n",
      "Requirement already satisfied: ipyleaflet in c:\\users\\admin\\anaconda3\\envs\\se4g_project\\lib\\site-packages (from leafmap) (0.19.2)\n",
      "Requirement already satisfied: ipyvuetify in c:\\users\\admin\\anaconda3\\envs\\se4g_project\\lib\\site-packages (from leafmap) (1.11.1)\n",
      "Requirement already satisfied: ipywidgets in c:\\users\\admin\\anaconda3\\envs\\se4g_project\\lib\\site-packages (from leafmap) (8.1.5)\n",
      "Requirement already satisfied: localtileserver in c:\\users\\admin\\anaconda3\\envs\\se4g_project\\lib\\site-packages (from leafmap) (0.10.6)\n",
      "Requirement already satisfied: matplotlib in c:\\users\\admin\\anaconda3\\envs\\se4g_project\\lib\\site-packages (from leafmap) (3.10.0)\n",
      "Requirement already satisfied: numpy in c:\\users\\admin\\anaconda3\\envs\\se4g_project\\lib\\site-packages (from leafmap) (2.2.5)\n",
      "Requirement already satisfied: opera-utils in c:\\users\\admin\\anaconda3\\envs\\se4g_project\\lib\\site-packages (from leafmap) (0.21.0)\n",
      "Requirement already satisfied: pandas in c:\\users\\admin\\anaconda3\\envs\\se4g_project\\lib\\site-packages (from leafmap) (2.2.3)\n",
      "Requirement already satisfied: plotly in c:\\users\\admin\\anaconda3\\envs\\se4g_project\\lib\\site-packages (from leafmap) (6.1.1)\n",
      "Requirement already satisfied: psutil in c:\\users\\admin\\anaconda3\\envs\\se4g_project\\lib\\site-packages (from leafmap) (7.0.0)\n",
      "Requirement already satisfied: pyshp in c:\\users\\admin\\anaconda3\\envs\\se4g_project\\lib\\site-packages (from leafmap) (2.3.1)\n",
      "Requirement already satisfied: pystac-client in c:\\users\\admin\\anaconda3\\envs\\se4g_project\\lib\\site-packages (from leafmap) (0.8.6)\n",
      "Requirement already satisfied: python-box in c:\\users\\admin\\anaconda3\\envs\\se4g_project\\lib\\site-packages (from leafmap) (7.3.2)\n",
      "Requirement already satisfied: rioxarray in c:\\users\\admin\\anaconda3\\envs\\se4g_project\\lib\\site-packages (from leafmap) (0.19.0)\n",
      "Requirement already satisfied: scooby in c:\\users\\admin\\anaconda3\\envs\\se4g_project\\lib\\site-packages (from leafmap) (0.10.1)\n",
      "Requirement already satisfied: whiteboxgui in c:\\users\\admin\\anaconda3\\envs\\se4g_project\\lib\\site-packages (from leafmap) (2.3.0)\n",
      "Requirement already satisfied: xyzservices in c:\\users\\admin\\anaconda3\\envs\\se4g_project\\lib\\site-packages (from leafmap) (2022.9.0)\n",
      "Requirement already satisfied: psygnal>=0.8.1 in c:\\users\\admin\\anaconda3\\envs\\se4g_project\\lib\\site-packages (from anywidget->leafmap) (0.13.0)\n",
      "Requirement already satisfied: typing-extensions>=4.2.0 in c:\\users\\admin\\anaconda3\\envs\\se4g_project\\lib\\site-packages (from anywidget->leafmap) (4.13.2)\n",
      "Requirement already satisfied: comm>=0.1.3 in c:\\users\\admin\\anaconda3\\envs\\se4g_project\\lib\\site-packages (from ipywidgets->leafmap) (0.2.2)\n",
      "Requirement already satisfied: ipython>=6.1.0 in c:\\users\\admin\\anaconda3\\envs\\se4g_project\\lib\\site-packages (from ipywidgets->leafmap) (9.2.0)\n",
      "Requirement already satisfied: traitlets>=4.3.1 in c:\\users\\admin\\anaconda3\\envs\\se4g_project\\lib\\site-packages (from ipywidgets->leafmap) (5.14.3)\n",
      "Requirement already satisfied: widgetsnbextension~=4.0.12 in c:\\users\\admin\\anaconda3\\envs\\se4g_project\\lib\\site-packages (from ipywidgets->leafmap) (4.0.13)\n",
      "Requirement already satisfied: jupyterlab_widgets~=3.0.12 in c:\\users\\admin\\anaconda3\\envs\\se4g_project\\lib\\site-packages (from ipywidgets->leafmap) (3.0.13)\n",
      "Requirement already satisfied: colorama in c:\\users\\admin\\anaconda3\\envs\\se4g_project\\lib\\site-packages (from ipython>=6.1.0->ipywidgets->leafmap) (0.4.6)\n",
      "Requirement already satisfied: decorator in c:\\users\\admin\\anaconda3\\envs\\se4g_project\\lib\\site-packages (from ipython>=6.1.0->ipywidgets->leafmap) (5.2.1)\n",
      "Requirement already satisfied: ipython-pygments-lexers in c:\\users\\admin\\anaconda3\\envs\\se4g_project\\lib\\site-packages (from ipython>=6.1.0->ipywidgets->leafmap) (1.1.1)\n",
      "Requirement already satisfied: jedi>=0.16 in c:\\users\\admin\\anaconda3\\envs\\se4g_project\\lib\\site-packages (from ipython>=6.1.0->ipywidgets->leafmap) (0.19.2)\n",
      "Requirement already satisfied: matplotlib-inline in c:\\users\\admin\\anaconda3\\envs\\se4g_project\\lib\\site-packages (from ipython>=6.1.0->ipywidgets->leafmap) (0.1.7)\n",
      "Requirement already satisfied: prompt_toolkit<3.1.0,>=3.0.41 in c:\\users\\admin\\anaconda3\\envs\\se4g_project\\lib\\site-packages (from ipython>=6.1.0->ipywidgets->leafmap) (3.0.51)\n",
      "Requirement already satisfied: pygments>=2.4.0 in c:\\users\\admin\\anaconda3\\envs\\se4g_project\\lib\\site-packages (from ipython>=6.1.0->ipywidgets->leafmap) (2.19.1)\n",
      "Requirement already satisfied: stack_data in c:\\users\\admin\\anaconda3\\envs\\se4g_project\\lib\\site-packages (from ipython>=6.1.0->ipywidgets->leafmap) (0.6.3)\n",
      "Requirement already satisfied: wcwidth in c:\\users\\admin\\anaconda3\\envs\\se4g_project\\lib\\site-packages (from prompt_toolkit<3.1.0,>=3.0.41->ipython>=6.1.0->ipywidgets->leafmap) (0.2.13)\n",
      "Requirement already satisfied: parso<0.9.0,>=0.8.4 in c:\\users\\admin\\anaconda3\\envs\\se4g_project\\lib\\site-packages (from jedi>=0.16->ipython>=6.1.0->ipywidgets->leafmap) (0.8.4)\n",
      "Requirement already satisfied: traittypes>=0.0.6 in c:\\users\\admin\\anaconda3\\envs\\se4g_project\\lib\\site-packages (from bqplot->leafmap) (0.2.1)\n",
      "Requirement already satisfied: python-dateutil>=2.8.2 in c:\\users\\admin\\anaconda3\\envs\\se4g_project\\lib\\site-packages (from pandas->leafmap) (2.9.0.post0)\n",
      "Requirement already satisfied: pytz>=2020.1 in c:\\users\\admin\\anaconda3\\envs\\se4g_project\\lib\\site-packages (from pandas->leafmap) (2024.1)\n",
      "Requirement already satisfied: tzdata>=2022.7 in c:\\users\\admin\\anaconda3\\envs\\se4g_project\\lib\\site-packages (from pandas->leafmap) (2025.2)\n",
      "Requirement already satisfied: six>=1.5 in c:\\users\\admin\\anaconda3\\envs\\se4g_project\\lib\\site-packages (from python-dateutil>=2.8.2->pandas->leafmap) (1.17.0)\n",
      "Requirement already satisfied: branca>=0.6.0 in c:\\users\\admin\\anaconda3\\envs\\se4g_project\\lib\\site-packages (from folium->leafmap) (0.6.0)\n",
      "Requirement already satisfied: jinja2>=2.9 in c:\\users\\admin\\anaconda3\\envs\\se4g_project\\lib\\site-packages (from folium->leafmap) (3.1.6)\n",
      "Requirement already satisfied: requests in c:\\users\\admin\\anaconda3\\envs\\se4g_project\\lib\\site-packages (from folium->leafmap) (2.32.3)\n",
      "Requirement already satisfied: MarkupSafe>=2.0 in c:\\users\\admin\\anaconda3\\envs\\se4g_project\\lib\\site-packages (from jinja2>=2.9->folium->leafmap) (3.0.2)\n",
      "Requirement already satisfied: beautifulsoup4 in c:\\users\\admin\\anaconda3\\envs\\se4g_project\\lib\\site-packages (from gdown->leafmap) (4.13.4)\n",
      "Requirement already satisfied: filelock in c:\\users\\admin\\anaconda3\\envs\\se4g_project\\lib\\site-packages (from gdown->leafmap) (3.18.0)\n",
      "Requirement already satisfied: tqdm in c:\\users\\admin\\anaconda3\\envs\\se4g_project\\lib\\site-packages (from gdown->leafmap) (4.67.1)\n",
      "Requirement already satisfied: soupsieve>1.2 in c:\\users\\admin\\anaconda3\\envs\\se4g_project\\lib\\site-packages (from beautifulsoup4->gdown->leafmap) (2.7)\n",
      "Requirement already satisfied: pyogrio>=0.7.2 in c:\\users\\admin\\anaconda3\\envs\\se4g_project\\lib\\site-packages (from geopandas->leafmap) (0.10.0)\n",
      "Requirement already satisfied: packaging in c:\\users\\admin\\anaconda3\\envs\\se4g_project\\lib\\site-packages (from geopandas->leafmap) (25.0)\n",
      "Requirement already satisfied: pyproj>=3.3.0 in c:\\users\\admin\\anaconda3\\envs\\se4g_project\\lib\\site-packages (from geopandas->leafmap) (3.6.1)\n",
      "Requirement already satisfied: shapely>=2.0.0 in c:\\users\\admin\\anaconda3\\envs\\se4g_project\\lib\\site-packages (from geopandas->leafmap) (2.0.6)\n",
      "Requirement already satisfied: certifi in c:\\users\\admin\\anaconda3\\envs\\se4g_project\\lib\\site-packages (from pyogrio>=0.7.2->geopandas->leafmap) (2025.4.26)\n",
      "Requirement already satisfied: jupyter-leaflet<0.20,>=0.19 in c:\\users\\admin\\anaconda3\\envs\\se4g_project\\lib\\site-packages (from ipyleaflet->leafmap) (0.19.2)\n",
      "Requirement already satisfied: ipyvue<2,>=1.7 in c:\\users\\admin\\anaconda3\\envs\\se4g_project\\lib\\site-packages (from ipyvuetify->leafmap) (1.11.2)\n",
      "Requirement already satisfied: click in c:\\users\\admin\\anaconda3\\envs\\se4g_project\\lib\\site-packages (from localtileserver->leafmap) (8.1.8)\n",
      "Requirement already satisfied: flask<4,>=2.0.0 in c:\\users\\admin\\anaconda3\\envs\\se4g_project\\lib\\site-packages (from localtileserver->leafmap) (3.0.3)\n",
      "Requirement already satisfied: Flask-Caching in c:\\users\\admin\\anaconda3\\envs\\se4g_project\\lib\\site-packages (from localtileserver->leafmap) (2.3.1)\n",
      "Requirement already satisfied: flask-cors in c:\\users\\admin\\anaconda3\\envs\\se4g_project\\lib\\site-packages (from localtileserver->leafmap) (6.0.0)\n",
      "Requirement already satisfied: flask-restx>=1.3.0 in c:\\users\\admin\\anaconda3\\envs\\se4g_project\\lib\\site-packages (from localtileserver->leafmap) (1.3.0)\n",
      "Requirement already satisfied: rio-tiler in c:\\users\\admin\\anaconda3\\envs\\se4g_project\\lib\\site-packages (from localtileserver->leafmap) (7.7.3.post1)\n",
      "Requirement already satisfied: rio-cogeo in c:\\users\\admin\\anaconda3\\envs\\se4g_project\\lib\\site-packages (from localtileserver->leafmap) (5.4.1)\n",
      "Requirement already satisfied: server-thread in c:\\users\\admin\\anaconda3\\envs\\se4g_project\\lib\\site-packages (from localtileserver->leafmap) (0.3.0)\n",
      "Requirement already satisfied: werkzeug in c:\\users\\admin\\anaconda3\\envs\\se4g_project\\lib\\site-packages (from localtileserver->leafmap) (3.0.6)\n",
      "Requirement already satisfied: itsdangerous>=2.1.2 in c:\\users\\admin\\anaconda3\\envs\\se4g_project\\lib\\site-packages (from flask<4,>=2.0.0->localtileserver->leafmap) (2.2.0)\n",
      "Requirement already satisfied: blinker>=1.6.2 in c:\\users\\admin\\anaconda3\\envs\\se4g_project\\lib\\site-packages (from flask<4,>=2.0.0->localtileserver->leafmap) (1.9.0)\n",
      "Requirement already satisfied: aniso8601>=0.82 in c:\\users\\admin\\anaconda3\\envs\\se4g_project\\lib\\site-packages (from flask-restx>=1.3.0->localtileserver->leafmap) (10.0.1)\n",
      "Requirement already satisfied: jsonschema in c:\\users\\admin\\anaconda3\\envs\\se4g_project\\lib\\site-packages (from flask-restx>=1.3.0->localtileserver->leafmap) (4.23.0)\n",
      "Requirement already satisfied: importlib-resources in c:\\users\\admin\\anaconda3\\envs\\se4g_project\\lib\\site-packages (from flask-restx>=1.3.0->localtileserver->leafmap) (6.5.2)\n",
      "Requirement already satisfied: cachelib>=0.9.0 in c:\\users\\admin\\anaconda3\\envs\\se4g_project\\lib\\site-packages (from Flask-Caching->localtileserver->leafmap) (0.13.0)\n",
      "Requirement already satisfied: attrs>=22.2.0 in c:\\users\\admin\\anaconda3\\envs\\se4g_project\\lib\\site-packages (from jsonschema->flask-restx>=1.3.0->localtileserver->leafmap) (24.3.0)\n",
      "Requirement already satisfied: jsonschema-specifications>=2023.03.6 in c:\\users\\admin\\anaconda3\\envs\\se4g_project\\lib\\site-packages (from jsonschema->flask-restx>=1.3.0->localtileserver->leafmap) (2025.4.1)\n",
      "Requirement already satisfied: referencing>=0.28.4 in c:\\users\\admin\\anaconda3\\envs\\se4g_project\\lib\\site-packages (from jsonschema->flask-restx>=1.3.0->localtileserver->leafmap) (0.36.2)\n",
      "Requirement already satisfied: rpds-py>=0.7.1 in c:\\users\\admin\\anaconda3\\envs\\se4g_project\\lib\\site-packages (from jsonschema->flask-restx>=1.3.0->localtileserver->leafmap) (0.25.1)\n",
      "Requirement already satisfied: contourpy>=1.0.1 in c:\\users\\admin\\anaconda3\\envs\\se4g_project\\lib\\site-packages (from matplotlib->leafmap) (1.3.1)\n",
      "Requirement already satisfied: cycler>=0.10 in c:\\users\\admin\\anaconda3\\envs\\se4g_project\\lib\\site-packages (from matplotlib->leafmap) (0.11.0)\n",
      "Requirement already satisfied: fonttools>=4.22.0 in c:\\users\\admin\\anaconda3\\envs\\se4g_project\\lib\\site-packages (from matplotlib->leafmap) (4.55.3)\n",
      "Requirement already satisfied: kiwisolver>=1.3.1 in c:\\users\\admin\\anaconda3\\envs\\se4g_project\\lib\\site-packages (from matplotlib->leafmap) (1.4.8)\n",
      "Requirement already satisfied: pillow>=8 in c:\\users\\admin\\anaconda3\\envs\\se4g_project\\lib\\site-packages (from matplotlib->leafmap) (11.1.0)\n",
      "Requirement already satisfied: pyparsing>=2.3.1 in c:\\users\\admin\\anaconda3\\envs\\se4g_project\\lib\\site-packages (from matplotlib->leafmap) (3.2.0)\n",
      "Requirement already satisfied: pooch>=1.7 in c:\\users\\admin\\anaconda3\\envs\\se4g_project\\lib\\site-packages (from opera-utils->leafmap) (1.8.2)\n",
      "Requirement already satisfied: tyro>=0.9 in c:\\users\\admin\\anaconda3\\envs\\se4g_project\\lib\\site-packages (from opera-utils->leafmap) (0.9.21)\n",
      "Requirement already satisfied: platformdirs>=2.5.0 in c:\\users\\admin\\anaconda3\\envs\\se4g_project\\lib\\site-packages (from pooch>=1.7->opera-utils->leafmap) (4.3.8)\n",
      "Requirement already satisfied: charset-normalizer<4,>=2 in c:\\users\\admin\\anaconda3\\envs\\se4g_project\\lib\\site-packages (from requests->folium->leafmap) (3.3.2)\n",
      "Requirement already satisfied: idna<4,>=2.5 in c:\\users\\admin\\anaconda3\\envs\\se4g_project\\lib\\site-packages (from requests->folium->leafmap) (3.7)\n",
      "Requirement already satisfied: urllib3<3,>=1.21.1 in c:\\users\\admin\\anaconda3\\envs\\se4g_project\\lib\\site-packages (from requests->folium->leafmap) (2.3.0)\n",
      "Requirement already satisfied: docstring-parser>=0.15 in c:\\users\\admin\\anaconda3\\envs\\se4g_project\\lib\\site-packages (from tyro>=0.9->opera-utils->leafmap) (0.16)\n",
      "Requirement already satisfied: rich>=11.1.0 in c:\\users\\admin\\anaconda3\\envs\\se4g_project\\lib\\site-packages (from tyro>=0.9->opera-utils->leafmap) (14.0.0)\n",
      "Requirement already satisfied: shtab>=1.5.6 in c:\\users\\admin\\anaconda3\\envs\\se4g_project\\lib\\site-packages (from tyro>=0.9->opera-utils->leafmap) (1.7.2)\n",
      "Requirement already satisfied: typeguard>=4.0.0 in c:\\users\\admin\\anaconda3\\envs\\se4g_project\\lib\\site-packages (from tyro>=0.9->opera-utils->leafmap) (4.4.2)\n",
      "Requirement already satisfied: markdown-it-py>=2.2.0 in c:\\users\\admin\\anaconda3\\envs\\se4g_project\\lib\\site-packages (from rich>=11.1.0->tyro>=0.9->opera-utils->leafmap) (3.0.0)\n",
      "Requirement already satisfied: mdurl~=0.1 in c:\\users\\admin\\anaconda3\\envs\\se4g_project\\lib\\site-packages (from markdown-it-py>=2.2.0->rich>=11.1.0->tyro>=0.9->opera-utils->leafmap) (0.1.2)\n",
      "Requirement already satisfied: narwhals>=1.15.1 in c:\\users\\admin\\anaconda3\\envs\\se4g_project\\lib\\site-packages (from plotly->leafmap) (1.40.0)\n",
      "Requirement already satisfied: pystac>=1.10.0 in c:\\users\\admin\\anaconda3\\envs\\se4g_project\\lib\\site-packages (from pystac[validation]>=1.10.0->pystac-client->leafmap) (1.13.0)\n",
      "Requirement already satisfied: PySocks!=1.5.7,>=1.5.6 in c:\\users\\admin\\anaconda3\\envs\\se4g_project\\lib\\site-packages (from requests[socks]->gdown->leafmap) (1.7.1)\n",
      "Requirement already satisfied: rasterio>=1.3.3 in c:\\users\\admin\\anaconda3\\envs\\se4g_project\\lib\\site-packages (from rio-cogeo->localtileserver->leafmap) (1.4.3)\n",
      "Requirement already satisfied: morecantile<7.0,>=5.0 in c:\\users\\admin\\anaconda3\\envs\\se4g_project\\lib\\site-packages (from rio-cogeo->localtileserver->leafmap) (6.2.0)\n",
      "Requirement already satisfied: pydantic~=2.0 in c:\\users\\admin\\anaconda3\\envs\\se4g_project\\lib\\site-packages (from rio-cogeo->localtileserver->leafmap) (2.11.5)\n",
      "Requirement already satisfied: annotated-types>=0.6.0 in c:\\users\\admin\\anaconda3\\envs\\se4g_project\\lib\\site-packages (from pydantic~=2.0->rio-cogeo->localtileserver->leafmap) (0.7.0)\n",
      "Requirement already satisfied: pydantic-core==2.33.2 in c:\\users\\admin\\anaconda3\\envs\\se4g_project\\lib\\site-packages (from pydantic~=2.0->rio-cogeo->localtileserver->leafmap) (2.33.2)\n",
      "Requirement already satisfied: typing-inspection>=0.4.0 in c:\\users\\admin\\anaconda3\\envs\\se4g_project\\lib\\site-packages (from pydantic~=2.0->rio-cogeo->localtileserver->leafmap) (0.4.1)\n",
      "Requirement already satisfied: affine in c:\\users\\admin\\anaconda3\\envs\\se4g_project\\lib\\site-packages (from rasterio>=1.3.3->rio-cogeo->localtileserver->leafmap) (2.3.0)\n",
      "Requirement already satisfied: cligj>=0.5 in c:\\users\\admin\\anaconda3\\envs\\se4g_project\\lib\\site-packages (from rasterio>=1.3.3->rio-cogeo->localtileserver->leafmap) (0.7.2)\n",
      "Requirement already satisfied: click-plugins in c:\\users\\admin\\anaconda3\\envs\\se4g_project\\lib\\site-packages (from rasterio>=1.3.3->rio-cogeo->localtileserver->leafmap) (1.1.1)\n",
      "Requirement already satisfied: cachetools in c:\\users\\admin\\anaconda3\\envs\\se4g_project\\lib\\site-packages (from rio-tiler->localtileserver->leafmap) (6.0.0)\n",
      "Requirement already satisfied: color-operations in c:\\users\\admin\\anaconda3\\envs\\se4g_project\\lib\\site-packages (from rio-tiler->localtileserver->leafmap) (0.2.0)\n",
      "Requirement already satisfied: httpx in c:\\users\\admin\\anaconda3\\envs\\se4g_project\\lib\\site-packages (from rio-tiler->localtileserver->leafmap) (0.28.1)\n",
      "Requirement already satisfied: numexpr in c:\\users\\admin\\anaconda3\\envs\\se4g_project\\lib\\site-packages (from rio-tiler->localtileserver->leafmap) (2.10.1)\n",
      "Requirement already satisfied: anyio in c:\\users\\admin\\anaconda3\\envs\\se4g_project\\lib\\site-packages (from httpx->rio-tiler->localtileserver->leafmap) (4.9.0)\n",
      "Requirement already satisfied: httpcore==1.* in c:\\users\\admin\\anaconda3\\envs\\se4g_project\\lib\\site-packages (from httpx->rio-tiler->localtileserver->leafmap) (1.0.9)\n",
      "Requirement already satisfied: h11>=0.16 in c:\\users\\admin\\anaconda3\\envs\\se4g_project\\lib\\site-packages (from httpcore==1.*->httpx->rio-tiler->localtileserver->leafmap) (0.16.0)\n",
      "Requirement already satisfied: sniffio>=1.1 in c:\\users\\admin\\anaconda3\\envs\\se4g_project\\lib\\site-packages (from anyio->httpx->rio-tiler->localtileserver->leafmap) (1.3.1)\n",
      "Requirement already satisfied: xarray>=2024.7.0 in c:\\users\\admin\\anaconda3\\envs\\se4g_project\\lib\\site-packages (from rioxarray->leafmap) (2025.4.0)\n",
      "Requirement already satisfied: uvicorn in c:\\users\\admin\\anaconda3\\envs\\se4g_project\\lib\\site-packages (from server-thread->localtileserver->leafmap) (0.34.2)\n",
      "Requirement already satisfied: executing>=1.2.0 in c:\\users\\admin\\anaconda3\\envs\\se4g_project\\lib\\site-packages (from stack_data->ipython>=6.1.0->ipywidgets->leafmap) (2.2.0)\n",
      "Requirement already satisfied: asttokens>=2.1.0 in c:\\users\\admin\\anaconda3\\envs\\se4g_project\\lib\\site-packages (from stack_data->ipython>=6.1.0->ipywidgets->leafmap) (3.0.0)\n",
      "Requirement already satisfied: pure_eval in c:\\users\\admin\\anaconda3\\envs\\se4g_project\\lib\\site-packages (from stack_data->ipython>=6.1.0->ipywidgets->leafmap) (0.2.3)\n",
      "Requirement already satisfied: ipytree in c:\\users\\admin\\anaconda3\\envs\\se4g_project\\lib\\site-packages (from whiteboxgui->leafmap) (0.2.2)\n",
      "Requirement already satisfied: whitebox in c:\\users\\admin\\anaconda3\\envs\\se4g_project\\lib\\site-packages (from whiteboxgui->leafmap) (2.3.6)\n",
      "Note: you may need to restart the kernel to use updated packages.\n"
     ]
    }
   ],
   "source": [
    "pip install leafmap\n"
   ]
  },
  {
   "cell_type": "code",
   "execution_count": 90,
   "id": "0ad7d734",
   "metadata": {},
   "outputs": [
    {
     "name": "stdout",
     "output_type": "stream",
     "text": [
      "Requirement already satisfied: nbformat in c:\\users\\admin\\anaconda3\\envs\\se4g_project\\lib\\site-packages (5.10.4)\n",
      "Requirement already satisfied: fastjsonschema>=2.15 in c:\\users\\admin\\anaconda3\\envs\\se4g_project\\lib\\site-packages (from nbformat) (2.21.1)\n",
      "Requirement already satisfied: jsonschema>=2.6 in c:\\users\\admin\\anaconda3\\envs\\se4g_project\\lib\\site-packages (from nbformat) (4.23.0)\n",
      "Requirement already satisfied: jupyter-core!=5.0.*,>=4.12 in c:\\users\\admin\\anaconda3\\envs\\se4g_project\\lib\\site-packages (from nbformat) (5.7.2)\n",
      "Requirement already satisfied: traitlets>=5.1 in c:\\users\\admin\\anaconda3\\envs\\se4g_project\\lib\\site-packages (from nbformat) (5.14.3)\n",
      "Requirement already satisfied: attrs>=22.2.0 in c:\\users\\admin\\anaconda3\\envs\\se4g_project\\lib\\site-packages (from jsonschema>=2.6->nbformat) (24.3.0)\n",
      "Requirement already satisfied: jsonschema-specifications>=2023.03.6 in c:\\users\\admin\\anaconda3\\envs\\se4g_project\\lib\\site-packages (from jsonschema>=2.6->nbformat) (2025.4.1)\n",
      "Requirement already satisfied: referencing>=0.28.4 in c:\\users\\admin\\anaconda3\\envs\\se4g_project\\lib\\site-packages (from jsonschema>=2.6->nbformat) (0.36.2)\n",
      "Requirement already satisfied: rpds-py>=0.7.1 in c:\\users\\admin\\anaconda3\\envs\\se4g_project\\lib\\site-packages (from jsonschema>=2.6->nbformat) (0.25.1)\n",
      "Requirement already satisfied: platformdirs>=2.5 in c:\\users\\admin\\anaconda3\\envs\\se4g_project\\lib\\site-packages (from jupyter-core!=5.0.*,>=4.12->nbformat) (4.3.8)\n",
      "Requirement already satisfied: pywin32>=300 in c:\\users\\admin\\anaconda3\\envs\\se4g_project\\lib\\site-packages (from jupyter-core!=5.0.*,>=4.12->nbformat) (307)\n",
      "Note: you may need to restart the kernel to use updated packages.\n"
     ]
    }
   ],
   "source": [
    "pip install nbformat"
   ]
  },
  {
   "cell_type": "code",
   "execution_count": 91,
   "id": "65892300",
   "metadata": {},
   "outputs": [],
   "source": [
    "import requests\n",
    "import pandas as pd\n",
    "import matplotlib.pyplot as plt\n",
    "import ipywidgets as widgets\n",
    "from IPython.display import display, clear_output\n",
    "\n",
    "\n",
    "# Utility Function to Read API Responses\n",
    "\n",
    "def read_response(response):\n",
    "    try:\n",
    "        return response.json()\n",
    "    except requests.exceptions.JSONDecodeError:\n",
    "        print(\"Invalid JSON response!\")\n",
    "        print(\"Response content:\", response.text)\n",
    "        return None\n",
    "\n",
    "\n",
    "# Get List of Available Provinces\n",
    "\n",
    "def get_provinces_list():\n",
    "    response = requests.get(\"http://127.0.0.1:5000/api/provinces\")\n",
    "    return read_response(response) or []\n",
    "\n",
    "\n",
    "# Get List of Available Municipalities\n",
    "\n",
    "def get_municipalities_list():\n",
    "    response = requests.get(\"http://127.0.0.1:5000/api/municipalities\")\n",
    "    return read_response(response) or []\n",
    "\n",
    "\n",
    "# Get List of Available Pollutants\n",
    "\n",
    "def get_pollutants_list():\n",
    "    response = requests.get(\"http://127.0.0.1:5000/api/pollutants\")\n",
    "    return read_response(response) or []\n",
    "\n",
    "\n",
    "# Call API to Get Data\n",
    "\n",
    "def get_data(tipo, nome, pollutant):\n",
    "    url = \"http://127.0.0.1:5000/api/DV_7comune\" if tipo == \"Comune\" else \"http://127.0.0.1:5000/api/DV_7provincia\"\n",
    "    payload = {\n",
    "        \"var_comune\": nome if tipo == \"Comune\" else None,\n",
    "        \"var_provincia\": nome if tipo == \"Provincia\" else None,\n",
    "        \"var_pollutant\": pollutant\n",
    "    }\n",
    "    payload = {k: v for k, v in payload.items() if v is not None}\n",
    "    response = requests.post(url, json=payload)\n",
    "    data = read_response(response)\n",
    "    return pd.DataFrame(data) if data else pd.DataFrame()\n",
    "\n",
    "\n",
    "# Dropdowns e Output UI (creazione degli elementi interattivi)\n",
    "\n",
    "tipo_dropdown = widgets.Dropdown(\n",
    "    options=[\"Comune\", \"Provincia\"],\n",
    "    description=\"Type:\",\n",
    "    value=\"Comune\"\n",
    ")\n",
    "\n",
    "nome_dropdown = widgets.Dropdown(\n",
    "    options=[],\n",
    "    description=\"Name:\"\n",
    ")\n",
    "\n",
    "pollutant_dropdown = widgets.Dropdown(\n",
    "    options=get_pollutants_list(),\n",
    "    description=\"pollutant:\"\n",
    ")\n",
    "\n",
    "output = widgets.Output()"
   ]
  },
  {
   "cell_type": "markdown",
   "id": "1b91d9d4",
   "metadata": {},
   "source": [
    "## DV-7 Pollutant comparison over same area\n",
    "The interface allow the user to select one province or one municipality and visualize the time series of each pollutant, the time series will be obtained calculating for each pollutant the daily average over the selected area."
   ]
  },
  {
   "cell_type": "code",
   "execution_count": 92,
   "id": "8e7e8406",
   "metadata": {},
   "outputs": [
    {
     "data": {
      "application/vnd.jupyter.widget-view+json": {
       "model_id": "a68c0a9b3a55444cb1c58f787c0a903f",
       "version_major": 2,
       "version_minor": 0
      },
      "text/plain": [
       "Dropdown(description='Type:', options=('Comune', 'Provincia'), value='Comune')"
      ]
     },
     "metadata": {},
     "output_type": "display_data"
    },
    {
     "data": {
      "application/vnd.jupyter.widget-view+json": {
       "model_id": "d2211851212445a5b014a86bcc3c4034",
       "version_major": 2,
       "version_minor": 0
      },
      "text/plain": [
       "Dropdown(description='Name:', options=('Abbadia Cerreto', 'Abbadia Lariana', 'Abbiategrasso', 'Acquafredda', '…"
      ]
     },
     "metadata": {},
     "output_type": "display_data"
    },
    {
     "data": {
      "application/vnd.jupyter.widget-view+json": {
       "model_id": "b6c3ab0fad8f4c609554eb3654b1a59b",
       "version_major": 2,
       "version_minor": 0
      },
      "text/plain": [
       "Dropdown(description='pollutant:', options=('Ammoniaca', 'Arsenico', 'Benzene', 'Benzo(a)pirene', 'Biossido di…"
      ]
     },
     "metadata": {},
     "output_type": "display_data"
    },
    {
     "data": {
      "application/vnd.jupyter.widget-view+json": {
       "model_id": "78f32a32667b47379c170c37688c9276",
       "version_major": 2,
       "version_minor": 0
      },
      "text/plain": [
       "Button(description='Show data', style=ButtonStyle())"
      ]
     },
     "metadata": {},
     "output_type": "display_data"
    },
    {
     "data": {
      "application/vnd.jupyter.widget-view+json": {
       "model_id": "ce0ef6cf7c4f4ef3911452dae7804ae5",
       "version_major": 2,
       "version_minor": 0
      },
      "text/plain": [
       "Output()"
      ]
     },
     "metadata": {},
     "output_type": "display_data"
    }
   ],
   "source": [
    "\n",
    "# Update list of names (comuni or provinces) (Questa funzione si attiva quando cambia la selezione nel dropdown)\n",
    "\n",
    "def aggiorna_lista_nomi(change):\n",
    "    if change['new'] == \"Comune\":\n",
    "        nome_dropdown.options = get_municipalities_list()\n",
    "    else:\n",
    "        nome_dropdown.options = get_provinces_list()\n",
    "\n",
    "tipo_dropdown.observe(aggiorna_lista_nomi, names='value')\n",
    "\n",
    "# First loading\n",
    "aggiorna_lista_nomi({'new': tipo_dropdown.value})\n",
    "\n",
    "\n",
    "# Show data and graph\n",
    "\n",
    "def mostra_dati(b):\n",
    "    with output:\n",
    "        clear_output() #rimuove eventuali risultati precedenti\n",
    "        tipo = tipo_dropdown.value \n",
    "        nome = nome_dropdown.value\n",
    "        inquinante = pollutant_dropdown.value #leggo tutti gli elementi dei 3 dropdown\n",
    "\n",
    "        if not nome:\n",
    "            print(\"Please select a valid name.\")\n",
    "            return\n",
    "        if not inquinante:\n",
    "            print(\"Select a pollutant.\")\n",
    "            return #se nome o inquinante non sono selezionati ci dice di selezionare un nome o un inquinante valido \n",
    "\n",
    "        df = get_data(tipo, nome, inquinante) #richiamo funzione \n",
    "        if df.empty: #se il dataframe è vuoto\n",
    "            print(f\"No data found for {tipo} '{nome}' e inquinante '{inquinante}'.\")\n",
    "            return\n",
    "\n",
    "        display(df)\n",
    "\n",
    "        # Plot\n",
    "        df['data'] = pd.to_datetime(df['data']) #converte data nel formato datatime\n",
    "        df = df.sort_values('data') #ordina dati per data\n",
    "        plt.figure(figsize=(10, 4))\n",
    "        plt.plot(df['data'], df['valore'], marker='.')\n",
    "        plt.title(f\"Time series of {inquinante} - {tipo}: {nome}\")\n",
    "        plt.xlabel(\"Date\")\n",
    "        plt.ylabel(\"Average value\")\n",
    "        plt.grid(True)\n",
    "        plt.tight_layout()\n",
    "        plt.show()\n",
    "\n",
    "# -----------------------------\n",
    "# button and display\n",
    "# -----------------------------\n",
    "button = widgets.Button(description=\"Show data\")\n",
    "button.on_click(mostra_dati)\n",
    "\n",
    "display(tipo_dropdown, nome_dropdown, pollutant_dropdown, button, output)"
   ]
  },
  {
   "cell_type": "markdown",
   "id": "c9f23bf9",
   "metadata": {},
   "source": [
    "## DV-8 Average concentration – map\n",
    "The interface allow the user to choose a pollutant and a time window and visualize the average concentration of the selected pollutant over the selected time"
   ]
  },
  {
   "cell_type": "code",
   "execution_count": 93,
   "id": "35abd2ed",
   "metadata": {},
   "outputs": [
    {
     "data": {
      "application/vnd.jupyter.widget-view+json": {
       "model_id": "52237789813d4054b6dab6f3d74ad5b2",
       "version_major": 2,
       "version_minor": 0
      },
      "text/plain": [
       "Dropdown(description='Pollutant:', options=('Ammoniaca', 'Arsenico', 'Benzene', 'Benzo(a)pirene', 'Biossido di…"
      ]
     },
     "metadata": {},
     "output_type": "display_data"
    },
    {
     "data": {
      "application/vnd.jupyter.widget-view+json": {
       "model_id": "3c89b96437e24b8ca1ba787c1119a83a",
       "version_major": 2,
       "version_minor": 0
      },
      "text/plain": [
       "DatePicker(value=None, description='Start day:', step=1)"
      ]
     },
     "metadata": {},
     "output_type": "display_data"
    },
    {
     "data": {
      "application/vnd.jupyter.widget-view+json": {
       "model_id": "7e4e1eb22abf4d12a2f2409fc23fab66",
       "version_major": 2,
       "version_minor": 0
      },
      "text/plain": [
       "DatePicker(value=None, description='End day:', step=1)"
      ]
     },
     "metadata": {},
     "output_type": "display_data"
    },
    {
     "data": {
      "application/vnd.jupyter.widget-view+json": {
       "model_id": "ec323465ac3d40bab2e038ee08b3a92b",
       "version_major": 2,
       "version_minor": 0
      },
      "text/plain": [
       "Button(description='Show resoults', style=ButtonStyle())"
      ]
     },
     "metadata": {},
     "output_type": "display_data"
    },
    {
     "data": {
      "application/vnd.jupyter.widget-view+json": {
       "model_id": "bbc1389b7a32465284a50a6b0db6152a",
       "version_major": 2,
       "version_minor": 0
      },
      "text/plain": [
       "Output()"
      ]
     },
     "metadata": {},
     "output_type": "display_data"
    }
   ],
   "source": [
    "# -----------------------------\n",
    "# Call API to Get DV-8 Data\n",
    "# -----------------------------\n",
    "def get_dv8_data(pollutant, start_date, end_date):\n",
    "    url = \"http://127.0.0.1:5000/api/DV_8\"\n",
    "    payload = {\n",
    "        \"pollutant\": pollutant,\n",
    "        \"start_date\": start_date.isoformat(),\n",
    "        \"end_date\": end_date.isoformat()\n",
    "    } #qui preparo il PAYLOAD ovvero i dati da mandare alla POST\n",
    "    response = requests.post(url, json=payload) #manda richiesta\n",
    "    data = read_response(response) #usa funzione per leggere la risposta\n",
    "    return pd.DataFrame(data) if data else pd.DataFrame()\n",
    "\n",
    "# -----------------------------\n",
    "# Widgets for DV-8\n",
    "# -----------------------------\n",
    "pollutant_dropdown_dv8 = widgets.Dropdown(\n",
    "    options=get_pollutants_list(),\n",
    "    description=\"Pollutant:\"\n",
    ") #dropdown per selezionare l'inquinante\n",
    "\n",
    "start_date_picker = widgets.DatePicker(\n",
    "    description='Start day:',\n",
    "    disabled=False\n",
    ") #dropdown per selezionare data\n",
    "\n",
    "end_date_picker = widgets.DatePicker(\n",
    "    description='End day:',\n",
    "    disabled=False\n",
    ")#dropdown per selezionare data\n",
    "\n",
    "button_dv8 = widgets.Button(\n",
    "    description=\"Show resoults\"\n",
    ")\n",
    "\n",
    "output_dv8 = widgets.Output()\n",
    "\n",
    "\n",
    "# Event Handler for DV-8\n",
    "\n",
    "def on_dv8_button_click(b):\n",
    "    with output_dv8:\n",
    "        clear_output() #pulisce output\n",
    "        pollutant = pollutant_dropdown_dv8.value\n",
    "        start_date = start_date_picker.value\n",
    "        end_date = end_date_picker.value #leggo i valori del widjet\n",
    "\n",
    "        if not pollutant or not start_date or not end_date:\n",
    "            print(\"Select pollutant, start date and end date.\")\n",
    "            return\n",
    "\n",
    "        if start_date > end_date:\n",
    "            print(\"The start date must be before the end date.\")\n",
    "            return\n",
    "\n",
    "        df = get_dv8_data(pollutant, start_date, end_date) #richiamo l'api\n",
    "\n",
    "        if df.empty:\n",
    "            print(\"No data found.\")\n",
    "            return\n",
    "\n",
    "        display(df)\n",
    "\n",
    "        \n",
    "\n",
    "button_dv8.on_click(on_dv8_button_click)\n",
    "\n",
    "\n",
    "# View interface\n",
    "\n",
    "display(pollutant_dropdown_dv8, start_date_picker, end_date_picker, button_dv8, output_dv8)\n"
   ]
  },
  {
   "cell_type": "code",
   "execution_count": 94,
   "id": "dcc2704b",
   "metadata": {},
   "outputs": [
    {
     "data": {
      "application/vnd.jupyter.widget-view+json": {
       "model_id": "c09c0c10d42a4a25afaa04551a62669a",
       "version_major": 2,
       "version_minor": 0
      },
      "text/plain": [
       "Dropdown(description='Inquinante:', options=('Ammoniaca', 'Arsenico', 'Benzene', 'Benzo(a)pirene', 'Biossido d…"
      ]
     },
     "metadata": {},
     "output_type": "display_data"
    },
    {
     "data": {
      "application/vnd.jupyter.widget-view+json": {
       "model_id": "1d48801286bf41b9b1d27bcc3ebb6c8b",
       "version_major": 2,
       "version_minor": 0
      },
      "text/plain": [
       "DatePicker(value=None, description='Data inizio:', step=1)"
      ]
     },
     "metadata": {},
     "output_type": "display_data"
    },
    {
     "data": {
      "application/vnd.jupyter.widget-view+json": {
       "model_id": "acb17c45cd9144a086c21d29b8b2bb52",
       "version_major": 2,
       "version_minor": 0
      },
      "text/plain": [
       "DatePicker(value=None, description='Data fine:', step=1)"
      ]
     },
     "metadata": {},
     "output_type": "display_data"
    },
    {
     "data": {
      "application/vnd.jupyter.widget-view+json": {
       "model_id": "07f3981a7ff7468e8b06b2d2efd3d192",
       "version_major": 2,
       "version_minor": 0
      },
      "text/plain": [
       "Button(description='Mostra risultati', style=ButtonStyle())"
      ]
     },
     "metadata": {},
     "output_type": "display_data"
    },
    {
     "data": {
      "application/vnd.jupyter.widget-view+json": {
       "model_id": "1e8a35d5625b45b89377fae834c6b5ac",
       "version_major": 2,
       "version_minor": 0
      },
      "text/plain": [
       "Output()"
      ]
     },
     "metadata": {},
     "output_type": "display_data"
    }
   ],
   "source": [
    "import pandas as pd\n",
    "import geopandas as gpd\n",
    "import requests\n",
    "from shapely import wkt\n",
    "import folium\n",
    "import ipywidgets as widgets\n",
    "from IPython.display import display, clear_output\n",
    "import plotly.express as px\n",
    "\n",
    "# -----------------------------\n",
    "# Helpers\n",
    "# -----------------------------\n",
    "\n",
    "def read_response(response):\n",
    "    if response.status_code == 200:\n",
    "        return response.json()\n",
    "    return None\n",
    "\n",
    "def get_pollutants_list():\n",
    "    response = requests.get(\"http://127.0.0.1:5000/api/pollutants\")\n",
    "    return read_response(response) or []\n",
    "\n",
    "def get_provinces_list():\n",
    "    response = requests.get(\"http://127.0.0.1:5000/api/provinces\")\n",
    "    return read_response(response) or []\n",
    "\n",
    "def get_dv8_data(pollutant, start_date, end_date):\n",
    "    url = \"http://127.0.0.1:5000/api/DV_8\"\n",
    "    payload = {\n",
    "        \"pollutant\": pollutant,\n",
    "        \"start_date\": start_date.isoformat(),\n",
    "        \"end_date\": end_date.isoformat()\n",
    "    }\n",
    "    response = requests.post(url, json=payload)\n",
    "    data = read_response(response)\n",
    "    return pd.DataFrame(data) if data else pd.DataFrame()\n",
    "\n",
    "def get_all_province_shapes():\n",
    "    url = \"http://127.0.0.1:5000/api/province_shape\"\n",
    "    response = requests.get(url)\n",
    "    data = read_response(response)\n",
    "    if data:\n",
    "        df = pd.DataFrame(data)\n",
    "        df[\"geometry\"] = df[\"geometry_province\"].apply(wkt.loads)\n",
    "        return gpd.GeoDataFrame(df, geometry=\"geometry\", crs=\"EPSG:4326\")\n",
    "    else:\n",
    "        return gpd.GeoDataFrame(columns=[\"geometry\"], geometry=\"geometry\", crs=\"EPSG:4326\")\n",
    "\n",
    "# -----------------------------\n",
    "# Widgets\n",
    "# -----------------------------\n",
    "\n",
    "pollutant_dropdown_dv8 = widgets.Dropdown(\n",
    "    options=get_pollutants_list(),\n",
    "    description=\"Inquinante:\"\n",
    ")\n",
    "\n",
    "start_date_picker = widgets.DatePicker(\n",
    "    description='Data inizio:',\n",
    "    disabled=False\n",
    ")\n",
    "\n",
    "end_date_picker = widgets.DatePicker(\n",
    "    description='Data fine:',\n",
    "    disabled=False\n",
    ")\n",
    "\n",
    "button_dv8 = widgets.Button(\n",
    "    description=\"Mostra risultati\"\n",
    ")\n",
    "\n",
    "output_dv8 = widgets.Output()\n",
    "\n",
    "# -----------------------------\n",
    "# Event Handler\n",
    "# -----------------------------\n",
    "\n",
    "def on_dv8_button_click(b):\n",
    "    with output_dv8:\n",
    "        clear_output()\n",
    "\n",
    "        pollutant = pollutant_dropdown_dv8.value\n",
    "        start_date = start_date_picker.value\n",
    "        end_date = end_date_picker.value\n",
    "\n",
    "        if not pollutant or not start_date or not end_date:\n",
    "            print(\"Seleziona inquinante, data inizio e data fine.\")\n",
    "            return\n",
    "\n",
    "        if start_date > end_date:\n",
    "            print(\"La data di inizio deve precedere quella di fine.\")\n",
    "            return\n",
    "\n",
    "        df = get_dv8_data(pollutant, start_date, end_date)\n",
    "\n",
    "        if df.empty:\n",
    "            print(\"Nessun dato trovato.\")\n",
    "            return\n",
    "\n",
    "        display(df)\n",
    "\n",
    "        fig = px.bar(df, x='province', y='average_value',\n",
    "                     title=f\"Media {pollutant} per provincia\",\n",
    "                     labels={'province': 'Provincia', 'average_value': 'Valore medio'})\n",
    "        fig.show()\n",
    "\n",
    "        try:\n",
    "            provinces_gdf = get_all_province_shapes()\n",
    "            provinces_list = get_provinces_list()\n",
    "\n",
    "            if len(provinces_list) != len(provinces_gdf):\n",
    "                print(\"Numero province e geometrie non corrisponde.\")\n",
    "                return\n",
    "\n",
    "            provinces_gdf[\"prov_upper\"] = [p.upper().strip() for p in provinces_list]\n",
    "            provinces_gdf[\"prov_name\"] = provinces_list\n",
    "\n",
    "            df[\"prov_upper\"] = df[\"province\"].str.upper().str.strip()\n",
    "            provinces_gdf[\"has_data\"] = provinces_gdf[\"prov_upper\"].isin(df[\"prov_upper\"])\n",
    "\n",
    "            max_row = df.loc[df[\"average_value\"].idxmax()]\n",
    "            prov_max = max_row[\"province\"].upper().strip()\n",
    "            max_val = max_row[\"average_value\"]\n",
    "\n",
    "            m = folium.Map(location=[45.64, 9.60], zoom_start=8, tiles=\"cartodbpositron\")\n",
    "\n",
    "            for _, row in provinces_gdf.iterrows():\n",
    "                geom = row[\"geometry\"]\n",
    "                nome_prov = row[\"prov_name\"]\n",
    "                upper_name = row[\"prov_upper\"]\n",
    "                has_data = row[\"has_data\"]\n",
    "\n",
    "                if upper_name == prov_max:\n",
    "                    color = \"red\"\n",
    "                    tooltip = f\"<b>{nome_prov}</b><br>Più inquinata<br>Media: {max_val:.2f}\"\n",
    "                elif has_data:\n",
    "                    avg = df[df[\"prov_upper\"] == upper_name][\"average_value\"].values[0]\n",
    "                    color = \"lightblue\"\n",
    "                    tooltip = f\"{nome_prov}<br>Media: {avg:.2f}\"\n",
    "                else:\n",
    "                    color = \"lightgray\"\n",
    "                    tooltip = nome_prov\n",
    "\n",
    "                folium.GeoJson(\n",
    "                    geom.__geo_interface__,\n",
    "                    style_function=lambda feature, c=color: {\n",
    "                        \"fillColor\": c,\n",
    "                        \"color\": \"black\",\n",
    "                        \"weight\": 1,\n",
    "                        \"fillOpacity\": 0.7\n",
    "                    },\n",
    "                    tooltip=folium.Tooltip(tooltip)\n",
    "                ).add_to(m)\n",
    "\n",
    "            folium.LayerControl().add_to(m)\n",
    "            display(m)\n",
    "\n",
    "        except Exception as e:\n",
    "            print(\"Errore nella visualizzazione della mappa:\", e)\n",
    "\n",
    "# -----------------------------\n",
    "# Collegamento e UI\n",
    "# -----------------------------\n",
    "\n",
    "button_dv8.on_click(on_dv8_button_click)\n",
    "display(pollutant_dropdown_dv8, start_date_picker, end_date_picker, button_dv8, output_dv8)"
   ]
  },
  {
   "cell_type": "code",
   "execution_count": 97,
   "id": "c48154be",
   "metadata": {},
   "outputs": [
    {
     "data": {
      "application/vnd.jupyter.widget-view+json": {
       "model_id": "e67c078e2e3a4944bbf785414dc6a6b5",
       "version_major": 2,
       "version_minor": 0
      },
      "text/plain": [
       "Dropdown(description='Pollutant:', options=('Ammoniaca', 'Arsenico', 'Benzene', 'Benzo(a)pirene', 'Biossido di…"
      ]
     },
     "metadata": {},
     "output_type": "display_data"
    },
    {
     "data": {
      "application/vnd.jupyter.widget-view+json": {
       "model_id": "9444821d7af84b6d917fc995ff9f60e4",
       "version_major": 2,
       "version_minor": 0
      },
      "text/plain": [
       "DatePicker(value=None, description='Start date:', step=1)"
      ]
     },
     "metadata": {},
     "output_type": "display_data"
    },
    {
     "data": {
      "application/vnd.jupyter.widget-view+json": {
       "model_id": "c7acfe45e17f4213b549a52e5dbc9b13",
       "version_major": 2,
       "version_minor": 0
      },
      "text/plain": [
       "DatePicker(value=None, description='End date:', step=1)"
      ]
     },
     "metadata": {},
     "output_type": "display_data"
    },
    {
     "data": {
      "application/vnd.jupyter.widget-view+json": {
       "model_id": "9a48d1bc05be439a8d5c8f66f0d13402",
       "version_major": 2,
       "version_minor": 0
      },
      "text/plain": [
       "Button(description='Show results', style=ButtonStyle())"
      ]
     },
     "metadata": {},
     "output_type": "display_data"
    },
    {
     "data": {
      "application/vnd.jupyter.widget-view+json": {
       "model_id": "49688cb04a0246439cb56f862b149ba2",
       "version_major": 2,
       "version_minor": 0
      },
      "text/plain": [
       "Output()"
      ]
     },
     "metadata": {},
     "output_type": "display_data"
    }
   ],
   "source": [
    "import pandas as pd\n",
    "import geopandas as gpd\n",
    "import requests\n",
    "from shapely import wkt\n",
    "import folium\n",
    "import ipywidgets as widgets\n",
    "from IPython.display import display, clear_output\n",
    "import plotly.express as px\n",
    "\n",
    "# -----------------------------\n",
    "# Utility to Read API Response\n",
    "# -----------------------------\n",
    "def read_response(response):\n",
    "    if response.status_code == 200:\n",
    "        return response.json()\n",
    "    return None\n",
    "\n",
    "# -----------------------------\n",
    "# API Calls\n",
    "# -----------------------------\n",
    "def get_pollutants_list():\n",
    "    response = requests.get(\"http://127.0.0.1:5000/api/pollutants\")\n",
    "    return read_response(response) or []\n",
    "\n",
    "def get_dv8_data(pollutant, start_date, end_date):\n",
    "    url = \"http://127.0.0.1:5000/api/DV_8\"\n",
    "    payload = {\n",
    "        \"pollutant\": pollutant,\n",
    "        \"start_date\": start_date.isoformat(),\n",
    "        \"end_date\": end_date.isoformat()\n",
    "    }\n",
    "    response = requests.post(url, json=payload)\n",
    "    data = read_response(response)\n",
    "    return pd.DataFrame(data) if data else pd.DataFrame()\n",
    "\n",
    "def get_all_province_shapes_v2():\n",
    "    url = \"http://127.0.0.1:5000/api/province_shape_v2\"\n",
    "    response = requests.get(url)\n",
    "    data = read_response(response)\n",
    "    if data:\n",
    "        df = pd.DataFrame(data)\n",
    "        df[\"geometry\"] = df[\"geometry_province_wkt\"].apply(wkt.loads)\n",
    "        return gpd.GeoDataFrame(df, geometry=\"geometry\", crs=\"EPSG:4326\")\n",
    "    return gpd.GeoDataFrame(columns=[\"nome_provincia\", \"geometry\"], geometry=\"geometry\", crs=\"EPSG:4326\")\n",
    "\n",
    "# -----------------------------\n",
    "# Widgets for DV-8\n",
    "# -----------------------------\n",
    "pollutant_dropdown_dv8 = widgets.Dropdown(\n",
    "    options=get_pollutants_list(),\n",
    "    description=\"Pollutant:\"\n",
    ")\n",
    "\n",
    "start_date_picker = widgets.DatePicker(\n",
    "    description='Start date:',\n",
    "    disabled=False\n",
    ")\n",
    "\n",
    "end_date_picker = widgets.DatePicker(\n",
    "    description='End date:',\n",
    "    disabled=False\n",
    ")\n",
    "\n",
    "button_dv8 = widgets.Button(description=\"Show results\")\n",
    "output_dv8 = widgets.Output()\n",
    "\n",
    "# -----------------------------\n",
    "# Event Handler\n",
    "# -----------------------------\n",
    "def on_dv8_button_click(b):\n",
    "    with output_dv8:\n",
    "        clear_output()\n",
    "        pollutant = pollutant_dropdown_dv8.value\n",
    "        start_date = start_date_picker.value\n",
    "        end_date = end_date_picker.value\n",
    "\n",
    "        if not pollutant or not start_date or not end_date:\n",
    "            print(\"Select pollutant, start date and end date.\")\n",
    "            return\n",
    "        if start_date > end_date:\n",
    "            print(\"The start date must be before the end date.\")\n",
    "            return\n",
    "\n",
    "        df = get_dv8_data(pollutant, start_date, end_date)\n",
    "\n",
    "        if df.empty:\n",
    "            print(\"No data found.\")\n",
    "            return\n",
    "\n",
    "        display(df)\n",
    "\n",
    "        # Plotly bar chart\n",
    "        fig = px.bar(df, x='province', y='average_value',\n",
    "                     title=f\"Average {pollutant} by Province\",\n",
    "                     labels={'province': 'Province', 'average_value': 'Average Value'})\n",
    "        fig.show()\n",
    "\n",
    "        # Map\n",
    "        try:\n",
    "            provinces_gdf = get_all_province_shapes_v2()\n",
    "            df[\"prov_upper\"] = df[\"province\"].str.upper().str.strip()\n",
    "            provinces_gdf[\"prov_upper\"] = provinces_gdf[\"nome_provincia\"].str.upper().str.strip()\n",
    "\n",
    "            merged_gdf = provinces_gdf.merge(df, on=\"prov_upper\", how=\"left\")\n",
    "\n",
    "            if merged_gdf[\"average_value\"].dropna().empty:\n",
    "                print(\"No data available for map.\")\n",
    "                return\n",
    "\n",
    "            max_row = merged_gdf.loc[merged_gdf[\"average_value\"].idxmax()]\n",
    "            prov_max = max_row[\"prov_upper\"]\n",
    "            max_val = max_row[\"average_value\"]\n",
    "\n",
    "            m = folium.Map(location=[45.64, 9.60], zoom_start=8, tiles=\"OpenStreetMap\")\n",
    "\n",
    "            for _, row in merged_gdf.iterrows():\n",
    "                geom = row[\"geometry\"]\n",
    "                nome_prov = row[\"nome_provincia\"]\n",
    "                has_data = pd.notna(row[\"average_value\"])\n",
    "\n",
    "                if row[\"prov_upper\"] == prov_max:\n",
    "                    color = \"red\"\n",
    "                    tooltip = f\"<b>{nome_prov}</b><br>Most polluted<br>Average: {max_val:.2f}\"\n",
    "                elif has_data:\n",
    "                    color = \"lightblue\"\n",
    "                    tooltip = f\"{nome_prov}<br>Average: {row['average_value']:.2f}\"\n",
    "                else:\n",
    "                    color = \"lightgray\"\n",
    "                    tooltip = nome_prov\n",
    "\n",
    "                folium.GeoJson(\n",
    "                    geom.__geo_interface__,\n",
    "                    style_function=lambda feature, c=color: {\n",
    "                        \"fillColor\": c,\n",
    "                        \"color\": \"black\",\n",
    "                        \"weight\": 1,\n",
    "                        \"fillOpacity\": 0.7\n",
    "                    },\n",
    "                    tooltip=folium.Tooltip(tooltip)\n",
    "                ).add_to(m)\n",
    "\n",
    "            display(m)\n",
    "\n",
    "        except Exception as e:\n",
    "            print(\"Error displaying map:\", e)\n",
    "\n",
    "# -----------------------------\n",
    "# Display UI\n",
    "# -----------------------------\n",
    "button_dv8.on_click(on_dv8_button_click)\n",
    "display(pollutant_dropdown_dv8, start_date_picker, end_date_picker, button_dv8, output_dv8)\n"
   ]
  }
 ],
 "metadata": {
  "kernelspec": {
   "display_name": "se4g_project",
   "language": "python",
   "name": "python3"
  },
  "language_info": {
   "codemirror_mode": {
    "name": "ipython",
    "version": 3
   },
   "file_extension": ".py",
   "mimetype": "text/x-python",
   "name": "python",
   "nbconvert_exporter": "python",
   "pygments_lexer": "ipython3",
   "version": "3.13.2"
  }
 },
 "nbformat": 4,
 "nbformat_minor": 5
}
